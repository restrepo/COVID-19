{
 "cells": [
  {
   "cell_type": "markdown",
   "metadata": {
    "colab_type": "text",
    "id": "view-in-github"
   },
   "source": [
    "<a href=\"https://colab.research.google.com/github/restrepo/COVID-19/blob/master/covid_analysis.ipynb\" target=\"_parent\"><img src=\"https://colab.research.google.com/assets/colab-badge.svg\" alt=\"Open In Colab\"/></a>"
   ]
  },
  {
   "cell_type": "markdown",
   "metadata": {
    "colab_type": "text",
    "id": "AyVdvXDHSegL"
   },
   "source": [
    "# Covid-19 data"
   ]
  },
  {
   "cell_type": "markdown",
   "metadata": {
    "colab_type": "text",
    "id": "mgzzuuteSegO"
   },
   "source": [
    "Use of [public Covid-19 in GitHub](https://github.com/CSSEGISandData/COVID-19) data from: \n",
    "[Center for Systems Science and Engineering (CSSE)](https://systems.jhu.edu/):\n",
    "\n",
    "* Hongru Du, Lauren Gardner, and Ensheng Dong, An interactive web-based dashboard to track COVID-19 in real time, http://www.thelancet.com/infection Published:February 19, 2020, DOI:https://doi.org/10.1016/S1473-3099(20)30120-1\n",
    "\n",
    "As an example of use of the data, we want to reproduce the results of:\n",
    "* [Así evoluciona la curva del Coronavirus en España y en cada CCAA](https://elpais.com/sociedad/2020/03/13/actualidad/1584091954_865510.html)\n",
    "\n",
    "<img src='https://github.com/restrepo/Covid-19/blob/master/img/elpais.png?raw=1' height=\"80\" >\n",
    "\n",
    "and to make similar plots for other countries\n"
   ]
  },
  {
   "cell_type": "code",
   "execution_count": 53,
   "metadata": {
    "colab": {
     "base_uri": "https://localhost:8080/",
     "height": 34
    },
    "colab_type": "code",
    "id": "CETEHcSKSegP",
    "outputId": "9b9fa2a2-0a20-4001-e5d0-42df79f9a467"
   },
   "outputs": [
    {
     "name": "stdout",
     "output_type": "stream",
     "text": [
      "Populating the interactive namespace from numpy and matplotlib\n"
     ]
    }
   ],
   "source": [
    "%pylab inline"
   ]
  },
  {
   "cell_type": "code",
   "execution_count": 54,
   "metadata": {
    "colab": {},
    "colab_type": "code",
    "id": "ayDS570kSegT"
   },
   "outputs": [],
   "source": [
    "import pandas as pd\n",
    "import re\n",
    "#See https://strftime.org/\n",
    "import datetime\n",
    "import time\n",
    "import numpy as np\n",
    "from scipy import optimize as opt\n",
    "import warnings\n",
    "warnings.filterwarnings(\"ignore\")"
   ]
  },
  {
   "cell_type": "code",
   "execution_count": 55,
   "metadata": {
    "colab": {},
    "colab_type": "code",
    "id": "0T7aE4JgoGJI"
   },
   "outputs": [],
   "source": [
    "def exponential_model(x,a,b,c):\n",
    "    return a*np.exp(b*(x-c))\n",
    "\n",
    "def logistic_model(x,a,b,c):\n",
    "    return c/(1+np.exp(-(x-b)/a))\n",
    "\n",
    "def date_range(date_start='2/23/20',date_end='3/03/20',date_step=1,\n",
    "               strptime_format=\"%m/%d/%y\",\n",
    "               strftime_format=\"%-m/%-d/%y\"):\n",
    "    dr=[]\n",
    "    start = datetime.datetime.strptime(date_start,strptime_format )\n",
    "    end = datetime.datetime.strptime(date_end,strptime_format)\n",
    "    step = datetime.timedelta(days=date_step)\n",
    "    while start <= end:\n",
    "        #avoid leading zeroes: https://stackoverflow.com/a/2073189/2268280\n",
    "        dr.append(start.strftime(strftime_format))\n",
    "        start += step\n",
    "    return dr    \n",
    "    \n",
    "def index_field(df,column,filter=None):\n",
    "    '''\n",
    "    WARNING: Nonumerical columns are dropped\n",
    "    \n",
    "    Parameters:\n",
    "    ----------\n",
    "    filter: list, default None\n",
    "        Select only the columns in this list\n",
    "    '''\n",
    "    dff=df.copy()\n",
    "    if filter:\n",
    "        dff=df[[column]+list(filter)]\n",
    "    return dff.groupby(column).sum()"
   ]
  },
  {
   "cell_type": "markdown",
   "metadata": {
    "colab_type": "text",
    "id": "YhCXT6zdSegW"
   },
   "source": [
    "## Load data"
   ]
  },
  {
   "cell_type": "code",
   "execution_count": 56,
   "metadata": {
    "colab": {},
    "colab_type": "code",
    "id": "0_gnDzNISegX"
   },
   "outputs": [],
   "source": [
    "ALL_DATA=True\n",
    "cvd=None\n",
    "cvr=None\n",
    "DataSource='https://raw.githubusercontent.com/CSSEGISandData/COVID-19/'\n",
    "DataDir='master/csse_covid_19_data/csse_covid_19_time_series/'\n",
    "DataFile='time_series_covid19_confirmed_global.csv'\n",
    "cva=pd.read_csv('{}{}{}'.format(DataSource,DataDir,DataFile))\n",
    "cva=cva.reset_index(drop=True)\n",
    "if ALL_DATA:\n",
    "    DataDeaths='time_series_covid19_deaths_global.csv'\n",
    "    time.sleep(1)\n",
    "    cvd=pd.read_csv('{}{}{}'.format(DataSource,DataDir,DataDeaths))\n",
    "    cvd=cvd.reset_index(drop=True)\n",
    "    #DEPRECATED\n",
    "    #time.sleep(1)\n",
    "    #DataRecovered='time_series_19-covid-Recovered.csv'\n",
    "    #cvr=pd.read_csv('{}{}{}'.format(DataSource,DataDir,DataRecovered))\n",
    "    #cvr=cvr.reset_index(drop=True)\n",
    "\n",
    "#Special cases\n",
    "c='Hong Kong'\n",
    "try:\n",
    "    cva.loc[cva[cva['Province/State']==c].index[0],'Country/Region']=c\n",
    "    cvd.loc[cvd[cvd['Province/State']==c].index[0],'Country/Region']=c\n",
    "except IndexError:\n",
    "    pass    "
   ]
  },
  {
   "cell_type": "code",
   "execution_count": 57,
   "metadata": {
    "colab": {},
    "colab_type": "code",
    "id": "rM2UZ2_5wXx0"
   },
   "outputs": [],
   "source": [
    "dc=[ c for c in cva.columns if re.search(r'^[0-9]{1,2}\\/[0-9]{1,2}\\/[1920]{2}',c)]\n",
    "if cvd is not None:\n",
    "    dd=[ c for c in cvd.columns if re.search(r'^[0-9]{1,2}\\/[0-9]{1,2}\\/[1920]{2}',c)]"
   ]
  },
  {
   "cell_type": "code",
   "execution_count": 58,
   "metadata": {
    "colab": {
     "base_uri": "https://localhost:8080/",
     "height": 300
    },
    "colab_type": "code",
    "id": "WxS_RTNWxKBb",
    "outputId": "5695fee8-446c-4c16-fa1a-9358975828a4"
   },
   "outputs": [
    {
     "ename": "OverflowError",
     "evalue": "cannot convert float infinity to integer",
     "output_type": "error",
     "traceback": [
      "\u001b[0;31m---------------------------------------------------------------------------\u001b[0m",
      "\u001b[0;31mOverflowError\u001b[0m                             Traceback (most recent call last)",
      "\u001b[0;32m<ipython-input-58-208f7506755a>\u001b[0m in \u001b[0;36m<module>\u001b[0;34m\u001b[0m\n\u001b[1;32m     49\u001b[0m \u001b[0mminfc\u001b[0m\u001b[0;34m=\u001b[0m\u001b[0minfc\u001b[0m\u001b[0;34m-\u001b[0m\u001b[0mexponential_model\u001b[0m\u001b[0;34m(\u001b[0m\u001b[0mx\u001b[0m\u001b[0;34m[\u001b[0m\u001b[0;34m-\u001b[0m\u001b[0;36m1\u001b[0m\u001b[0;34m]\u001b[0m\u001b[0;34m+\u001b[0m\u001b[0;36m1\u001b[0m\u001b[0;34m,\u001b[0m \u001b[0mexp_fit_world\u001b[0m\u001b[0;34m[\u001b[0m\u001b[0;36m0\u001b[0m\u001b[0;34m]\u001b[0m\u001b[0;34m,\u001b[0m\u001b[0mexp_fit_world\u001b[0m\u001b[0;34m[\u001b[0m\u001b[0;36m1\u001b[0m\u001b[0;34m]\u001b[0m\u001b[0;34m-\u001b[0m\u001b[0mΔb\u001b[0m\u001b[0;34m,\u001b[0m\u001b[0mexp_fit_world\u001b[0m\u001b[0;34m[\u001b[0m\u001b[0;36m2\u001b[0m\u001b[0;34m]\u001b[0m  \u001b[0;34m)\u001b[0m\u001b[0;34m\u001b[0m\u001b[0m\n\u001b[1;32m     50\u001b[0m next_day=r'next day:  $%g^{+%g}_{-%g}$' %(\n\u001b[0;32m---> 51\u001b[0;31m                         int( infc ),int( pinfc ),int( minfc )  )\n\u001b[0m\u001b[1;32m     52\u001b[0m \u001b[0;34m\u001b[0m\u001b[0m\n\u001b[1;32m     53\u001b[0m \u001b[0;34m\u001b[0m\u001b[0m\n",
      "\u001b[0;31mOverflowError\u001b[0m: cannot convert float infinity to integer"
     ]
    }
   ],
   "source": [
    "extra_days=-15\n",
    "max_forecast=10000000\n",
    "tunep0_3=2\n",
    "exp_start=49\n",
    "date_start=dc[exp_start]#dc[0]\n",
    "date_end=dc[-1]\n",
    "ylinlog='log'\n",
    "y=index_field(cva,\"Country/Region\",filter=\n",
    "              date_range(date_start=date_start,date_end=date_end)\n",
    "              ).sum()\n",
    "x=list( range(1,len(y)+1) )\n",
    "Y=index_field(cva,\"Country/Region\",filter=\n",
    "              date_range(date_start=dc[0],date_end=dc[-1])\n",
    "              ).sum()\n",
    "X=list( range(1,len(Y)+1) )\n",
    "#y=Y\n",
    "#x=X\n",
    "\n",
    "xx=list( range(X[0],X[-1]+extra_days) )\n",
    "exp_fit = opt.curve_fit(exponential_model,x,y,p0=[1,0.4,tunep0_3])\n",
    "try:\n",
    "    Δb=np.sqrt(exp_fit[1][1,1])\n",
    "except:\n",
    "    Δb=0\n",
    "if min(Y)>0:\n",
    "    ymin=min(Y)\n",
    "else:\n",
    "    ymin=1\n",
    "\n",
    "#Doubling time\n",
    "N0=exp_fit[0][0];g=exp_fit[0][1];t0=exp_fit[0][2]\n",
    "if exponential_model(t0,N0,g,t0)==N0:\n",
    "    Td=np.log(2)/g\n",
    "else:\n",
    "    Td=None\n",
    "if Td:\n",
    "    dt=re.sub('\\.0\\s',' ', '(doubling time = {} days)'.format(Td.round(1)\n",
    "        ))\n",
    "    texmodel='N(t)=N(t_0)e^{t-t_0}='\n",
    "else:\n",
    "    texmodel=''\n",
    "    dt=''\n",
    "\n",
    "#Prediction next day\n",
    "exp_fit_world=exp_fit[0].copy()\n",
    "exponential_model_world=lambda x: exponential_model(x, exp_fit_world[0],exp_fit_world[1],exp_fit_world[2]  )\n",
    "infc=exponential_model_world(x[-1]+1  )\n",
    "pinfc=exponential_model(x[-1]+1, exp_fit_world[0],exp_fit_world[1]+Δb,exp_fit_world[2]  )-infc\n",
    "minfc=infc-exponential_model(x[-1]+1, exp_fit_world[0],exp_fit_world[1]-Δb,exp_fit_world[2]  )\n",
    "next_day=r'next day:  $%g^{+%g}_{-%g}$' %(\n",
    "                        int( infc ),int( pinfc ),int( minfc )  )\n",
    "\n",
    "\n",
    "plt.plot(x,y,'r-',label='World')\n",
    "plt.plot(xx,\n",
    "         exponential_model(xx,exp_fit[0][0],exp_fit[0][1],exp_fit[0][2]),\n",
    "         'k:',\n",
    "         label=r'$%s%g\\cdot e^{%g[t-(%g)]}$' %(texmodel,\n",
    "                                             exp_fit[0][0].round(2),\n",
    "                                             exp_fit[0][1].round(3),\n",
    "                                             exp_fit[0][2].round(2)) )\n",
    "plt.plot(x[-1]+1,infc,'b*',markersize=3,\n",
    "         label=next_day\n",
    "         )\n",
    "plt.plot(np.array(X)-exp_start,Y,'r-')\n",
    "plt.legend()\n",
    "plt.xscale('linear')\n",
    "plt.yscale(ylinlog)\n",
    "plt.xlabel('days',size=15)\n",
    "plt.ylabel('infected '+dt,size=13 )\n",
    "plt.title('Yesterday: {} → Today: {} infected'.format(y[-2],y[-1]))\n",
    "if ylinlog=='linear':\n",
    "    xmax=x[-1]+2\n",
    "    ymax=y[-1]+infc+Δb\n",
    "else:\n",
    "    xmax=xx[-1]\n",
    "    ymax=max_forecast+30000\n",
    "plt.xlim(xx[0]-exp_start,xmax)\n",
    "plt.ylim(ymin,ymax)\n",
    "plt.grid()\n",
    "plt.savefig('world.png')"
   ]
  },
  {
   "cell_type": "markdown",
   "metadata": {
    "colab_type": "text",
    "id": "3rfsqI4BSegj"
   },
   "source": [
    "## Reproduce \"El País\" plot\n",
    "Set of minimal number of infections to catch up the exponential growth: `mininf=50`"
   ]
  },
  {
   "cell_type": "code",
   "execution_count": null,
   "metadata": {
    "colab": {},
    "colab_type": "code",
    "id": "x7gG4_pUH1wX"
   },
   "outputs": [],
   "source": [
    "cv=index_field(cva,\"Country/Region\",filter=dc)"
   ]
  },
  {
   "cell_type": "code",
   "execution_count": null,
   "metadata": {
    "colab": {
     "base_uri": "https://localhost:8080/",
     "height": 312
    },
    "colab_type": "code",
    "id": "eRKdL3ntHl8j",
    "outputId": "b3dc243d-4a44-4b44-a5cc-a024c7bd49b4"
   },
   "outputs": [],
   "source": [
    "cntr=['Spain','Italy','France','United Kingdom','Korea, South','Germany']\n",
    "\n",
    "mininf=50\n",
    "for c in cntr:\n",
    "    y=[l for l in cv.loc[c].tolist() if l>mininf]\n",
    "    ylen=len(y)\n",
    "    x=list( range( 1,ylen+1 ) )\n",
    "    #plt.semilogy(x,y,label='{}'.format(c))\n",
    "    plt.plot(x,y,label='{}'.format(c))\n",
    "    \n",
    "plt.legend(loc='best')\n",
    "plt.xscale('linear')\n",
    "plt.yscale('log')\n",
    "plt.title('infected > {}'.format(mininf))\n",
    "plt.xlabel('days')\n",
    "plt.ylabel('infected')\n",
    "#plt.xlim(1,10)\n",
    "#plt.ylim(1,200)\n",
    "#plt.savefig('elpais_recover_2020_03_16.png')"
   ]
  },
  {
   "cell_type": "markdown",
   "metadata": {
    "colab_type": "text",
    "id": "BFMQs92rseOD"
   },
   "source": [
    "### From [Donde estará el pico...](https://sistemaencrisis.es/2020/03/20/covid-19-donde-estara-el-pico-de-decesos-estableciendo-una-cota-inferior-en-base-a-la-curva-china/)"
   ]
  },
  {
   "cell_type": "code",
   "execution_count": null,
   "metadata": {
    "colab": {
     "base_uri": "https://localhost:8080/",
     "height": 295
    },
    "colab_type": "code",
    "id": "t93jkGK2qWBm",
    "outputId": "48d15f20-97e9-424f-8c8c-dfbab26e9561"
   },
   "outputs": [],
   "source": [
    "cntr=['China','Korea, South','Italy','Spain','Iran','United Kingdom','US','France']\n",
    "\n",
    "deaths=50\n",
    "for c in cntr:\n",
    "    y=[l for l in cv.loc[c].tolist() if l>mininf]    \n",
    "    ylen=len(y)\n",
    "    x=list( range( 1,ylen+1 ) )\n",
    "    #plt.semilogy(x,y,label='{}'.format(c))\n",
    "    plt.plot(x,y,label='{}'.format(c))\n",
    "    \n",
    "plt.legend(loc='best')\n",
    "plt.xscale('linear')\n",
    "plt.yscale('log')\n",
    "plt.title('infected > {}'.format(mininf))\n",
    "plt.xlabel('Days from first deaths')\n",
    "plt.ylabel('Deaths')\n",
    "plt.grid()\n",
    "#plt.xlim(1,10)\n",
    "#plt.ylim(1,200)\n",
    "#plt.savefig('elpais_recover_2020_03_16.png')"
   ]
  },
  {
   "cell_type": "markdown",
   "metadata": {
    "colab_type": "text",
    "id": "XvJ210bISegm"
   },
   "source": [
    "## Make similar plots for all the countries"
   ]
  },
  {
   "cell_type": "code",
   "execution_count": null,
   "metadata": {
    "colab": {
     "base_uri": "https://localhost:8080/",
     "height": 812
    },
    "colab_type": "code",
    "id": "ZuNiCv07Segn",
    "outputId": "f383f53a-fd45-4175-e649-5194df0eb6af"
   },
   "outputs": [],
   "source": [
    "print('Country','Lat')\n",
    "print('-'*20)\n",
    "cntr=cv.index\n",
    "low_countries=[]\n",
    "mininf=50\n",
    "days_after=13\n",
    "maxinf=300\n",
    "for c in cntr:\n",
    "    y=[l for l in cv.loc[c].tolist() if l>mininf]    \n",
    "    ylen=len(y)\n",
    "    x=list( range( 1,ylen+1 ) )\n",
    "    if len(x)>days_after and y[days_after]<maxinf:\n",
    "        low_countries.append(c)\n",
    "        print(c,cva[cva['Country/Region']==c]['Lat'].tolist()[0])\n",
    "    if c in ['Spain','Italy','France','Norway','Korea, South','Germany']:\n",
    "        plt.plot(x,y,label='{}'.format(c))\n",
    "    elif c in low_countries:\n",
    "        plt.plot(x,y,'--')#,label='{}'.format(c))\n",
    "    else:\n",
    "        plt.plot(x,y,':')\n",
    "\n",
    "print('-'*20)\n",
    "plt.legend(loc=(0.8,0.05))\n",
    "plt.xscale('linear')\n",
    "plt.yscale('log')\n",
    "plt.title('infected > {}'.format(mininf))\n",
    "plt.xlabel('days')\n",
    "plt.ylabel('infected')\n",
    "#plt.xlim(10,20)\n",
    "plt.ylim(mininf-10,300000)"
   ]
  },
  {
   "cell_type": "markdown",
   "metadata": {
    "colab_type": "text",
    "id": "zvzMhoRgd69V"
   },
   "source": [
    "## Slow-exponential-growth countries"
   ]
  },
  {
   "cell_type": "code",
   "execution_count": null,
   "metadata": {
    "colab": {
     "base_uri": "https://localhost:8080/",
     "height": 551
    },
    "colab_type": "code",
    "id": "KdTCPiZsZQfR",
    "outputId": "602da58a-1d11-4ca9-ffab-9e9560e70276"
   },
   "outputs": [],
   "source": [
    "print('Country','Lat')\n",
    "print('-'*20)\n",
    "cntr=cv.index\n",
    "low_countries=[]\n",
    "mininf=10\n",
    "days_after=35\n",
    "maxinf=400\n",
    "for c in cntr:\n",
    "    y=[l for l in cv.loc[c].tolist() if l>mininf] \n",
    "    ylen=len(y)\n",
    "    x=list( range( 1,ylen+1 ) )\n",
    "    if len(x)>days_after and y[days_after]<maxinf:\n",
    "        low_countries.append(c)\n",
    "        print(c,cva[cva['Country/Region']==c]['Lat'].tolist()[0])\n",
    "    if c in ['Ecuador','Colombia']:\n",
    "        plt.plot(x,y,label='{}'.format(c),lw=5)\n",
    "    elif c in low_countries:\n",
    "        plt.plot(x,y,'--',label='{}'.format(c))\n",
    "    else:\n",
    "        plt.plot(x,y,':')\n",
    "\n",
    "print('-'*20)\n",
    "plt.legend(loc='upper right')\n",
    "plt.xscale('linear')\n",
    "plt.yscale('log')\n",
    "plt.title('infected > {}'.format(mininf))\n",
    "plt.xlabel('days')\n",
    "plt.ylabel('infected')\n",
    "plt.xlim(0,160)\n",
    "plt.ylim(mininf-10,10000)"
   ]
  },
  {
   "cell_type": "markdown",
   "metadata": {
    "colab_type": "text",
    "id": "3pzQW1-vSegq"
   },
   "source": [
    "To check the reason why some contries may no exhibit an strong exponential growth, see [References](./covid.ipynb#References) at the end\n"
   ]
  },
  {
   "cell_type": "markdown",
   "metadata": {
    "colab_type": "text",
    "id": "VsecvPxEWqMX"
   },
   "source": [
    "## Latin America"
   ]
  },
  {
   "cell_type": "code",
   "execution_count": null,
   "metadata": {
    "colab": {},
    "colab_type": "code",
    "id": "txFJw1ohJUWR"
   },
   "outputs": [],
   "source": [
    "def growth_rate(Td):\n",
    "    return np.log(2)/Td\n",
    "#growth_rate(2.6)"
   ]
  },
  {
   "cell_type": "code",
   "execution_count": null,
   "metadata": {
    "colab": {},
    "colab_type": "code",
    "id": "IoMr6bRhNs9-"
   },
   "outputs": [],
   "source": [
    "mininf=50\n",
    "maxdays=len([i for i in cv.loc['Spain'].tolist() if i > mininf ])"
   ]
  },
  {
   "cell_type": "code",
   "execution_count": null,
   "metadata": {
    "colab": {
     "base_uri": "https://localhost:8080/",
     "height": 295
    },
    "colab_type": "code",
    "id": "UZPbiaAqWxZs",
    "outputId": "138ca110-98dd-4322-c963-a496badae121"
   },
   "outputs": [],
   "source": [
    "cntr=['Spain','Colombia','Brazil','Peru','Ecuador', 'Chile','Argentina']\n",
    "xx=np.linspace(1,maxdays)\n",
    "for c in cntr:\n",
    "    y=[l for l in cv.loc[c].tolist() if l>mininf] \n",
    "    ylen=len(y)\n",
    "    x=list( range( 1,ylen+1 ) )\n",
    "    #plt.semilogy(x,y,label='{}'.format(c))\n",
    "    plt.plot(x,y,label='{}'.format(c))\n",
    "\n",
    "line1,=plt.plot(xx,exponential_model(xx,mininf,growth_rate(1),1),'k:',alpha=0.5)#,label='Double every 1 day')    \n",
    "plt.plot(xx,exponential_model(xx,mininf,growth_rate(3),1),'k:',alpha=0.5)    \n",
    "plt.plot(xx,exponential_model(xx,mininf,growth_rate(2),1),'k:',alpha=0.5)\n",
    "plt.plot(xx,exponential_model(xx,mininf,growth_rate(5),1),'k:',alpha=0.5)\n",
    "\n",
    "\n",
    "# Create a legend for the first line.\n",
    "#first_legend = plt.legend(handles=[line1], loc='upper right')\n",
    "\n",
    "# Add the legend manually to the current Axes.\n",
    "#ax = plt.gca().add_artist(first_legend)\n",
    "\n",
    "general_legend=plt.legend(loc='best')\n",
    "\n",
    "\n",
    "plt.xscale('linear')\n",
    "plt.yscale('log')\n",
    "plt.title('infected > {} and Td for 1, 2, 3 and 5 days'.format(mininf))\n",
    "plt.xlabel('days')\n",
    "plt.ylabel('infected')\n",
    "plt.xlim(1,35)\n",
    "plt.ylim(40,200000)\n",
    "plt.grid()\n",
    "#plt.savefig('elpais_recover_2020_03_16.png')"
   ]
  },
  {
   "cell_type": "markdown",
   "metadata": {
    "colab_type": "text",
    "id": "n0oKGDTursX1"
   },
   "source": [
    "## Fit to exponential model\n",
    "See: Jupyter Notebook `covid19_analysis.ipynb`: [[local](./covid19.ipynb)] [[GitHub](https://github.com/restrepo/Covid-19/blob/master/covid.ipynb)] [[Colab](https://colab.research.google.com/github/restrepo/Covid-19/blob/master/covid.ipynb)] "
   ]
  },
  {
   "cell_type": "markdown",
   "metadata": {
    "colab_type": "text",
    "id": "QkE6D7s7zWpy"
   },
   "source": [
    "## Other models\n",
    "* Fractal kinetics of COVID-19 pandemic, Anna L. Ziff, Robert M. Ziff\n",
    "medRxiv 2020.02.16.20023820; doi: https://doi.org/10.1101/2020.02.16.20023820\n",
    "    * (https://www.zdnet.com/article/graph-theory-suggests-covid-19-might-be-a-small-world-after-all/)\n",
    "> Rather, the authors observed a period of initial exponential growth, followed by what's called a \"power law,\" which is not the same thing.\n",
    "* A mathematical model for the novel coronavirus epidemic in Wuhan, Chayu Yang, Jin Wang, Mathematical Biosciences and Engineering, 2020, 17(3): 2708-2724. doi: [10.3934/mbe.2020148](http://dx.doi.org/10.3934/mbe.2020148).\n",
    "    * [SIR Model](https://es.wikipedia.org/wiki/Modelo_SIR)\n",
    "\n",
    "* [Data minning](https://sistemaencrisis.es/2020/03/20/covid-19-donde-estara-el-pico-de-decesos-estableciendo-una-cota-inferior-en-base-a-la-curva-china/)"
   ]
  },
  {
   "cell_type": "markdown",
   "metadata": {
    "colab_type": "text",
    "id": "HmpYZmuTloZ-"
   },
   "source": [
    "## References\n",
    "About meteorological conditions for Covid-19\n",
    "\n",
    "* Sajadi, Mohammad M. and Habibzadeh, Parham and Vintzileos, Augustin and Shokouhi, Shervin and Miralles-Wilhelm, Fernando and Amoroso, Anthony, Temperature and Latitude Analysis to Predict Potential Spread and Seasonality for COVID-19 (March 5, 2020). Available at SSRN: https://ssrn.com/abstract=3550308 or http://dx.doi.org/10.2139/ssrn.3550308\n",
    "    * [El coronavirus en tierra caliente: ¿igual, peor o menos grave?](https://www.elespectador.com/coronavirus/el-coronavirus-en-tierra-caliente-igual-peor-o-menos-grave-articulo-909335)\n",
    "\n",
    "* Wang, Jingyuan and Tang, Ke and Feng, Kai and Lv, Weifeng, High Temperature and High Humidity Reduce the Transmission of COVID-19 (March 9, 2020). Available at SSRN: https://ssrn.com/abstract=3551767 or http://dx.doi.org/10.2139/ssrn.3551767 \n",
    "> $R = 3.968 - 0.0383\\cdot \\text{Temperature} - 0.0224\\cdot \\text{Relative Humidity}$\n",
    "    * [Twitter thread](https://twitter.com/zuluagajorge/status/1239925580038049793)\n",
    "* [Singapore contained Coronavirus. Could other countries learn from its approach?](https://www.weforum.org/agenda/2020/03/singapore-response-contained-coronavirus-covid19-outbreak/)\n",
    "* [Will spring slow spread of coronavirus in northern hemisphere?](https://www.theguardian.com/world/2020/mar/11/will-spring-slow-spread-of-coronavirus-in-northern-hemisphere)\n",
    "* [Coronavirus: Why You Must Act Now](https://medium.com/@tomaspueyo/coronavirus-act-today-or-people-will-die-f4d3d9cd99ca)\n",
    "* [Es muy probable que el SARS-COV-2 se atenúe y vuelva cada invierno, como la gripe](https://www.elespectador.com/coronavirus/es-muy-probable-que-el-sars-cov-2-se-atenue-y-vuelva-cada-invierno-como-la-gripe-articulo-909696)\n",
    "> Las altas temperaturas son excelentes porque los coronavirus son muy sensibles al calor: cada día que pasan a 37 grados, pierden 10 veces su infectividad. Por tanto, en tres días calentitos se bajaría mil veces su capacidad de infección.\n",
    "* Jin Bu, Dong-Dong Peng, Hui Xiao, Qian Yue, Yan Han, Yu Lin, Gang Hu, Jing Chen, Analysis of meteorological conditions and prediction of epidemic trend of 2019-nCoV infection in 2020, medRxiv 2020.02.13.20022715; doi: https://doi.org/10.1101/2020.02.13.20022715\n",
    "> From a global perspective, cities with a mean temperature below 24 degree Celsius are all high-risk cities for 2019-nCoV transmission before June."
   ]
  },
  {
   "cell_type": "markdown",
   "metadata": {
    "colab_type": "text",
    "id": "vy0Er744wr4M"
   },
   "source": [
    "## Appendix"
   ]
  },
  {
   "cell_type": "code",
   "execution_count": null,
   "metadata": {
    "colab": {},
    "colab_type": "code",
    "id": "ss6-00NTMcE3"
   },
   "outputs": [],
   "source": [
    "R=lambda T,H: 3.968 - 0.0383*T - 0.022*H"
   ]
  },
  {
   "cell_type": "markdown",
   "metadata": {
    "colab_type": "text",
    "id": "N0hH2KuMVqQX"
   },
   "source": [
    "Global results in Fig. 4 (a) March (b) July in http://dx.doi.org/10.2139/ssrn.3551767"
   ]
  },
  {
   "cell_type": "code",
   "execution_count": null,
   "metadata": {
    "colab": {
     "base_uri": "https://localhost:8080/",
     "height": 34
    },
    "colab_type": "code",
    "id": "AfBXiGisTAyr",
    "outputId": "9c37e3a8-2c61-498b-dba4-09afea9b4c09"
   },
   "outputs": [],
   "source": [
    "# Japan - July from paper\n",
    "R(28,85)"
   ]
  },
  {
   "cell_type": "code",
   "execution_count": null,
   "metadata": {
    "colab": {
     "base_uri": "https://localhost:8080/",
     "height": 34
    },
    "colab_type": "code",
    "id": "RTc9PU7nTHYR",
    "outputId": "f1bcfc2e-f009-44fd-9be1-cdbfd39c220a"
   },
   "outputs": [],
   "source": [
    "# Medellín - March from https://en.wikipedia.org/wiki/Medell%C3%ADn#Climate\n",
    "R(23,65)"
   ]
  },
  {
   "cell_type": "code",
   "execution_count": null,
   "metadata": {
    "colab": {
     "base_uri": "https://localhost:8080/",
     "height": 34
    },
    "colab_type": "code",
    "id": "SwW8GmcdUakU",
    "outputId": "f05adac9-5fe6-4002-e0ce-4fcaa42a7e80"
   },
   "outputs": [],
   "source": [
    "# Bogotá - March from https://en.wikipedia.org/wiki/Bogot%C3%A1#Climate\n",
    "R(15,75)"
   ]
  },
  {
   "cell_type": "markdown",
   "metadata": {
    "colab_type": "text",
    "id": "TyEEXSF0IINp"
   },
   "source": [
    "## Model\n",
    "See\n",
    "https://www.youtube.com/watch?v=Kas0tIxDvrg&feature=youtu.be&t=249\n",
    "\n",
    "$$N_d=(1+E p)^d N_0$$\n",
    "where $d$ is the number of days, and $N_0$ is the intial number of infected"
   ]
  },
  {
   "cell_type": "code",
   "execution_count": null,
   "metadata": {
    "colab": {},
    "colab_type": "code",
    "id": "cKf-p7CWDqBv"
   },
   "outputs": [],
   "source": [
    "Ep=0.5\n",
    "xlen=6\n",
    "xx=list( list(range(1,xlen)) )\n",
    "yy=[y[4]]+[int((1+Ep)**d*y[4]) for d in xx[:-1]]"
   ]
  },
  {
   "cell_type": "code",
   "execution_count": null,
   "metadata": {
    "colab": {
     "base_uri": "https://localhost:8080/",
     "height": 34
    },
    "colab_type": "code",
    "id": "d4_F1nLPvt9D",
    "outputId": "a52aaade-f623-44d7-b365-0bb30a9d70d9"
   },
   "outputs": [],
   "source": [
    "xx"
   ]
  },
  {
   "cell_type": "code",
   "execution_count": null,
   "metadata": {
    "colab": {},
    "colab_type": "code",
    "id": "sZcbebeTga_T"
   },
   "outputs": [],
   "source": [
    "xini=xx[0]"
   ]
  },
  {
   "cell_type": "code",
   "execution_count": null,
   "metadata": {
    "colab": {
     "base_uri": "https://localhost:8080/",
     "height": 34
    },
    "colab_type": "code",
    "id": "T-TBAxOuwchF",
    "outputId": "1042a13e-050e-4104-eba3-36169070605c"
   },
   "outputs": [],
   "source": [
    "y[xini:xini+xlen]"
   ]
  },
  {
   "cell_type": "code",
   "execution_count": null,
   "metadata": {
    "colab": {
     "base_uri": "https://localhost:8080/",
     "height": 34
    },
    "colab_type": "code",
    "id": "r3SZix2TbpbJ",
    "outputId": "29bb5550-5eb6-431c-85b4-1eb8b360ba3c"
   },
   "outputs": [],
   "source": [
    "cv.loc['Colombia'][-1]"
   ]
  },
  {
   "cell_type": "code",
   "execution_count": null,
   "metadata": {},
   "outputs": [],
   "source": [
    "import IPython"
   ]
  },
  {
   "cell_type": "code",
   "execution_count": null,
   "metadata": {},
   "outputs": [],
   "source": [
    "%%javascript\n",
    "IPython.notebook.save_notebook()    "
   ]
  },
  {
   "cell_type": "code",
   "execution_count": null,
   "metadata": {},
   "outputs": [],
   "source": [
    "import os\n",
    "if os.getcwd()!='/content':    \n",
    "    !git commit -am 'automatic update' 2>/dev/null > /dev/null\n",
    "    !git push origin master 2>/dev/null > /dev/null"
   ]
  }
 ],
 "metadata": {
  "colab": {
   "include_colab_link": true,
   "name": "covid_analysis.ipynb",
   "provenance": []
  },
  "kernelspec": {
   "display_name": "Python 3",
   "language": "python",
   "name": "python3"
  },
  "language_info": {
   "codemirror_mode": {
    "name": "ipython",
    "version": 3
   },
   "file_extension": ".py",
   "mimetype": "text/x-python",
   "name": "python",
   "nbconvert_exporter": "python",
   "pygments_lexer": "ipython3",
   "version": "3.5.3"
  }
 },
 "nbformat": 4,
 "nbformat_minor": 1
}
