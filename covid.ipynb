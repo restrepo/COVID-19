{
  "nbformat": 4,
  "nbformat_minor": 0,
  "metadata": {
    "kernelspec": {
      "display_name": "Python 3",
      "language": "python",
      "name": "python3"
    },
    "language_info": {
      "codemirror_mode": {
        "name": "ipython",
        "version": 3
      },
      "file_extension": ".py",
      "mimetype": "text/x-python",
      "name": "python",
      "nbconvert_exporter": "python",
      "pygments_lexer": "ipython3",
      "version": "3.7.3"
    },
    "colab": {
      "name": "covid.ipynb",
      "provenance": [],
      "include_colab_link": true
    }
  },
  "cells": [
    {
      "cell_type": "markdown",
      "metadata": {
        "id": "view-in-github",
        "colab_type": "text"
      },
      "source": [
        "<a href=\"https://colab.research.google.com/github/restrepo/COVID-19/blob/master/covid.ipynb\" target=\"_parent\"><img src=\"https://colab.research.google.com/assets/colab-badge.svg\" alt=\"Open In Colab\"/></a>"
      ]
    },
    {
      "cell_type": "markdown",
      "metadata": {
        "id": "AyVdvXDHSegL",
        "colab_type": "text"
      },
      "source": [
        "# Covid-19 data for Colombia"
      ]
    },
    {
      "cell_type": "markdown",
      "metadata": {
        "id": "mgzzuuteSegO",
        "colab_type": "text"
      },
      "source": [
        "Use of [public Covid-19 in GitHub](https://github.com/CSSEGISandData/COVID-19) data from: \n",
        "[Center for Systems Science and Engineering (CSSE)](https://systems.jhu.edu/):\n",
        "\n",
        "* Hongru Du, Lauren Gardner, and Ensheng Dong, An interactive web-based dashboard to track COVID-19 in real time, http://www.thelancet.com/infection Published:February 19, 2020, DOI:https://doi.org/10.1016/S1473-3099(20)30120-1\n",
        "\n",
        "For examples of use of the data see Jupyter Notebook `covid19_analysis.ipynb`: [[local](./covid19_analysis.ipynb)] [[GitHub](https://github.com/restrepo/Covid-19/blob/master/covid_analysis.ipynb)] [[Colab](https://colab.research.google.com/github/restrepo/Covid-19/blob/master/covid_analysis.ipynb)]\n",
        "\n",
        "[Official Colombia data](https://infogram.com/covid-2019-ins-colombia-1hnq41zg9ord63z)"
      ]
    },
    {
      "cell_type": "code",
      "metadata": {
        "id": "CETEHcSKSegP",
        "colab_type": "code",
        "outputId": "554736b8-2fa7-41f4-f5c2-af626d880254",
        "colab": {
          "base_uri": "https://localhost:8080/",
          "height": 34
        }
      },
      "source": [
        "%pylab inline"
      ],
      "execution_count": 1,
      "outputs": [
        {
          "output_type": "stream",
          "text": [
            "Populating the interactive namespace from numpy and matplotlib\n"
          ],
          "name": "stdout"
        }
      ]
    },
    {
      "cell_type": "code",
      "metadata": {
        "id": "ayDS570kSegT",
        "colab_type": "code",
        "colab": {}
      },
      "source": [
        "import pandas as pd\n",
        "import re\n",
        "#See https://strftime.org/\n",
        "import datetime\n",
        "import numpy as np\n",
        "from scipy import optimize as opt"
      ],
      "execution_count": 0,
      "outputs": []
    },
    {
      "cell_type": "code",
      "metadata": {
        "id": "wHmtr6kKxN8S",
        "colab_type": "code",
        "colab": {}
      },
      "source": [
        "def exponential_model(x,a,b,c):\n",
        "    return a*np.exp(b*(x-c))\n",
        "\n",
        "def logistic_model(x,a,b,c):\n",
        "    return c/(1+np.exp(-(x-b)/a))\n",
        "\n",
        "def RO(td,γ=1./5.7,μ=1/(70*365)):\n",
        "    return 1+np.log(2)/(td*(μ+γ))    \n",
        "    \n",
        "def date_range(date_start='2/23/20',date_end='3/03/20',date_step=1,\n",
        "               strptime_format=\"%m/%d/%y\",\n",
        "               strftime_format=\"%-m/%-d/%y\"):\n",
        "    dr=[]\n",
        "    start = datetime.datetime.strptime(date_start,strptime_format )\n",
        "    end = datetime.datetime.strptime(date_end,strptime_format)\n",
        "    step = datetime.timedelta(days=date_step)\n",
        "    while start <= end:\n",
        "        #avoid leading zeroes: https://stackoverflow.com/a/2073189/2268280\n",
        "        dr.append(start.strftime(strftime_format))\n",
        "        start += step\n",
        "    return dr\n",
        "\n",
        "def index_field(df,column,filter=None):\n",
        "    '''\n",
        "    WARNING: Nonumerical columns are dropped\n",
        "    \n",
        "    Parameters:\n",
        "    ----------\n",
        "    filter: list, default None\n",
        "        Select only the columns in this list\n",
        "    '''\n",
        "    dff=df.copy()\n",
        "    if filter:\n",
        "        dff=df[[column]+list(filter)]\n",
        "    return dff.groupby(column).sum()\n",
        "\n",
        "def get_infected(country,date_start=None,date_end=None,DataFrame=None,\n",
        "      DataSource='https://raw.githubusercontent.com/CSSEGISandData/COVID-19/',\n",
        "      DataFile='master/csse_covid_19_data/csse_covid_19_time_series/time_series_19-covid-Confirmed.csv'\n",
        "      ):\n",
        "    '''\n",
        "    Obtenga la lista de infectados de un país\n",
        "     country: País\n",
        "     date_start: Fecha inicial en el formato MM/DD/YY, e.g. '3/10/20' o None\n",
        "     date_end  : Fecha final en el formato MM/DD/YY, e.g. '3/10/20' o None\n",
        "     si alguna de las fechas esta en None se toma de los extremos del rango\n",
        "     de fechas disponible\n",
        "    '''\n",
        "    if DataFrame is None:\n",
        "        df=pd.read_csv('{}{}'.format(data_source,data_file))\n",
        "        df=df.reset_index(drop=True)\n",
        "    else:\n",
        "        df=DataFrame.copy()\n",
        "\n",
        "    d=[ c for c in df.columns if re.search(r'^[0-9]{1,2}\\/[0-9]{1,2}\\/[0-9]{2}',c)]\n",
        "    if not date_start:\n",
        "        date_start=d[0]\n",
        "    if not date_end:\n",
        "        date_end=d[-1]\n",
        "    dr=date_range(date_start=date_start,date_end=date_end)\n",
        "    #country in df.index\n",
        "    cvrg=df[dr]\n",
        "    y=cvrg.loc[country].tolist()              \n",
        "    return y\n",
        "\n",
        "def dataframe_doubling(x,y,start_date,final_date,p03=10):\n",
        "    '''\n",
        "    x: list of days\n",
        "    y: list of infected\n",
        "    '''\n",
        "    sp=pd.DataFrame()\n",
        "    if len(x)<3:\n",
        "        print('WARNING: Not enough data: at least 3 days')\n",
        "        return sp\n",
        "    spd={'start_date':start_date,'final_date':final_date}\n",
        "    for d in x[2:]:\n",
        "        exp_fit = opt.curve_fit(exponential_model,x[:d],y[:d],p0=[1,0.4,p03])\n",
        "        if exp_fit[1][1,1] is np.inf:\n",
        "            print('WARNING: exponential fit faild for p0[3]={}'.format(p03))\n",
        "        spd['g']=exp_fit[0][1]\n",
        "        N0=exp_fit[0][0];g=exp_fit[0][1];t0=exp_fit[0][2]\n",
        "        if exponential_model(t0,N0,g,t0)==N0:\n",
        "            Td=np.log(2)/g\n",
        "            spd['N0']=exp_fit[0][0]\n",
        "            spd['t0']=exp_fit[0][2]\n",
        "            spd['Td']=Td\n",
        "            spd['day']=d\n",
        "            spd['infected']=y[d-1]\n",
        "        sp=sp.append(spd,ignore_index=True)\n",
        "\n",
        "    sp['day']=sp['day'].astype(int)\n",
        "    sp['infected']=sp['infected'].astype(int)\n",
        "    return sp"
      ],
      "execution_count": 0,
      "outputs": []
    },
    {
      "cell_type": "markdown",
      "metadata": {
        "id": "YhCXT6zdSegW",
        "colab_type": "text"
      },
      "source": [
        "## Load data"
      ]
    },
    {
      "cell_type": "code",
      "metadata": {
        "id": "0_gnDzNISegX",
        "colab_type": "code",
        "colab": {}
      },
      "source": [
        "DataSource='https://raw.githubusercontent.com/CSSEGISandData/COVID-19/'\n",
        "DataFile='master/csse_covid_19_data/csse_covid_19_time_series/time_series_covid19_confirmed_global.csv'\n",
        "cva=pd.read_csv('{}{}'.format(DataSource,DataFile))\n",
        "cva=cva.reset_index(drop=True)\n",
        "#Special cases\n",
        "c='Hong Kong'\n",
        "try:\n",
        "    cva.loc[cva[cva['Province/State']==c].index[0],'Country/Region']=c\n",
        "except IndexError:\n",
        "    pass  "
      ],
      "execution_count": 0,
      "outputs": []
    },
    {
      "cell_type": "code",
      "metadata": {
        "id": "VS8pVXXUgAb8",
        "colab_type": "code",
        "colab": {}
      },
      "source": [
        "FIX_COLUMNS=False\n",
        "if FIX_COLUMNS:\n",
        "    cva=cva.rename({'3/21/202':'3/21/20'},axis='columns')"
      ],
      "execution_count": 0,
      "outputs": []
    },
    {
      "cell_type": "code",
      "metadata": {
        "id": "kVuZQNtGTvsv",
        "colab_type": "code",
        "colab": {}
      },
      "source": [
        "d=[ c for c in cva.columns if re.search(r'^[0-9]{1,2}\\/[0-9]{1,2}\\/[1920]{2}',c)]\n",
        "cv=index_field(cva,\"Country/Region\",filter=d)"
      ],
      "execution_count": 0,
      "outputs": []
    },
    {
      "cell_type": "markdown",
      "metadata": {
        "id": "6Oo7JxF7v84j",
        "colab_type": "text"
      },
      "source": [
        "## Fix wrong data\n"
      ]
    },
    {
      "cell_type": "code",
      "metadata": {
        "id": "mEUqzmPVwETD",
        "colab_type": "code",
        "colab": {}
      },
      "source": [
        "FIX_DATA=False\n",
        "if FIX_DATA:\n",
        "    ic=cva[cva['Country/Region']=='Colombia'].index[0]\n",
        "    cva.loc[ic,'3/23/20']=271"
      ],
      "execution_count": 0,
      "outputs": []
    },
    {
      "cell_type": "markdown",
      "metadata": {
        "id": "Wr_8XBT5jydT",
        "colab_type": "text"
      },
      "source": [
        "last update"
      ]
    },
    {
      "cell_type": "code",
      "metadata": {
        "id": "EIsLe1SJPssU",
        "colab_type": "code",
        "outputId": "9617a81a-1405-4e9f-ee63-65461a92b9c8",
        "colab": {
          "base_uri": "https://localhost:8080/",
          "height": 34
        }
      },
      "source": [
        "dmax=d[-1]\n",
        "dmax"
      ],
      "execution_count": 8,
      "outputs": [
        {
          "output_type": "execute_result",
          "data": {
            "text/plain": [
              "'3/29/20'"
            ]
          },
          "metadata": {
            "tags": []
          },
          "execution_count": 8
        }
      ]
    },
    {
      "cell_type": "code",
      "metadata": {
        "id": "bs-SH0aseh5-",
        "colab_type": "code",
        "colab": {}
      },
      "source": [
        "if len(dmax.split('/')[-1])>2:\n",
        "    print('WARNING: Date format changed!!!!')"
      ],
      "execution_count": 0,
      "outputs": []
    },
    {
      "cell_type": "markdown",
      "metadata": {
        "id": "n0oKGDTursX1",
        "colab_type": "text"
      },
      "source": [
        "## Fit to logistic or exponential model\n",
        "See: \n",
        "* https://twitter.com/burkert_andreas/status/1239692655833071616\n",
        "    * https://raw.githubusercontent.com/restrepo/Covid-19/master/covid-19.jpeg\n",
        "\n",
        "* Method for Python explained in \n",
        "[Covid-19 infection in Italy. Mathematical models and predictions](https://towardsdatascience.com/covid-19-infection-in-italy-mathematical-models-and-predictions-7784b4d7dd8d):\n",
        "\n",
        "> While the logistic model describes an infection growth that is going to stop in the future, the exponential model describes an unstoppable infection growth. For example, if a patient infects 2 patients per day, after 1 day we’ll have 2 infections, 4 after 2 days, 8 after 3 and so on. The most generic exponential function is:\n",
        "\n",
        "$$f(x,a,b,c)=a\\operatorname{e}^{b(x-c)}\\,.$$\n",
        "\n",
        "Which can be [interpreted as](https://en.wikipedia.org/wiki/Doubling_time)\n",
        "$$N(t)=N(t_0)\\operatorname{e}^{g(t-t_0)}$$\n",
        "\n",
        "or\n",
        "\n",
        "$g = \\dfrac{\\ln\\left(N(t)/N(t_0)\\right)}{t-t_0}$\n",
        "\n",
        "* $N(t)$ = the number of infected at time $t$\n",
        "* $N(t_0)$ = the number of infected at time $t_0$\n",
        "* $g$ = growth rate\n",
        "* $t$ = time (usually in days)\n",
        "\n",
        "Doubling time $T_d$:\n",
        "\n",
        "$T_d = \\dfrac{\\ln(2)}{g}$\n",
        "\n",
        "$T_d = (t-t_0)\\dfrac{\\ln(2)}{\\ln\\left(N(t)/N(t_0)\\right)}$\n",
        "\n",
        "For doubling times analysis for other countries see [Forbes](https://www.forbes.com/sites/startswithabang/2020/03/17/why-exponential-growth-is-so-scary-for-the-covid-19-coronavirus/#66dd44434e9b) - [Result](https://raw.githubusercontent.com/restrepo/Covid-19/master/img/doubling.jpg)\n",
        "\n"
      ]
    },
    {
      "cell_type": "markdown",
      "metadata": {
        "id": "wyrBVXeBOVRZ",
        "colab_type": "text"
      },
      "source": [
        "# Colombia"
      ]
    },
    {
      "cell_type": "markdown",
      "metadata": {
        "id": "B06YcwU5kRE8",
        "colab_type": "text"
      },
      "source": [
        "### Select data for Colombia"
      ]
    },
    {
      "cell_type": "code",
      "metadata": {
        "id": "OKuDneoi8phN",
        "colab_type": "code",
        "colab": {}
      },
      "source": [
        "NOT_OFFICIAL_UPDATE=False\n",
        "c='Colombia'\n",
        "max_forecast=1000\n",
        "prediction=22\n",
        "extra_days=16\n",
        "start_day='3/9/20'\n",
        "y=get_infected(c,date_start=start_day,date_end=dmax,DataFrame=cv)\n",
        "if NOT_OFFICIAL_UPDATE:\n",
        "    today=input('Last infected: ')\n",
        "    y.append(int(today))\n",
        "x=range(1,len(y)+1)"
      ],
      "execution_count": 0,
      "outputs": []
    },
    {
      "cell_type": "markdown",
      "metadata": {
        "id": "hygnPKYpf88d",
        "colab_type": "text"
      },
      "source": [
        "### Logistic model for Colombia"
      ]
    },
    {
      "cell_type": "code",
      "metadata": {
        "id": "wbC9csucbD6h",
        "colab_type": "code",
        "outputId": "d3744497-4411-4e71-e79b-1e7ef18cf8bd",
        "colab": {
          "base_uri": "https://localhost:8080/",
          "height": 34
        }
      },
      "source": [
        "logistic_fit = opt.curve_fit(logistic_model,x,y,p0=[2,10,100])\n",
        "logistic_end=int(logistic_fit[0][2])\n",
        "'logistic end: {} ± {} infected'.format(logistic_end,\n",
        "                               int(np.sqrt(logistic_fit[1][2,2])))"
      ],
      "execution_count": 46,
      "outputs": [
        {
          "output_type": "execute_result",
          "data": {
            "text/plain": [
              "'logistic end: 873 ± 54 infected'"
            ]
          },
          "metadata": {
            "tags": []
          },
          "execution_count": 46
        }
      ]
    },
    {
      "cell_type": "markdown",
      "metadata": {
        "id": "5UVvC_XWEpzk",
        "colab_type": "text"
      },
      "source": [
        "### Exponential model for Colombia"
      ]
    },
    {
      "cell_type": "markdown",
      "metadata": {
        "id": "oj76wgXuigZk",
        "colab_type": "text"
      },
      "source": [
        "Prepare data"
      ]
    },
    {
      "cell_type": "code",
      "metadata": {
        "id": "boCtIzi15e0y",
        "colab_type": "code",
        "outputId": "ddc309dc-4367-4e20-8ba1-c227f65613a6",
        "colab": {
          "base_uri": "https://localhost:8080/",
          "height": 68
        }
      },
      "source": [
        "exp_fit = opt.curve_fit(exponential_model,x,y,p0=[1,0.4,10])\n",
        "try:\n",
        "    Δb=np.sqrt(exp_fit[1][1,1])\n",
        "except:\n",
        "    Δb=0\n",
        "'exponential `b`-fitted parameter: {}  ± {}'.format(exp_fit[0][1].round(3),Δb.round(3))"
      ],
      "execution_count": 47,
      "outputs": [
        {
          "output_type": "stream",
          "text": [
            "/usr/local/lib/python3.6/dist-packages/ipykernel_launcher.py:2: RuntimeWarning: overflow encountered in exp\n",
            "  \n"
          ],
          "name": "stderr"
        },
        {
          "output_type": "execute_result",
          "data": {
            "text/plain": [
              "'exponential `b`-fitted parameter: 0.173  ± 0.01'"
            ]
          },
          "metadata": {
            "tags": []
          },
          "execution_count": 47
        }
      ]
    },
    {
      "cell_type": "markdown",
      "metadata": {
        "id": "BX2K94qZACv2",
        "colab_type": "text"
      },
      "source": [
        "Prediction next day"
      ]
    },
    {
      "cell_type": "code",
      "metadata": {
        "id": "q4B7lxuVfh-Y",
        "colab_type": "code",
        "outputId": "db79400d-2c8e-4f82-97d8-4ca9c513f608",
        "colab": {
          "base_uri": "https://localhost:8080/",
          "height": 34
        }
      },
      "source": [
        "exp_fit_co=exp_fit[0].copy()\n",
        "exponential_model_co=lambda x: exponential_model(x, exp_fit_co[0],exp_fit_co[1],exp_fit_co[2]  )\n",
        "infc=exponential_model_co(x[-1]+1  )\n",
        "pinfc=exponential_model(x[-1]+1, exp_fit_co[0],exp_fit_co[1]+Δb,exp_fit_co[2]  )-infc\n",
        "minfc=infc-exponential_model(x[-1]+1, exp_fit_co[0],exp_fit_co[1]-Δb,exp_fit_co[2]  )\n",
        "next_day=r'next day:  $%g^{+%g}_{-%g}$' %(\n",
        "                        int( infc ),int( pinfc ),int( minfc )  )\n",
        "print('day {}:  {} infected'.format(x[-1]+1,next_day) )"
      ],
      "execution_count": 48,
      "outputs": [
        {
          "output_type": "stream",
          "text": [
            "day 22:  next day:  $896^{+243}_{-191}$ infected\n"
          ],
          "name": "stdout"
        }
      ]
    },
    {
      "cell_type": "markdown",
      "metadata": {
        "id": "KeVqU_YvJAfS",
        "colab_type": "text"
      },
      "source": [
        "Iterpretation in terms of\n",
        "$$N(t)=N(t_0)\\operatorname{e}^{g(t-t_0)}$$"
      ]
    },
    {
      "cell_type": "code",
      "metadata": {
        "id": "Z-cVd2FTKVqR",
        "colab_type": "code",
        "outputId": "dad79486-4bc0-469f-dc8e-fd04d21409be",
        "colab": {
          "base_uri": "https://localhost:8080/",
          "height": 34
        }
      },
      "source": [
        "N0=exp_fit[0][0];g=exp_fit[0][1];t0=exp_fit[0][2]\n",
        "if exponential_model(t0,N0,g,t0)==N0:\n",
        "    Td=np.log(2)/g\n",
        "else:\n",
        "    print('WARNING: N(t) interpretation not working')\n",
        "    Td=None\n",
        "if Td:\n",
        "    dt=re.sub('\\.0\\s',' ', '(doubling time = {} days)'.format(Td.round(1)\n",
        "        ))\n",
        "    texmodel='N(t)=N(t_0)e^{t-t_0}='\n",
        "    print('T_d →  {}'.format(dt))\n",
        "else:\n",
        "    texmodel=''\n",
        "    dt=''"
      ],
      "execution_count": 49,
      "outputs": [
        {
          "output_type": "stream",
          "text": [
            "T_d →  (doubling time = 4 days)\n"
          ],
          "name": "stdout"
        }
      ]
    },
    {
      "cell_type": "markdown",
      "metadata": {
        "id": "_SDaHxDWijWJ",
        "colab_type": "text"
      },
      "source": [
        "Visualization"
      ]
    },
    {
      "cell_type": "code",
      "metadata": {
        "id": "qhDjsZXGHwYi",
        "colab_type": "code",
        "outputId": "e8f7ff46-e7e2-41ee-a9c4-ef1fe02216cb",
        "colab": {
          "base_uri": "https://localhost:8080/",
          "height": 300
        }
      },
      "source": [
        "LOGISTIC=True\n",
        "ERRORS=True\n",
        "ylinlog='log'\n",
        "xx=range(x[0],x[-1]+extra_days)\n",
        "if min(y)>0:\n",
        "    ymin=min(y)\n",
        "else:\n",
        "    ymin=1\n",
        "\n",
        "plt.plot(x,y,'r-',label=c)\n",
        "plt.plot(xx,\n",
        "         exponential_model(xx,exp_fit[0][0],exp_fit[0][1],exp_fit[0][2]),\n",
        "         'k:',\n",
        "         label=r'$%s%g\\cdot e^{%g[t-(%g)]}$' %(texmodel,\n",
        "                                             exp_fit[0][0].round(2),\n",
        "                                             exp_fit[0][1].round(3),\n",
        "                                             exp_fit[0][2].round(2)) )\n",
        "if ERRORS:\n",
        "    plt.plot(xx,\n",
        "         exponential_model(xx,exp_fit[0][0],exp_fit[0][1]+Δb,exp_fit[0][2]),\n",
        "         'm:',lw=0.5)\n",
        "    plt.plot(xx,\n",
        "         exponential_model(xx,exp_fit[0][0],exp_fit[0][1]-Δb,exp_fit[0][2]),\n",
        "         'm:',lw=0.5)\n",
        "plt.hlines(max_forecast,xx[0],xx[-1],linestyles='--',lw=1)\n",
        "plt.vlines(prediction,ymin,max_forecast,linestyles='--',lw=1)\n",
        "\n",
        "plt.title('From: {} to {}'.format(\n",
        "    datetime.datetime.strptime(start_day,\"%m/%d/%y\").strftime(\"%B %-d, %Y\"),\n",
        "    datetime.datetime.strptime(dmax,\"%m/%d/%y\").strftime(\"%B %-d, %Y\") ) )\n",
        "plt.plot(x[-1]+1,infc,'r*',markersize=10,\n",
        "         label=next_day\n",
        "         )\n",
        "\n",
        "if LOGISTIC:\n",
        "    plt.plot(xx,\n",
        "         logistic_model(xx,logistic_fit[0][0],logistic_fit[0][1],logistic_fit[0][2]),\n",
        "         'c:',lw=2,label='Logistic model → max infected = {}'.format(logistic_end)\n",
        "          )\n",
        "\n",
        "plt.legend()#(loc='upper left')\n",
        "plt.xscale('linear')\n",
        "plt.yscale(ylinlog)\n",
        "plt.xlabel('days',size=15)\n",
        "plt.ylabel('infected '+dt,size=13 )\n",
        "if ylinlog=='linear':\n",
        "    xmax=x[-1]+2\n",
        "    ymax=y[-1]+infc+Δb\n",
        "else:\n",
        "    xmax=xx[-1]\n",
        "    ymax=max_forecast+30000\n",
        "plt.xlim(xx[0],xmax)\n",
        "plt.ylim(ymin,ymax)\n",
        "plt.grid()\n",
        "plt.savefig('Colombia.png')"
      ],
      "execution_count": 50,
      "outputs": [
        {
          "output_type": "display_data",
          "data": {
            "image/png": "[encoded data removed]",
            "text/plain": [
              "<Figure size 432x288 with 1 Axes>"
            ]
          },
          "metadata": {
            "tags": []
          }
        }
      ]
    },
    {
      "cell_type": "markdown",
      "metadata": {
        "id": "Nr4ABj2LOyW6",
        "colab_type": "text"
      },
      "source": [
        "\n",
        "## Doubling time"
      ]
    },
    {
      "cell_type": "code",
      "metadata": {
        "id": "f0etVs6E-l0M",
        "colab_type": "code",
        "outputId": "19db0037-19e3-4f46-8ed3-1eb5f1baedeb",
        "colab": {
          "base_uri": "https://localhost:8080/",
          "height": 85
        }
      },
      "source": [
        "sp=dataframe_doubling(x,y,start_date=start_day,final_date=dmax)"
      ],
      "execution_count": 51,
      "outputs": [
        {
          "output_type": "stream",
          "text": [
            "/usr/local/lib/python3.6/dist-packages/ipykernel_launcher.py:2: RuntimeWarning: overflow encountered in exp\n",
            "  \n",
            "/usr/local/lib/python3.6/dist-packages/scipy/optimize/minpack.py:808: OptimizeWarning: Covariance of the parameters could not be estimated\n",
            "  category=OptimizeWarning)\n"
          ],
          "name": "stderr"
        }
      ]
    },
    {
      "cell_type": "code",
      "metadata": {
        "id": "fr2lQ8gjWlnk",
        "colab_type": "code",
        "outputId": "c579d5be-507f-4391-de0f-767f62089cff",
        "colab": {
          "base_uri": "https://localhost:8080/",
          "height": 295
        }
      },
      "source": [
        "plt.plot(sp['day'],sp['Td'],'k-')\n",
        "plt.plot(sp['day'],sp['Td'],'r.')\n",
        "plt.title('Example: A DT of 2 means that infections double every 2 days')\n",
        "plt.xlabel('days from {}'.format(\n",
        "    datetime.datetime.strptime(start_day,\"%m/%d/%y\").strftime(\"%B %-d, %Y\")\n",
        "  ))\n",
        "plt.ylabel('Doubling time (DT) in units of days')\n",
        "plt.grid()\n",
        "plt.savefig('doublingtime.png')"
      ],
      "execution_count": 52,
      "outputs": [
        {
          "output_type": "display_data",
          "data": {
            "image/png": "[encoded data removed]",
            "text/plain": [
              "<Figure size 432x288 with 1 Axes>"
            ]
          },
          "metadata": {
            "tags": []
          }
        }
      ]
    },
    {
      "cell_type": "markdown",
      "metadata": {
        "id": "lKpGuQ8AZYGc",
        "colab_type": "text"
      },
      "source": [
        "RO estimation (See Appendix)"
      ]
    },
    {
      "cell_type": "code",
      "metadata": {
        "id": "b8QDE1fpZe7c",
        "colab_type": "code",
        "outputId": "d8ca6d8f-53fe-4eed-dd1e-2dd8579b1424",
        "colab": {
          "base_uri": "https://localhost:8080/",
          "height": 301
        }
      },
      "source": [
        "γ=1./4.1 # 1/days #less worst value\n",
        "μ=1/(70*365) #1/days #Does not matter at all!\n",
        "plt.plot(sp['day'],RO(sp['Td'].values,γ,μ   ),'ro' )\n",
        "plt.plot(sp['day'],RO(sp['Td'].values,γ,μ  ),'k-' )\n",
        "plt.grid()\n",
        "plt.xlabel('days',size=15)\n",
        "plt.ylabel('RO',size=15)"
      ],
      "execution_count": 53,
      "outputs": [
        {
          "output_type": "execute_result",
          "data": {
            "text/plain": [
              "Text(0, 0.5, 'RO')"
            ]
          },
          "metadata": {
            "tags": []
          },
          "execution_count": 53
        },
        {
          "output_type": "display_data",
          "data": {
            "image/png": "[encoded data removed]",
            "text/plain": [
              "<Figure size 432x288 with 1 Axes>"
            ]
          },
          "metadata": {
            "tags": []
          }
        }
      ]
    },
    {
      "cell_type": "code",
      "metadata": {
        "id": "OZNQ_2OxZpCM",
        "colab_type": "code",
        "colab": {}
      },
      "source": [
        ""
      ],
      "execution_count": 0,
      "outputs": []
    },
    {
      "cell_type": "markdown",
      "metadata": {
        "id": "t3pI27BkA8bh",
        "colab_type": "text"
      },
      "source": [
        "### Other country"
      ]
    },
    {
      "cell_type": "code",
      "metadata": {
        "id": "wIsVKF8CwjBh",
        "colab_type": "code",
        "outputId": "d03aecf4-4730-4dad-c1d9-8ed63164778c",
        "colab": {
          "base_uri": "https://localhost:8080/",
          "height": 85
        }
      },
      "source": [
        "c='Australia'\n",
        "max_forecast=10000\n",
        "prediction=34#21\n",
        "start_day='3/1/20'\n",
        "y=get_infected(c,date_start=start_day,date_end=dmax,DataFrame=cv)\n",
        "x=range(1,len(y)+1)\n",
        "exp_fit = opt.curve_fit(exponential_model,x,y,p0=[1,0.4,10])\n",
        "exp_fit"
      ],
      "execution_count": 54,
      "outputs": [
        {
          "output_type": "execute_result",
          "data": {
            "text/plain": [
              "(array([  5.53455572,   0.16744186, -10.73216237]),\n",
              " array([[ 1.99069913e+13, -1.31296857e+03,  2.14812150e+13],\n",
              "        [-1.31296830e+03,  2.86046198e-05, -1.41679010e+03],\n",
              "        [ 2.14812150e+13, -1.41679041e+03,  2.31799266e+13]]))"
            ]
          },
          "metadata": {
            "tags": []
          },
          "execution_count": 54
        }
      ]
    },
    {
      "cell_type": "code",
      "metadata": {
        "id": "FukSUSfNKJ9O",
        "colab_type": "code",
        "outputId": "f5f501ad-54f2-4feb-cfcf-2b8920035a6c",
        "colab": {
          "base_uri": "https://localhost:8080/",
          "height": 312
        }
      },
      "source": [
        "xx=range(x[0],x[-1]+20)\n",
        "if min(y)>0:\n",
        "    ymin=min(y)\n",
        "else:\n",
        "    ymin=1\n",
        "\n",
        "plt.plot(x,y,'r-',label=c)\n",
        "plt.plot(xx,\n",
        "         exponential_model(xx,exp_fit[0][0],exp_fit[0][1],exp_fit[0][2]),\n",
        "         'k:',\n",
        "         label=r'$%g\\cdot e^{%g[x-(%g)]}$' %(exp_fit[0][0],exp_fit[0][1],exp_fit[0][2]) )\n",
        "\n",
        "plt.plot(xx,exponential_model_co(xx),'c:',label='Colombia model')\n",
        "\n",
        "plt.hlines(max_forecast,xx[0],xx[-1],linestyles='--',lw=1)\n",
        "plt.vlines(prediction,ymin,max_forecast,linestyles='--',lw=1)\n",
        "\n",
        "plt.title('From: {} to {}'.format(\n",
        "    datetime.datetime.strptime(start_day,\"%m/%d/%y\").strftime(\"%B %-d, %Y\"),\n",
        "    datetime.datetime.strptime(dmax,\"%m/%d/%y\").strftime(\"%B %-d, %Y\") ) ) \n",
        "plt.legend(loc='best')\n",
        "plt.xscale('linear')\n",
        "plt.yscale('log')\n",
        "plt.xlabel('days')\n",
        "plt.ylabel('infected')\n",
        "plt.xlim(xx[0],xx[-1])\n",
        "plt.ylim(ymin,max_forecast+10000)"
      ],
      "execution_count": 55,
      "outputs": [
        {
          "output_type": "execute_result",
          "data": {
            "text/plain": [
              "(27, 20000)"
            ]
          },
          "metadata": {
            "tags": []
          },
          "execution_count": 55
        },
        {
          "output_type": "display_data",
          "data": {
            "image/png": "[encoded data removed]",
            "text/plain": [
              "<Figure size 432x288 with 1 Axes>"
            ]
          },
          "metadata": {
            "tags": []
          }
        }
      ]
    },
    {
      "cell_type": "code",
      "metadata": {
        "id": "fWSwwhu66ErC",
        "colab_type": "code",
        "outputId": "4fc13e37-92c9-44cb-d437-8c5c4c9af092",
        "colab": {
          "base_uri": "https://localhost:8080/",
          "height": 34
        }
      },
      "source": [
        "N0=exp_fit[0][0];g=exp_fit[0][1];t0=exp_fit[0][2]\n",
        "if exponential_model(t0,N0,g,t0)==N0:\n",
        "    Td=np.log(2)/g\n",
        "else:\n",
        "    print('WARNING: N(t) interpretation not working')\n",
        "    Td=None\n",
        "if Td:\n",
        "    dt='(doubling time = {} days)'.format(Td.round(2))\n",
        "    print('T_d →  {}'.format(dt))"
      ],
      "execution_count": 56,
      "outputs": [
        {
          "output_type": "stream",
          "text": [
            "T_d →  (doubling time = 4.14 days)\n"
          ],
          "name": "stdout"
        }
      ]
    },
    {
      "cell_type": "code",
      "metadata": {
        "id": "Wc731u72_P-S",
        "colab_type": "code",
        "outputId": "338c5c6a-8e14-4d40-9179-b9496c7306d6",
        "colab": {
          "base_uri": "https://localhost:8080/",
          "height": 85
        }
      },
      "source": [
        "spa=dataframe_doubling(x,y,start_date=start_day,final_date=dmax)"
      ],
      "execution_count": 57,
      "outputs": [
        {
          "output_type": "stream",
          "text": [
            "/usr/local/lib/python3.6/dist-packages/scipy/optimize/minpack.py:808: OptimizeWarning: Covariance of the parameters could not be estimated\n",
            "  category=OptimizeWarning)\n",
            "/usr/local/lib/python3.6/dist-packages/ipykernel_launcher.py:2: RuntimeWarning: overflow encountered in exp\n",
            "  \n"
          ],
          "name": "stderr"
        }
      ]
    },
    {
      "cell_type": "code",
      "metadata": {
        "id": "szBf6Bo2A6D8",
        "colab_type": "code",
        "outputId": "a4f6cc06-1cdb-4632-82f3-9be39d06118c",
        "colab": {
          "base_uri": "https://localhost:8080/",
          "height": 120
        }
      },
      "source": [
        "c='Spain'\n",
        "start_day='3/1/20'\n",
        "y=get_infected(c,date_start=start_day,date_end=dmax,DataFrame=cv)\n",
        "x=range(1,len(y)+1)\n",
        "sps=dataframe_doubling(x,y,start_date=start_day,final_date=dmax)"
      ],
      "execution_count": 58,
      "outputs": [
        {
          "output_type": "stream",
          "text": [
            "/usr/local/lib/python3.6/dist-packages/scipy/optimize/minpack.py:808: OptimizeWarning: Covariance of the parameters could not be estimated\n",
            "  category=OptimizeWarning)\n",
            "/usr/local/lib/python3.6/dist-packages/ipykernel_launcher.py:2: RuntimeWarning: overflow encountered in exp\n",
            "  \n",
            "/usr/local/lib/python3.6/dist-packages/ipykernel_launcher.py:2: RuntimeWarning: overflow encountered in multiply\n",
            "  \n"
          ],
          "name": "stderr"
        }
      ]
    },
    {
      "cell_type": "code",
      "metadata": {
        "id": "Q0JxauZ_8KWP",
        "colab_type": "code",
        "outputId": "ab937279-8ca8-488d-ea0f-14c8b2e11512",
        "colab": {
          "base_uri": "https://localhost:8080/",
          "height": 120
        }
      },
      "source": [
        "c='Italy'\n",
        "start_day='3/1/20'\n",
        "y=get_infected(c,date_start=start_day,date_end=dmax,DataFrame=cv)\n",
        "x=range(1,len(y)+1)\n",
        "spi=dataframe_doubling(x,y,start_date=start_day,final_date=dmax)"
      ],
      "execution_count": 59,
      "outputs": [
        {
          "output_type": "stream",
          "text": [
            "/usr/local/lib/python3.6/dist-packages/scipy/optimize/minpack.py:808: OptimizeWarning: Covariance of the parameters could not be estimated\n",
            "  category=OptimizeWarning)\n",
            "/usr/local/lib/python3.6/dist-packages/ipykernel_launcher.py:2: RuntimeWarning: overflow encountered in exp\n",
            "  \n",
            "/usr/local/lib/python3.6/dist-packages/ipykernel_launcher.py:2: RuntimeWarning: overflow encountered in multiply\n",
            "  \n"
          ],
          "name": "stderr"
        }
      ]
    },
    {
      "cell_type": "code",
      "metadata": {
        "id": "WIRDT2Z8_nlz",
        "colab_type": "code",
        "outputId": "40db9ccc-18e0-49ff-964c-c3d61c392c39",
        "colab": {
          "base_uri": "https://localhost:8080/",
          "height": 295
        }
      },
      "source": [
        "plt.plot(spa['day'],spa['Td'],'k--')\n",
        "plt.plot(spa['day'],spa['Td'],'g.',markersize=15,label='Australia')\n",
        "plt.plot(sps['day'],sps['Td'],'k--')\n",
        "plt.plot(sps['day'],sps['Td'],'y.',markersize=15,label='Spain')\n",
        "plt.plot(spi['day'],spi['Td'],'k--')\n",
        "plt.plot(spi['day'],spi['Td'],'c.',markersize=15,label='Italy')\n",
        "plt.plot(sp['day']+8,sp['Td'],'k--')\n",
        "plt.plot(sp['day']+8,sp['Td'],'r.',markersize=15,label='Colombia')\n",
        "\n",
        "plt.title('Example: A DT of 2 means that infected double every 2 days')\n",
        "plt.xlabel('days from {}'.format(\n",
        "    datetime.datetime.strptime(start_day,\"%m/%d/%y\").strftime(\"%B %-d, %Y\")\n",
        "  ))\n",
        "plt.ylabel('Doubling time (DT) in units of days')\n",
        "plt.savefig('doublingtime.png')\n",
        "plt.legend()\n",
        "plt.grid()"
      ],
      "execution_count": 60,
      "outputs": [
        {
          "output_type": "display_data",
          "data": {
            "image/png": "[encoded data removed]",
            "text/plain": [
              "<Figure size 432x288 with 1 Axes>"
            ]
          },
          "metadata": {
            "tags": []
          }
        }
      ]
    },
    {
      "cell_type": "code",
      "metadata": {
        "id": "JW1yUGouZGEp",
        "colab_type": "code",
        "outputId": "f1cc89e3-e9be-4b5a-eef4-af5a37a4d9c5",
        "colab": {
          "base_uri": "https://localhost:8080/",
          "height": 120
        }
      },
      "source": [
        "#Day 1: infected > 10\n",
        "mininf=10\n",
        "c='Italy'\n",
        "start_day='2/19/20'\n",
        "y=get_infected(c,date_start=start_day,date_end=dmax,DataFrame=cv)\n",
        "x=range(1,len(y)+1)\n",
        "spi=dataframe_doubling(x,y,start_date=start_day,final_date=dmax)\n",
        "c='Spain'\n",
        "start_day='2/24/20'\n",
        "y=get_infected(c,date_start=start_day,date_end=dmax,DataFrame=cv)\n",
        "x=range(1,len(y)+1)\n",
        "sps=dataframe_doubling(x,y,start_date=start_day,final_date=dmax)\n",
        "c='Colombia'\n",
        "start_day='3/11/20'\n",
        "y=get_infected(c,date_start=start_day,date_end=dmax,DataFrame=cv)\n",
        "x=range(1,len(y)+1)\n",
        "sp=dataframe_doubling(x,y,start_date=start_day,final_date=dmax)\n",
        "c='Korea, South'\n",
        "start_day='2/18/20'\n",
        "y=get_infected(c,date_start=start_day,date_end='3/15/20',DataFrame=cv)\n",
        "x=range(1,len(y)+1)\n",
        "spk=dataframe_doubling(x,y,start_date=start_day,final_date=dmax)"
      ],
      "execution_count": 61,
      "outputs": [
        {
          "output_type": "stream",
          "text": [
            "/usr/local/lib/python3.6/dist-packages/ipykernel_launcher.py:2: RuntimeWarning: overflow encountered in exp\n",
            "  \n",
            "/usr/local/lib/python3.6/dist-packages/scipy/optimize/minpack.py:808: OptimizeWarning: Covariance of the parameters could not be estimated\n",
            "  category=OptimizeWarning)\n",
            "/usr/local/lib/python3.6/dist-packages/ipykernel_launcher.py:2: RuntimeWarning: overflow encountered in multiply\n",
            "  \n"
          ],
          "name": "stderr"
        }
      ]
    },
    {
      "cell_type": "code",
      "metadata": {
        "id": "Z1JLX-PUiQYB",
        "colab_type": "code",
        "outputId": "5a64752c-e0fe-4094-9378-3abe5470dd53",
        "colab": {
          "base_uri": "https://localhost:8080/",
          "height": 34
        }
      },
      "source": [
        "xstart=3\n",
        "fd=sp['day'].max()-xstart\n",
        "fd"
      ],
      "execution_count": 87,
      "outputs": [
        {
          "output_type": "execute_result",
          "data": {
            "text/plain": [
              "16"
            ]
          },
          "metadata": {
            "tags": []
          },
          "execution_count": 87
        }
      ]
    },
    {
      "cell_type": "code",
      "metadata": {
        "id": "NUqy2YTj8z8G",
        "colab_type": "code",
        "outputId": "c0eba3db-3a29-406c-cb25-4acff79d0ab4",
        "colab": {
          "base_uri": "https://localhost:8080/",
          "height": 295
        }
      },
      "source": [
        "xshift=0\n",
        "ms=10\n",
        "plt.plot(sp['day']-xshift,sp['Td'],'r--')\n",
        "plt.plot(sp['day']-xshift,sp['Td'],'r.',markersize=ms,\n",
        "         label='Colombia → infected day {}: {}'.format(\n",
        "                 fd+xstart,sp.loc[fd,'infected']))\n",
        "plt.plot(sps['day']-xshift,sps['Td'],'y--')\n",
        "plt.plot(sps['day']-xshift,sps['Td'],'y.',markersize=ms,\n",
        "         label='Spain → infected day {}: {}'.format(\n",
        "                 fd+xstart,sps.loc[fd,'infected']))\n",
        "plt.plot(spi['day']-xshift,spi['Td'],'b--')\n",
        "plt.plot(spi['day']-xshift,spi['Td'],'b.',markersize=ms,\n",
        "         label='Italy → infected day {}: {}'.format(\n",
        "                 fd+xstart,spi.loc[fd,'infected']))\n",
        "plt.plot(spk['day']-xshift,spk['Td'],'g--')\n",
        "plt.plot(spk['day']-xshift,spk['Td'],'g.',markersize=ms,\n",
        "         label='Korea → infected day {}: {}'.format(\n",
        "                 fd+xstart,spk.loc[fd,'infected']))\n",
        "\n",
        "plt.text(sp['day'].values[-1]-xshift-1,5.5,'day {}'.format(fd+xstart),rotation=90)\n",
        "plt.vlines(sp['day'].values[-1]-xshift,0,10,linestyles=':',colors='c')\n",
        "plt.title('Day 1: infected > 10')\n",
        "plt.xlabel('days')\n",
        "plt.ylabel('Doubling time (DT) in units of days')\n",
        "plt.legend(loc=(0.5,0.02))\n",
        "plt.grid()\n",
        "plt.xlim(xstart,spi['day'].max())\n",
        "plt.ylim(0,int(spk['Td'].max())-1)\n",
        "plt.savefig('contention.png')"
      ],
      "execution_count": 96,
      "outputs": [
        {
          "output_type": "display_data",
          "data": {
            "image/png": "[encoded data removed]",
            "text/plain": [
              "<Figure size 432x288 with 1 Axes>"
            ]
          },
          "metadata": {
            "tags": []
          }
        }
      ]
    },
    {
      "cell_type": "markdown",
      "metadata": {
        "id": "VBUfaYgEjfo4",
        "colab_type": "text"
      },
      "source": [
        "### Last update"
      ]
    },
    {
      "cell_type": "code",
      "metadata": {
        "id": "r3SZix2TbpbJ",
        "colab_type": "code",
        "outputId": "b03746d7-25d0-4648-bb20-05fa696b1f26",
        "colab": {
          "base_uri": "https://localhost:8080/",
          "height": 51
        }
      },
      "source": [
        "cv.loc['Colombia'][-1:]"
      ],
      "execution_count": 29,
      "outputs": [
        {
          "output_type": "execute_result",
          "data": {
            "text/plain": [
              "3/29/20    702\n",
              "Name: Colombia, dtype: int64"
            ]
          },
          "metadata": {
            "tags": []
          },
          "execution_count": 29
        }
      ]
    },
    {
      "cell_type": "markdown",
      "metadata": {
        "id": "L9T51Hfdl6fv",
        "colab_type": "text"
      },
      "source": [
        "## Last official data from Colombia"
      ]
    },
    {
      "cell_type": "code",
      "metadata": {
        "id": "0v39TKzxW2Rp",
        "colab_type": "code",
        "colab": {}
      },
      "source": [
        "import requests\n",
        "import pandas as pd\n",
        "\n",
        "r=requests.get('https://infogram.com/covid-2019-ins-colombia-1hnq41zg9ord63z')\n",
        "#https://infogram.com/detallecasos-1h7z2l9yqgdy2ow\n",
        "\n",
        "head='\"data\":[[[\"ID de caso\",'\n",
        "tail=']]]'\n",
        "js='{}{}{}'.format( head.split(':')[-1],\n",
        "                 r.text.split(head)[-1].split(tail)[0],\n",
        "                 tail\n",
        "             )\n",
        "\n",
        "df=pd.read_json(js)\n",
        "\n",
        "for imax in df.columns:\n",
        "    if len([ l for l in df[imax][0] if l and l!='0' ])==0:\n",
        "        break\n",
        "\n",
        "coco=pd.DataFrame([l for l in df[range(1,imax)].values[0]],columns=df[0][0] )\n",
        "#coco['Fecha']=pd.to_datetime(coco['Fecha de diagnóstico'],format=\"%d/%m/%Y\")"
      ],
      "execution_count": 0,
      "outputs": []
    },
    {
      "cell_type": "code",
      "metadata": {
        "id": "Sx92-ZQVYVew",
        "colab_type": "code",
        "outputId": "7742a72e-dc7e-4feb-ba5b-782a1b3e881d",
        "colab": {
          "base_uri": "https://localhost:8080/",
          "height": 416
        }
      },
      "source": [
        "try:\n",
        "    cc=coco[coco['Fecha de diagnóstico']==coco['Fecha de diagnóstico'].values[-1]]\n",
        "except:\n",
        "    cc=coco\n",
        "cc"
      ],
      "execution_count": 31,
      "outputs": [
        {
          "output_type": "execute_result",
          "data": {
            "text/html": [
              "<div>\n",
              "<style scoped>\n",
              "    .dataframe tbody tr th:only-of-type {\n",
              "        vertical-align: middle;\n",
              "    }\n",
              "\n",
              "    .dataframe tbody tr th {\n",
              "        vertical-align: top;\n",
              "    }\n",
              "\n",
              "    .dataframe thead th {\n",
              "        text-align: right;\n",
              "    }\n",
              "</style>\n",
              "<table border=\"1\" class=\"dataframe\">\n",
              "  <thead>\n",
              "    <tr style=\"text-align: right;\">\n",
              "      <th></th>\n",
              "      <th>ID de caso</th>\n",
              "      <th>Fecha de diagnóstico</th>\n",
              "      <th>Ciudad de ubicación</th>\n",
              "      <th>Departamento</th>\n",
              "      <th>Atención**</th>\n",
              "      <th>Edad</th>\n",
              "      <th>Sexo</th>\n",
              "      <th>Tipo*</th>\n",
              "      <th>País de procedencia</th>\n",
              "    </tr>\n",
              "  </thead>\n",
              "  <tbody>\n",
              "    <tr>\n",
              "      <th>608</th>\n",
              "      <td>609</td>\n",
              "      <td>29/3/2020</td>\n",
              "      <td>Envigado</td>\n",
              "      <td>Antioquia</td>\n",
              "      <td>En casa</td>\n",
              "      <td>50 a 59</td>\n",
              "      <td>F</td>\n",
              "      <td>Importado</td>\n",
              "      <td>Turquía</td>\n",
              "    </tr>\n",
              "    <tr>\n",
              "      <th>609</th>\n",
              "      <td>610</td>\n",
              "      <td>29/3/2020</td>\n",
              "      <td>Envigado</td>\n",
              "      <td>Antioquia</td>\n",
              "      <td>Hospital</td>\n",
              "      <td>60 a 69</td>\n",
              "      <td>M</td>\n",
              "      <td>En estudio</td>\n",
              "      <td>Colombia</td>\n",
              "    </tr>\n",
              "    <tr>\n",
              "      <th>610</th>\n",
              "      <td>611</td>\n",
              "      <td>29/3/2020</td>\n",
              "      <td>Medellín</td>\n",
              "      <td>Antioquia</td>\n",
              "      <td>En casa</td>\n",
              "      <td>80 a 89</td>\n",
              "      <td>F</td>\n",
              "      <td>Importado</td>\n",
              "      <td>Panamá</td>\n",
              "    </tr>\n",
              "    <tr>\n",
              "      <th>611</th>\n",
              "      <td>612</td>\n",
              "      <td>29/3/2020</td>\n",
              "      <td>Medellín</td>\n",
              "      <td>Antioquia</td>\n",
              "      <td>Hospital UCI</td>\n",
              "      <td>40 a 49</td>\n",
              "      <td>M</td>\n",
              "      <td>En estudio</td>\n",
              "      <td>Colombia</td>\n",
              "    </tr>\n",
              "    <tr>\n",
              "      <th>612</th>\n",
              "      <td>613</td>\n",
              "      <td>29/3/2020</td>\n",
              "      <td>Bello</td>\n",
              "      <td>Antioquia</td>\n",
              "      <td>En casa</td>\n",
              "      <td>70 a 79</td>\n",
              "      <td>M</td>\n",
              "      <td>Importado</td>\n",
              "      <td>España</td>\n",
              "    </tr>\n",
              "    <tr>\n",
              "      <th>...</th>\n",
              "      <td>...</td>\n",
              "      <td>...</td>\n",
              "      <td>...</td>\n",
              "      <td>...</td>\n",
              "      <td>...</td>\n",
              "      <td>...</td>\n",
              "      <td>...</td>\n",
              "      <td>...</td>\n",
              "      <td>...</td>\n",
              "    </tr>\n",
              "    <tr>\n",
              "      <th>696</th>\n",
              "      <td>697</td>\n",
              "      <td>29/3/2020</td>\n",
              "      <td>Pereira</td>\n",
              "      <td>Risaralda</td>\n",
              "      <td>En casa</td>\n",
              "      <td>60 a 69</td>\n",
              "      <td>M</td>\n",
              "      <td>Relacionado</td>\n",
              "      <td>Colombia</td>\n",
              "    </tr>\n",
              "    <tr>\n",
              "      <th>697</th>\n",
              "      <td>698</td>\n",
              "      <td>29/3/2020</td>\n",
              "      <td>Pereira</td>\n",
              "      <td>Risaralda</td>\n",
              "      <td>En casa</td>\n",
              "      <td>30 a 39</td>\n",
              "      <td>M</td>\n",
              "      <td>Relacionado</td>\n",
              "      <td>Colombia</td>\n",
              "    </tr>\n",
              "    <tr>\n",
              "      <th>698</th>\n",
              "      <td>699</td>\n",
              "      <td>29/3/2020</td>\n",
              "      <td>Dosquebradas</td>\n",
              "      <td>Risaralda</td>\n",
              "      <td>En casa</td>\n",
              "      <td>20 a 29</td>\n",
              "      <td>M</td>\n",
              "      <td>Importado</td>\n",
              "      <td>Estados Unidos</td>\n",
              "    </tr>\n",
              "    <tr>\n",
              "      <th>699</th>\n",
              "      <td>700</td>\n",
              "      <td>29/3/2020</td>\n",
              "      <td>Pereira</td>\n",
              "      <td>Risaralda</td>\n",
              "      <td>En casa</td>\n",
              "      <td>40 a 49</td>\n",
              "      <td>F</td>\n",
              "      <td>Importado</td>\n",
              "      <td>Francia</td>\n",
              "    </tr>\n",
              "    <tr>\n",
              "      <th>700</th>\n",
              "      <td>701</td>\n",
              "      <td>29/3/2020</td>\n",
              "      <td>Arjona</td>\n",
              "      <td>Bolívar</td>\n",
              "      <td>En casa</td>\n",
              "      <td>20 a 29</td>\n",
              "      <td>M</td>\n",
              "      <td>Relacionado</td>\n",
              "      <td>Colombia</td>\n",
              "    </tr>\n",
              "  </tbody>\n",
              "</table>\n",
              "<p>93 rows × 9 columns</p>\n",
              "</div>"
            ],
            "text/plain": [
              "    ID de caso Fecha de diagnóstico  ...        Tipo* País de procedencia\n",
              "608        609            29/3/2020  ...    Importado             Turquía\n",
              "609        610            29/3/2020  ...   En estudio            Colombia\n",
              "610        611            29/3/2020  ...    Importado              Panamá\n",
              "611        612            29/3/2020  ...   En estudio            Colombia\n",
              "612        613            29/3/2020  ...    Importado              España\n",
              "..         ...                  ...  ...          ...                 ...\n",
              "696        697            29/3/2020  ...  Relacionado            Colombia\n",
              "697        698            29/3/2020  ...  Relacionado            Colombia\n",
              "698        699            29/3/2020  ...    Importado      Estados Unidos\n",
              "699        700            29/3/2020  ...    Importado             Francia\n",
              "700        701            29/3/2020  ...  Relacionado            Colombia\n",
              "\n",
              "[93 rows x 9 columns]"
            ]
          },
          "metadata": {
            "tags": []
          },
          "execution_count": 31
        }
      ]
    },
    {
      "cell_type": "markdown",
      "metadata": {
        "id": "_9YnXQtAKOdd",
        "colab_type": "text"
      },
      "source": [
        "## Appedix\n",
        "Estimation of R0 from the initial phase of an outbreak, https://doi.org/10.1111/j.1365-3156.2009.02413.x\n",
        "* $R_{0}=1+\\dfrac{g}{(\\mu+\\gamma)}\\,,$   [Ref](https://doi.org/10.1016/0035-9203(94)90498-7), $R_{0}\\approx1+\\dfrac{g}{\\gamma}\\,,$ if $\\mu\\ll\\gamma$,\n",
        "* $R_{0}=\\left(1+\\dfrac{g}{\\mu}\\right)\\left(1+\\dfrac{g}{\\gamma}\\right)$\n",
        "* $R_{0}=\\left(1+\\dfrac{g}{\\mu}\\right)\\left(1+\\dfrac{g}{\\gamma}\\right) \\mathrm{e}^{\\Lambda\\left(\\tau_{\\mathrm{i}}+\\tau_{\\mathrm{c}}\\right)}$\n",
        "\n",
        "* where\n",
        "    * $g$ is the exponential growth rate \n",
        "    * $\\mu$ is the [natural mortality rate](https://worldpopulationreview.com/countries/death-rate-by-country/)\n",
        "    * $\\gamma$ is the inverse of  the [infectious period](https://www.worldometers.info/coronavirus/coronavirus-incubation-period/), 5.7 (95% confidence interval [CI], 4.1 to 7.0) for COVID-19 [Previous ref]\n",
        "    * $\\tau_{\\mathrm{e}}$ is extrinsic incubation period\n",
        "    * $\\tau_{\\mathrm{i}}$ is the intrinsic incubation period \n",
        "\n"
      ]
    },
    {
      "cell_type": "markdown",
      "metadata": {
        "id": "Kx5alsHC92dq",
        "colab_type": "text"
      },
      "source": [
        "Example from https://doi.org/10.1016/0035-9203(94)90498-7, \n",
        "Dengue in Sao Paulo\n",
        "* $\\dfrac{1}{\\mu}=70\\ \\text{years}$\n",
        "* $\\dfrac{1}{\\gamma}=6\\ \\text{days}$"
      ]
    },
    {
      "cell_type": "code",
      "metadata": {
        "id": "2iWiqg5xwRSE",
        "colab_type": "code",
        "outputId": "08687919-6cd4-4a5b-8041-c48a80d99a6b",
        "colab": {
          "base_uri": "https://localhost:8080/",
          "height": 301
        }
      },
      "source": [
        "γ=1./4.1 # 1/days #More conservative value\n",
        "μ=1/(70*365) #1/days #Does not matter at all!\n",
        "plt.plot(sp['day'],RO(sp['Td'].values,γ=1/5.7  ),'ro' )\n",
        "plt.plot(sp['day'],RO(sp['Td'].values,γ=1/5.7  ),'k-' )\n",
        "plt.plot(sp['day'],RO(sp['Td'].values,γ=1/4.1   ),'c:' )\n",
        "plt.plot(sp['day'],RO(sp['Td'].values,γ=1/13  ),'c:' )\n",
        "plt.xlabel('days',size=15)\n",
        "plt.ylabel('RO',size=15)"
      ],
      "execution_count": 32,
      "outputs": [
        {
          "output_type": "execute_result",
          "data": {
            "text/plain": [
              "Text(0, 0.5, 'RO')"
            ]
          },
          "metadata": {
            "tags": []
          },
          "execution_count": 32
        },
        {
          "output_type": "display_data",
          "data": {
            "image/png": "[encoded data removed]",
            "text/plain": [
              "<Figure size 432x288 with 1 Axes>"
            ]
          },
          "metadata": {
            "tags": []
          }
        }
      ]
    },
    {
      "cell_type": "code",
      "metadata": {
        "id": "WHKmUpAMwpIb",
        "colab_type": "code",
        "outputId": "2074c456-37db-491f-e841-d201e035287d",
        "colab": {
          "base_uri": "https://localhost:8080/",
          "height": 572
        }
      },
      "source": [
        "sp"
      ],
      "execution_count": 33,
      "outputs": [
        {
          "output_type": "execute_result",
          "data": {
            "text/html": [
              "<div>\n",
              "<style scoped>\n",
              "    .dataframe tbody tr th:only-of-type {\n",
              "        vertical-align: middle;\n",
              "    }\n",
              "\n",
              "    .dataframe tbody tr th {\n",
              "        vertical-align: top;\n",
              "    }\n",
              "\n",
              "    .dataframe thead th {\n",
              "        text-align: right;\n",
              "    }\n",
              "</style>\n",
              "<table border=\"1\" class=\"dataframe\">\n",
              "  <thead>\n",
              "    <tr style=\"text-align: right;\">\n",
              "      <th></th>\n",
              "      <th>N0</th>\n",
              "      <th>Td</th>\n",
              "      <th>day</th>\n",
              "      <th>final_date</th>\n",
              "      <th>g</th>\n",
              "      <th>infected</th>\n",
              "      <th>start_date</th>\n",
              "      <th>t0</th>\n",
              "    </tr>\n",
              "  </thead>\n",
              "  <tbody>\n",
              "    <tr>\n",
              "      <th>0</th>\n",
              "      <td>2.469357</td>\n",
              "      <td>3.347247</td>\n",
              "      <td>3</td>\n",
              "      <td>3/29/20</td>\n",
              "      <td>0.207080</td>\n",
              "      <td>13</td>\n",
              "      <td>3/11/20</td>\n",
              "      <td>-4.839657</td>\n",
              "    </tr>\n",
              "    <tr>\n",
              "      <th>1</th>\n",
              "      <td>3.244955</td>\n",
              "      <td>1.861407</td>\n",
              "      <td>4</td>\n",
              "      <td>3/29/20</td>\n",
              "      <td>0.372378</td>\n",
              "      <td>22</td>\n",
              "      <td>3/11/20</td>\n",
              "      <td>-1.030463</td>\n",
              "    </tr>\n",
              "    <tr>\n",
              "      <th>2</th>\n",
              "      <td>6.430384</td>\n",
              "      <td>1.665484</td>\n",
              "      <td>5</td>\n",
              "      <td>3/29/20</td>\n",
              "      <td>0.416184</td>\n",
              "      <td>34</td>\n",
              "      <td>3/11/20</td>\n",
              "      <td>1.030856</td>\n",
              "    </tr>\n",
              "    <tr>\n",
              "      <th>3</th>\n",
              "      <td>39.744348</td>\n",
              "      <td>1.575931</td>\n",
              "      <td>6</td>\n",
              "      <td>3/29/20</td>\n",
              "      <td>0.439834</td>\n",
              "      <td>54</td>\n",
              "      <td>3/11/20</td>\n",
              "      <td>5.322333</td>\n",
              "    </tr>\n",
              "    <tr>\n",
              "      <th>4</th>\n",
              "      <td>48.814179</td>\n",
              "      <td>1.918896</td>\n",
              "      <td>7</td>\n",
              "      <td>3/29/20</td>\n",
              "      <td>0.361222</td>\n",
              "      <td>65</td>\n",
              "      <td>3/11/20</td>\n",
              "      <td>6.065236</td>\n",
              "    </tr>\n",
              "    <tr>\n",
              "      <th>5</th>\n",
              "      <td>47.439544</td>\n",
              "      <td>2.000345</td>\n",
              "      <td>8</td>\n",
              "      <td>3/29/20</td>\n",
              "      <td>0.346514</td>\n",
              "      <td>93</td>\n",
              "      <td>3/11/20</td>\n",
              "      <td>6.019982</td>\n",
              "    </tr>\n",
              "    <tr>\n",
              "      <th>6</th>\n",
              "      <td>62.381582</td>\n",
              "      <td>2.401612</td>\n",
              "      <td>9</td>\n",
              "      <td>3/29/20</td>\n",
              "      <td>0.288617</td>\n",
              "      <td>102</td>\n",
              "      <td>3/11/20</td>\n",
              "      <td>7.010325</td>\n",
              "    </tr>\n",
              "    <tr>\n",
              "      <th>7</th>\n",
              "      <td>107.582236</td>\n",
              "      <td>2.636314</td>\n",
              "      <td>10</td>\n",
              "      <td>3/29/20</td>\n",
              "      <td>0.262923</td>\n",
              "      <td>128</td>\n",
              "      <td>3/11/20</td>\n",
              "      <td>9.147384</td>\n",
              "    </tr>\n",
              "    <tr>\n",
              "      <th>8</th>\n",
              "      <td>1.912661</td>\n",
              "      <td>2.440531</td>\n",
              "      <td>11</td>\n",
              "      <td>3/29/20</td>\n",
              "      <td>0.284015</td>\n",
              "      <td>196</td>\n",
              "      <td>3/11/20</td>\n",
              "      <td>-5.174346</td>\n",
              "    </tr>\n",
              "    <tr>\n",
              "      <th>9</th>\n",
              "      <td>17.228739</td>\n",
              "      <td>2.578967</td>\n",
              "      <td>12</td>\n",
              "      <td>3/29/20</td>\n",
              "      <td>0.268769</td>\n",
              "      <td>231</td>\n",
              "      <td>3/11/20</td>\n",
              "      <td>2.236553</td>\n",
              "    </tr>\n",
              "    <tr>\n",
              "      <th>10</th>\n",
              "      <td>9.286330</td>\n",
              "      <td>2.769114</td>\n",
              "      <td>13</td>\n",
              "      <td>3/29/20</td>\n",
              "      <td>0.250314</td>\n",
              "      <td>277</td>\n",
              "      <td>3/11/20</td>\n",
              "      <td>-0.735796</td>\n",
              "    </tr>\n",
              "    <tr>\n",
              "      <th>11</th>\n",
              "      <td>14.234186</td>\n",
              "      <td>2.738672</td>\n",
              "      <td>14</td>\n",
              "      <td>3/29/20</td>\n",
              "      <td>0.253096</td>\n",
              "      <td>378</td>\n",
              "      <td>3/11/20</td>\n",
              "      <td>1.069149</td>\n",
              "    </tr>\n",
              "    <tr>\n",
              "      <th>12</th>\n",
              "      <td>14.923199</td>\n",
              "      <td>2.787628</td>\n",
              "      <td>15</td>\n",
              "      <td>3/29/20</td>\n",
              "      <td>0.248651</td>\n",
              "      <td>470</td>\n",
              "      <td>3/11/20</td>\n",
              "      <td>1.082932</td>\n",
              "    </tr>\n",
              "    <tr>\n",
              "      <th>13</th>\n",
              "      <td>13.943269</td>\n",
              "      <td>3.139234</td>\n",
              "      <td>16</td>\n",
              "      <td>3/29/20</td>\n",
              "      <td>0.220801</td>\n",
              "      <td>491</td>\n",
              "      <td>3/11/20</td>\n",
              "      <td>-0.546832</td>\n",
              "    </tr>\n",
              "    <tr>\n",
              "      <th>14</th>\n",
              "      <td>11.456214</td>\n",
              "      <td>3.499649</td>\n",
              "      <td>17</td>\n",
              "      <td>3/29/20</td>\n",
              "      <td>0.198062</td>\n",
              "      <td>539</td>\n",
              "      <td>3/11/20</td>\n",
              "      <td>-2.973356</td>\n",
              "    </tr>\n",
              "    <tr>\n",
              "      <th>15</th>\n",
              "      <td>13.221822</td>\n",
              "      <td>3.807143</td>\n",
              "      <td>18</td>\n",
              "      <td>3/29/20</td>\n",
              "      <td>0.182065</td>\n",
              "      <td>608</td>\n",
              "      <td>3/11/20</td>\n",
              "      <td>-3.537610</td>\n",
              "    </tr>\n",
              "    <tr>\n",
              "      <th>16</th>\n",
              "      <td>12.514924</td>\n",
              "      <td>4.036487</td>\n",
              "      <td>19</td>\n",
              "      <td>3/29/20</td>\n",
              "      <td>0.171720</td>\n",
              "      <td>702</td>\n",
              "      <td>3/11/20</td>\n",
              "      <td>-4.854354</td>\n",
              "    </tr>\n",
              "  </tbody>\n",
              "</table>\n",
              "</div>"
            ],
            "text/plain": [
              "            N0        Td  day  ... infected  start_date        t0\n",
              "0     2.469357  3.347247    3  ...       13     3/11/20 -4.839657\n",
              "1     3.244955  1.861407    4  ...       22     3/11/20 -1.030463\n",
              "2     6.430384  1.665484    5  ...       34     3/11/20  1.030856\n",
              "3    39.744348  1.575931    6  ...       54     3/11/20  5.322333\n",
              "4    48.814179  1.918896    7  ...       65     3/11/20  6.065236\n",
              "5    47.439544  2.000345    8  ...       93     3/11/20  6.019982\n",
              "6    62.381582  2.401612    9  ...      102     3/11/20  7.010325\n",
              "7   107.582236  2.636314   10  ...      128     3/11/20  9.147384\n",
              "8     1.912661  2.440531   11  ...      196     3/11/20 -5.174346\n",
              "9    17.228739  2.578967   12  ...      231     3/11/20  2.236553\n",
              "10    9.286330  2.769114   13  ...      277     3/11/20 -0.735796\n",
              "11   14.234186  2.738672   14  ...      378     3/11/20  1.069149\n",
              "12   14.923199  2.787628   15  ...      470     3/11/20  1.082932\n",
              "13   13.943269  3.139234   16  ...      491     3/11/20 -0.546832\n",
              "14   11.456214  3.499649   17  ...      539     3/11/20 -2.973356\n",
              "15   13.221822  3.807143   18  ...      608     3/11/20 -3.537610\n",
              "16   12.514924  4.036487   19  ...      702     3/11/20 -4.854354\n",
              "\n",
              "[17 rows x 8 columns]"
            ]
          },
          "metadata": {
            "tags": []
          },
          "execution_count": 33
        }
      ]
    },
    {
      "cell_type": "code",
      "metadata": {
        "id": "bkzkS5DhgrfX",
        "colab_type": "code",
        "outputId": "5d71e0c4-a8e1-49fd-8403-35b7536fad7a",
        "colab": {
          "base_uri": "https://localhost:8080/",
          "height": 34
        }
      },
      "source": [
        "import numpy as np\n",
        "td=6.93 # days\n",
        "γ=1./6 # 1/days\n",
        "μ=1/(70*365) #1/days # Very small contribution\n",
        "1+np.log(2)/(td*(μ+γ))\n",
        "RO(td,γ,μ)"
      ],
      "execution_count": 34,
      "outputs": [
        {
          "output_type": "execute_result",
          "data": {
            "text/plain": [
              "1.5999865320232693"
            ]
          },
          "metadata": {
            "tags": []
          },
          "execution_count": 34
        }
      ]
    },
    {
      "cell_type": "markdown",
      "metadata": {
        "id": "RSua_oEv61Uv",
        "colab_type": "text"
      },
      "source": [
        "Example COVID-19"
      ]
    },
    {
      "cell_type": "code",
      "metadata": {
        "id": "-aWmFOofGQ9U",
        "colab_type": "code",
        "outputId": "a9fb0145-f63c-499f-fc76-ae52e407d848",
        "colab": {
          "base_uri": "https://localhost:8080/",
          "height": 34
        }
      },
      "source": [
        "td=1 # days\n",
        "RO(td,γ,μ)"
      ],
      "execution_count": 35,
      "outputs": [
        {
          "output_type": "execute_result",
          "data": {
            "text/plain": [
              "5.157906666921256"
            ]
          },
          "metadata": {
            "tags": []
          },
          "execution_count": 35
        }
      ]
    },
    {
      "cell_type": "code",
      "metadata": {
        "id": "VCNqHTmtCjE1",
        "colab_type": "code",
        "outputId": "a3320cc5-713e-42a5-9319-4d1e2d79c028",
        "colab": {
          "base_uri": "https://localhost:8080/",
          "height": 34
        }
      },
      "source": [
        "td=2 # days\n",
        "γ=1./4.1 # 1/days #More conservative value\n",
        "μ=1/(70*365) #1/days #Does not matter at all!\n",
        "RO(td,γ,μ)"
      ],
      "execution_count": 36,
      "outputs": [
        {
          "output_type": "execute_result",
          "data": {
            "text/plain": [
              "2.420723737082446"
            ]
          },
          "metadata": {
            "tags": []
          },
          "execution_count": 36
        }
      ]
    },
    {
      "cell_type": "code",
      "metadata": {
        "id": "GhQQK0dCCsim",
        "colab_type": "code",
        "outputId": "da2abb19-ae4c-45f0-c7ed-a01b2cde5efb",
        "colab": {
          "base_uri": "https://localhost:8080/",
          "height": 34
        }
      },
      "source": [
        "td=3.5 # days\n",
        "RO(td,γ,μ)"
      ],
      "execution_count": 37,
      "outputs": [
        {
          "output_type": "execute_result",
          "data": {
            "text/plain": [
              "1.8118421354756835"
            ]
          },
          "metadata": {
            "tags": []
          },
          "execution_count": 37
        }
      ]
    },
    {
      "cell_type": "code",
      "metadata": {
        "id": "aw8MCvPHCzaR",
        "colab_type": "code",
        "outputId": "eda16624-7496-49aa-c762-15bf3bb48bf8",
        "colab": {
          "base_uri": "https://localhost:8080/",
          "height": 34
        }
      },
      "source": [
        "td=6.6 # days\n",
        "RO(td,γ,μ)"
      ],
      "execution_count": 38,
      "outputs": [
        {
          "output_type": "execute_result",
          "data": {
            "text/plain": [
              "1.4305223445704383"
            ]
          },
          "metadata": {
            "tags": []
          },
          "execution_count": 38
        }
      ]
    },
    {
      "cell_type": "code",
      "metadata": {
        "id": "0_Vv2tLgC5vS",
        "colab_type": "code",
        "colab": {}
      },
      "source": [
        ""
      ],
      "execution_count": 0,
      "outputs": []
    }
  ]
}