{
  "nbformat": 4,
  "nbformat_minor": 0,
  "metadata": {
    "kernelspec": {
      "display_name": "Python 3",
      "language": "python",
      "name": "python3"
    },
    "language_info": {
      "codemirror_mode": {
        "name": "ipython",
        "version": 3
      },
      "file_extension": ".py",
      "mimetype": "text/x-python",
      "name": "python",
      "nbconvert_exporter": "python",
      "pygments_lexer": "ipython3",
      "version": "3.7.3"
    },
    "colab": {
      "name": "covid.ipynb",
      "provenance": [],
      "include_colab_link": true
    }
  },
  "cells": [
    {
      "cell_type": "markdown",
      "metadata": {
        "id": "view-in-github",
        "colab_type": "text"
      },
      "source": [
        "<a href=\"https://colab.research.google.com/github/restrepo/COVID-19/blob/master/covid.ipynb\" target=\"_parent\"><img src=\"https://colab.research.google.com/assets/colab-badge.svg\" alt=\"Open In Colab\"/></a>"
      ]
    },
    {
      "cell_type": "markdown",
      "metadata": {
        "id": "AyVdvXDHSegL",
        "colab_type": "text"
      },
      "source": [
        "# Covid-19 data for Colombia"
      ]
    },
    {
      "cell_type": "markdown",
      "metadata": {
        "id": "mgzzuuteSegO",
        "colab_type": "text"
      },
      "source": [
        "Use of [public Covid-19 in GitHub](https://github.com/CSSEGISandData/COVID-19) data from: \n",
        "[Center for Systems Science and Engineering (CSSE)](https://systems.jhu.edu/):\n",
        "\n",
        "* Hongru Du, Lauren Gardner, and Ensheng Dong, An interactive web-based dashboard to track COVID-19 in real time, http://www.thelancet.com/infection Published:February 19, 2020, DOI:https://doi.org/10.1016/S1473-3099(20)30120-1\n",
        "\n",
        "For examples of use of the data see Jupyter Notebook `covid19_analysis.ipynb`: [[local](./covid19_analysis.ipynb)] [[GitHub](https://github.com/restrepo/Covid-19/blob/master/covid_analysis.ipynb)] [[Colab](https://colab.research.google.com/github/restrepo/Covid-19/blob/master/covid_analysis.ipynb)]\n",
        "\n",
        "[Official Colombia data](https://infogram.com/covid-2019-ins-colombia-1hnq41zg9ord63z)"
      ]
    },
    {
      "cell_type": "code",
      "metadata": {
        "id": "CETEHcSKSegP",
        "colab_type": "code",
        "outputId": "46018e8e-81a4-4fba-c11b-5c05c4f887c6",
        "colab": {
          "base_uri": "https://localhost:8080/",
          "height": 85
        }
      },
      "source": [
        "%pylab inline"
      ],
      "execution_count": 82,
      "outputs": [
        {
          "output_type": "stream",
          "text": [
            "Populating the interactive namespace from numpy and matplotlib\n"
          ],
          "name": "stdout"
        },
        {
          "output_type": "stream",
          "text": [
            "/usr/local/lib/python3.6/dist-packages/IPython/core/magics/pylab.py:161: UserWarning: pylab import has clobbered these variables: ['DataSource']\n",
            "`%matplotlib` prevents importing * from pylab and numpy\n",
            "  \"\\n`%matplotlib` prevents importing * from pylab and numpy\"\n"
          ],
          "name": "stderr"
        }
      ]
    },
    {
      "cell_type": "code",
      "metadata": {
        "id": "ayDS570kSegT",
        "colab_type": "code",
        "colab": {}
      },
      "source": [
        "import pandas as pd\n",
        "import re\n",
        "#See https://strftime.org/\n",
        "import datetime\n",
        "import numpy as np\n",
        "from scipy import optimize as opt"
      ],
      "execution_count": 0,
      "outputs": []
    },
    {
      "cell_type": "code",
      "metadata": {
        "id": "wHmtr6kKxN8S",
        "colab_type": "code",
        "colab": {}
      },
      "source": [
        "def exponential_model(x,a,b,c):\n",
        "    return a*np.exp(b*(x-c))\n",
        "\n",
        "def logistic_model(x,a,b,c):\n",
        "    return c/(1+np.exp(-(x-b)/a))\n",
        "\n",
        "def RO(td,γ=1./5.7,μ=1/(70*365)):\n",
        "    return 1+np.log(2)/(td*(μ+γ))    \n",
        "    \n",
        "def date_range(date_start='2/23/20',date_end='3/03/20',date_step=1,\n",
        "               strptime_format=\"%m/%d/%y\",\n",
        "               strftime_format=\"%-m/%-d/%y\"):\n",
        "    dr=[]\n",
        "    start = datetime.datetime.strptime(date_start,strptime_format )\n",
        "    end = datetime.datetime.strptime(date_end,strptime_format)\n",
        "    step = datetime.timedelta(days=date_step)\n",
        "    while start <= end:\n",
        "        #avoid leading zeroes: https://stackoverflow.com/a/2073189/2268280\n",
        "        dr.append(start.strftime(strftime_format))\n",
        "        start += step\n",
        "    return dr\n",
        "\n",
        "def index_field(df,column,filter=None):\n",
        "    '''\n",
        "    WARNING: Nonumerical columns are dropped\n",
        "    \n",
        "    Parameters:\n",
        "    ----------\n",
        "    filter: list, default None\n",
        "        Select only the columns in this list\n",
        "    '''\n",
        "    dff=df.copy()\n",
        "    if filter:\n",
        "        dff=df[[column]+list(filter)]\n",
        "    return dff.groupby(column).sum()\n",
        "\n",
        "def get_infected(country,date_start=None,date_end=None,DataFrame=None,\n",
        "      DataSource='https://raw.githubusercontent.com/CSSEGISandData/COVID-19/',\n",
        "      DataFile='master/csse_covid_19_data/csse_covid_19_time_series/time_series_19-covid-Confirmed.csv'\n",
        "      ):\n",
        "    '''\n",
        "    Obtenga la lista de infectados de un país\n",
        "     country: País\n",
        "     date_start: Fecha inicial en el formato MM/DD/YY, e.g. '3/10/20' o None\n",
        "     date_end  : Fecha final en el formato MM/DD/YY, e.g. '3/10/20' o None\n",
        "     si alguna de las fechas esta en None se toma de los extremos del rango\n",
        "     de fechas disponible\n",
        "    '''\n",
        "    if DataFrame is None:\n",
        "        df=pd.read_csv('{}{}'.format(data_source,data_file))\n",
        "        df=df.reset_index(drop=True)\n",
        "    else:\n",
        "        df=DataFrame.copy()\n",
        "\n",
        "    d=[ c for c in df.columns if re.search(r'^[0-9]{1,2}\\/[0-9]{1,2}\\/[0-9]{2}',c)]\n",
        "    if not date_start:\n",
        "        date_start=d[0]\n",
        "    if not date_end:\n",
        "        date_end=d[-1]\n",
        "    dr=date_range(date_start=date_start,date_end=date_end)\n",
        "    #country in df.index\n",
        "    cvrg=df[dr]\n",
        "    y=cvrg.loc[country].tolist()              \n",
        "    return y\n",
        "\n",
        "def dataframe_doubling(x,y,start_date,final_date):\n",
        "    '''\n",
        "    x: list of days\n",
        "    y: list of infected\n",
        "    '''\n",
        "    sp=pd.DataFrame()\n",
        "    if len(x)<3:\n",
        "        print('WARNING: Not enough data: at least 3 days')\n",
        "        return sp\n",
        "    spd={'start_date':start_date,'final_date':final_date}\n",
        "    for d in x[2:]:\n",
        "        exp_fit = opt.curve_fit(exponential_model,x[:d],y[:d],p0=[1,0.4,3])\n",
        "        spd['g']=exp_fit[0][1]\n",
        "        N0=exp_fit[0][0];g=exp_fit[0][1];t0=exp_fit[0][2]\n",
        "        if exponential_model(t0,N0,g,t0)==N0:\n",
        "            Td=np.log(2)/g\n",
        "            spd['N0']=exp_fit[0][0]\n",
        "            spd['t0']=exp_fit[0][2]\n",
        "            spd['Td']=Td\n",
        "            spd['day']=d\n",
        "            spd['infected']=y[d-1]\n",
        "        sp=sp.append(spd,ignore_index=True)\n",
        "\n",
        "    sp['day']=sp['day'].astype(int)\n",
        "    sp['infected']=sp['infected'].astype(int)\n",
        "    return sp"
      ],
      "execution_count": 0,
      "outputs": []
    },
    {
      "cell_type": "markdown",
      "metadata": {
        "id": "YhCXT6zdSegW",
        "colab_type": "text"
      },
      "source": [
        "## Load data"
      ]
    },
    {
      "cell_type": "code",
      "metadata": {
        "id": "0_gnDzNISegX",
        "colab_type": "code",
        "colab": {}
      },
      "source": [
        "DataSource='https://raw.githubusercontent.com/CSSEGISandData/COVID-19/'\n",
        "DataFile='master/csse_covid_19_data/csse_covid_19_time_series/time_series_covid19_confirmed_global.csv'\n",
        "cva=pd.read_csv('{}{}'.format(DataSource,DataFile))\n",
        "cva=cva.reset_index(drop=True)\n",
        "#Special cases\n",
        "c='Hong Kong'\n",
        "try:\n",
        "    cva.loc[cva[cva['Province/State']==c].index[0],'Country/Region']=c\n",
        "except IndexError:\n",
        "    pass  "
      ],
      "execution_count": 0,
      "outputs": []
    },
    {
      "cell_type": "code",
      "metadata": {
        "id": "VS8pVXXUgAb8",
        "colab_type": "code",
        "colab": {}
      },
      "source": [
        "FIX_COLUMNS=False\n",
        "if FIX_COLUMNS:\n",
        "    cva=cva.rename({'3/21/202':'3/21/20'},axis='columns')"
      ],
      "execution_count": 0,
      "outputs": []
    },
    {
      "cell_type": "code",
      "metadata": {
        "id": "kVuZQNtGTvsv",
        "colab_type": "code",
        "colab": {}
      },
      "source": [
        "d=[ c for c in cva.columns if re.search(r'^[0-9]{1,2}\\/[0-9]{1,2}\\/[1920]{2}',c)]\n",
        "cv=index_field(cva,\"Country/Region\",filter=d)"
      ],
      "execution_count": 0,
      "outputs": []
    },
    {
      "cell_type": "markdown",
      "metadata": {
        "id": "6Oo7JxF7v84j",
        "colab_type": "text"
      },
      "source": [
        "## Fix wrong data\n"
      ]
    },
    {
      "cell_type": "code",
      "metadata": {
        "id": "mEUqzmPVwETD",
        "colab_type": "code",
        "colab": {}
      },
      "source": [
        "FIX_DATA=False\n",
        "if FIX_DATA:\n",
        "    ic=cva[cva['Country/Region']=='Colombia'].index[0]\n",
        "    cva.loc[ic,'3/23/20']=271"
      ],
      "execution_count": 0,
      "outputs": []
    },
    {
      "cell_type": "markdown",
      "metadata": {
        "id": "Wr_8XBT5jydT",
        "colab_type": "text"
      },
      "source": [
        "last update"
      ]
    },
    {
      "cell_type": "code",
      "metadata": {
        "id": "EIsLe1SJPssU",
        "colab_type": "code",
        "outputId": "1ef09379-30ce-4fc8-fba7-93618d65af28",
        "colab": {
          "base_uri": "https://localhost:8080/",
          "height": 34
        }
      },
      "source": [
        "dmax=d[-1]\n",
        "dmax"
      ],
      "execution_count": 89,
      "outputs": [
        {
          "output_type": "execute_result",
          "data": {
            "text/plain": [
              "'3/28/20'"
            ]
          },
          "metadata": {
            "tags": []
          },
          "execution_count": 89
        }
      ]
    },
    {
      "cell_type": "code",
      "metadata": {
        "id": "bs-SH0aseh5-",
        "colab_type": "code",
        "colab": {}
      },
      "source": [
        "if len(dmax.split('/')[-1])>2:\n",
        "    print('WARNING: Date format changed!!!!')"
      ],
      "execution_count": 0,
      "outputs": []
    },
    {
      "cell_type": "markdown",
      "metadata": {
        "id": "n0oKGDTursX1",
        "colab_type": "text"
      },
      "source": [
        "## Fit to logistic or exponential model\n",
        "See: \n",
        "* https://twitter.com/burkert_andreas/status/1239692655833071616\n",
        "    * https://raw.githubusercontent.com/restrepo/Covid-19/master/covid-19.jpeg\n",
        "\n",
        "* Method for Python explained in \n",
        "[Covid-19 infection in Italy. Mathematical models and predictions](https://towardsdatascience.com/covid-19-infection-in-italy-mathematical-models-and-predictions-7784b4d7dd8d):\n",
        "\n",
        "> While the logistic model describes an infection growth that is going to stop in the future, the exponential model describes an unstoppable infection growth. For example, if a patient infects 2 patients per day, after 1 day we’ll have 2 infections, 4 after 2 days, 8 after 3 and so on. The most generic exponential function is:\n",
        "\n",
        "$$f(x,a,b,c)=a\\operatorname{e}^{b(x-c)}\\,.$$\n",
        "\n",
        "Which can be [interpreted as](https://en.wikipedia.org/wiki/Doubling_time)\n",
        "$$N(t)=N(t_0)\\operatorname{e}^{g(t-t_0)}$$\n",
        "\n",
        "or\n",
        "\n",
        "$g = \\dfrac{\\ln\\left(N(t)/N(t_0)\\right)}{t-t_0}$\n",
        "\n",
        "* $N(t)$ = the number of infected at time $t$\n",
        "* $N(t_0)$ = the number of infected at time $t_0$\n",
        "* $g$ = growth rate\n",
        "* $t$ = time (usually in days)\n",
        "\n",
        "Doubling time $T_d$:\n",
        "\n",
        "$T_d = \\dfrac{\\ln(2)}{g}$\n",
        "\n",
        "$T_d = (t-t_0)\\dfrac{\\ln(2)}{\\ln\\left(N(t)/N(t_0)\\right)}$\n",
        "\n",
        "For doubling times analysis for other countries see [Forbes](https://www.forbes.com/sites/startswithabang/2020/03/17/why-exponential-growth-is-so-scary-for-the-covid-19-coronavirus/#66dd44434e9b) - [Result](https://raw.githubusercontent.com/restrepo/Covid-19/master/img/doubling.jpg)\n",
        "\n"
      ]
    },
    {
      "cell_type": "markdown",
      "metadata": {
        "id": "wyrBVXeBOVRZ",
        "colab_type": "text"
      },
      "source": [
        "# Colombia"
      ]
    },
    {
      "cell_type": "markdown",
      "metadata": {
        "id": "B06YcwU5kRE8",
        "colab_type": "text"
      },
      "source": [
        "### Select data for Colombia"
      ]
    },
    {
      "cell_type": "code",
      "metadata": {
        "id": "OKuDneoi8phN",
        "colab_type": "code",
        "colab": {}
      },
      "source": [
        "NOT_OFFICIAL_UPDATE=False\n",
        "c='Colombia'\n",
        "max_forecast=1000\n",
        "prediction=22\n",
        "extra_days=16\n",
        "start_day='3/9/20'\n",
        "y=get_infected(c,date_start=start_day,date_end=dmax,DataFrame=cv)\n",
        "if NOT_OFFICIAL_UPDATE:\n",
        "    today=input('Last infected: ')\n",
        "    y.append(int(today))\n",
        "x=range(1,len(y)+1)"
      ],
      "execution_count": 0,
      "outputs": []
    },
    {
      "cell_type": "markdown",
      "metadata": {
        "id": "hygnPKYpf88d",
        "colab_type": "text"
      },
      "source": [
        "### Logistic model for Colombia"
      ]
    },
    {
      "cell_type": "code",
      "metadata": {
        "id": "wbC9csucbD6h",
        "colab_type": "code",
        "outputId": "df79c2d0-41fb-4a8a-84af-54f5a66037b9",
        "colab": {
          "base_uri": "https://localhost:8080/",
          "height": 34
        }
      },
      "source": [
        "logistic_fit = opt.curve_fit(logistic_model,x,y,p0=[2,10,100])\n",
        "logistic_end=int(logistic_fit[0][2])\n",
        "'logistic end: {} ± {} infected'.format(logistic_end,\n",
        "                               int(np.sqrt(logistic_fit[1][2,2])))"
      ],
      "execution_count": 142,
      "outputs": [
        {
          "output_type": "execute_result",
          "data": {
            "text/plain": [
              "'logistic end: 768 ± 45 infected'"
            ]
          },
          "metadata": {
            "tags": []
          },
          "execution_count": 142
        }
      ]
    },
    {
      "cell_type": "markdown",
      "metadata": {
        "id": "5UVvC_XWEpzk",
        "colab_type": "text"
      },
      "source": [
        "### Exponential model for Colombia"
      ]
    },
    {
      "cell_type": "markdown",
      "metadata": {
        "id": "oj76wgXuigZk",
        "colab_type": "text"
      },
      "source": [
        "Prepare data"
      ]
    },
    {
      "cell_type": "code",
      "metadata": {
        "id": "boCtIzi15e0y",
        "colab_type": "code",
        "outputId": "31210ffb-1158-43dc-bb45-368d0d11686e",
        "colab": {
          "base_uri": "https://localhost:8080/",
          "height": 34
        }
      },
      "source": [
        "exp_fit = opt.curve_fit(exponential_model,x,y,p0=[1,0.4,4])\n",
        "try:\n",
        "    Δb=np.sqrt(exp_fit[1][1,1])\n",
        "except:\n",
        "    Δb=0\n",
        "'exponential `b`-fitted parameter: {}  ± {}'.format(exp_fit[0][1].round(3),Δb.round(3))"
      ],
      "execution_count": 143,
      "outputs": [
        {
          "output_type": "execute_result",
          "data": {
            "text/plain": [
              "'exponential `b`-fitted parameter: 0.183  ± 0.011'"
            ]
          },
          "metadata": {
            "tags": []
          },
          "execution_count": 143
        }
      ]
    },
    {
      "cell_type": "markdown",
      "metadata": {
        "id": "BX2K94qZACv2",
        "colab_type": "text"
      },
      "source": [
        "Prediction next day"
      ]
    },
    {
      "cell_type": "code",
      "metadata": {
        "id": "q4B7lxuVfh-Y",
        "colab_type": "code",
        "outputId": "09f413eb-583f-438b-9a73-2d9b9f2d02cf",
        "colab": {
          "base_uri": "https://localhost:8080/",
          "height": 34
        }
      },
      "source": [
        "exp_fit_co=exp_fit[0].copy()\n",
        "exponential_model_co=lambda x: exponential_model(x, exp_fit_co[0],exp_fit_co[1],exp_fit_co[2]  )\n",
        "infc=exponential_model_co(x[-1]+1  )\n",
        "pinfc=exponential_model(x[-1]+1, exp_fit_co[0],exp_fit_co[1]+Δb,exp_fit_co[2]  )-infc\n",
        "minfc=infc-exponential_model(x[-1]+1, exp_fit_co[0],exp_fit_co[1]-Δb,exp_fit_co[2]  )\n",
        "next_day=r'next day:  $%g^{+%g}_{-%g}$' %(\n",
        "                        int( infc ),int( pinfc ),int( minfc )  )\n",
        "print('day {}:  {} infected'.format(x[-1]+1,next_day) )"
      ],
      "execution_count": 144,
      "outputs": [
        {
          "output_type": "stream",
          "text": [
            "day 21:  next day:  $803^{+297}_{-217}$ infected\n"
          ],
          "name": "stdout"
        }
      ]
    },
    {
      "cell_type": "markdown",
      "metadata": {
        "id": "KeVqU_YvJAfS",
        "colab_type": "text"
      },
      "source": [
        "Iterpretation in terms of\n",
        "$$N(t)=N(t_0)\\operatorname{e}^{g(t-t_0)}$$"
      ]
    },
    {
      "cell_type": "code",
      "metadata": {
        "id": "Z-cVd2FTKVqR",
        "colab_type": "code",
        "outputId": "3322a3b1-8daa-4f41-8f0f-4a1fe3584825",
        "colab": {
          "base_uri": "https://localhost:8080/",
          "height": 34
        }
      },
      "source": [
        "N0=exp_fit[0][0];g=exp_fit[0][1];t0=exp_fit[0][2]\n",
        "if exponential_model(t0,N0,g,t0)==N0:\n",
        "    Td=np.log(2)/g\n",
        "else:\n",
        "    print('WARNING: N(t) interpretation not working')\n",
        "    Td=None\n",
        "if Td:\n",
        "    dt=re.sub('\\.0\\s',' ', '(doubling time = {} days)'.format(Td.round(1)\n",
        "        ))\n",
        "    texmodel='N(t)=N(t_0)e^{t-t_0}='\n",
        "    print('T_d →  {}'.format(dt))\n",
        "else:\n",
        "    texmodel=''\n",
        "    dt=''"
      ],
      "execution_count": 145,
      "outputs": [
        {
          "output_type": "stream",
          "text": [
            "T_d →  (doubling time = 3.8 days)\n"
          ],
          "name": "stdout"
        }
      ]
    },
    {
      "cell_type": "markdown",
      "metadata": {
        "id": "_SDaHxDWijWJ",
        "colab_type": "text"
      },
      "source": [
        "Visualization"
      ]
    },
    {
      "cell_type": "code",
      "metadata": {
        "id": "qhDjsZXGHwYi",
        "colab_type": "code",
        "outputId": "c1c26a97-b015-4c55-8de3-2175ca57f563",
        "colab": {
          "base_uri": "https://localhost:8080/",
          "height": 300
        }
      },
      "source": [
        "LOGISTIC=True\n",
        "ERRORS=True\n",
        "ylinlog='log'\n",
        "xx=range(x[0],x[-1]+extra_days)\n",
        "if min(y)>0:\n",
        "    ymin=min(y)\n",
        "else:\n",
        "    ymin=1\n",
        "\n",
        "plt.plot(x,y,'r-',label=c)\n",
        "plt.plot(xx,\n",
        "         exponential_model(xx,exp_fit[0][0],exp_fit[0][1],exp_fit[0][2]),\n",
        "         'k:',\n",
        "         label=r'$%s%g\\cdot e^{%g[t-(%g)]}$' %(texmodel,\n",
        "                                             exp_fit[0][0].round(2),\n",
        "                                             exp_fit[0][1].round(3),\n",
        "                                             exp_fit[0][2].round(2)) )\n",
        "if ERRORS:\n",
        "    plt.plot(xx,\n",
        "         exponential_model(xx,exp_fit[0][0],exp_fit[0][1]+Δb,exp_fit[0][2]),\n",
        "         'm:',lw=0.5)\n",
        "    plt.plot(xx,\n",
        "         exponential_model(xx,exp_fit[0][0],exp_fit[0][1]-Δb,exp_fit[0][2]),\n",
        "         'm:',lw=0.5)\n",
        "plt.hlines(max_forecast,xx[0],xx[-1],linestyles='--',lw=1)\n",
        "plt.vlines(prediction,ymin,max_forecast,linestyles='--',lw=1)\n",
        "\n",
        "plt.title('From: {} to {}'.format(\n",
        "    datetime.datetime.strptime(start_day,\"%m/%d/%y\").strftime(\"%B %-d, %Y\"),\n",
        "    datetime.datetime.strptime(dmax,\"%m/%d/%y\").strftime(\"%B %-d, %Y\") ) )\n",
        "plt.plot(x[-1]+1,infc,'r*',markersize=10,\n",
        "         label=next_day\n",
        "         )\n",
        "\n",
        "if LOGISTIC:\n",
        "    plt.plot(xx,\n",
        "         logistic_model(xx,logistic_fit[0][0],logistic_fit[0][1],logistic_fit[0][2]),\n",
        "         'c:',lw=2,label='Logistic model → max infected = {}'.format(logistic_end)\n",
        "          )\n",
        "\n",
        "plt.legend()#(loc='upper left')\n",
        "plt.xscale('linear')\n",
        "plt.yscale(ylinlog)\n",
        "plt.xlabel('days',size=15)\n",
        "plt.ylabel('infected '+dt,size=13 )\n",
        "if ylinlog=='linear':\n",
        "    xmax=x[-1]+2\n",
        "    ymax=y[-1]+infc+Δb\n",
        "else:\n",
        "    xmax=xx[-1]\n",
        "    ymax=max_forecast+30000\n",
        "plt.xlim(xx[0],xmax)\n",
        "plt.ylim(ymin,ymax)\n",
        "plt.grid()\n",
        "plt.savefig('Colombia.png')"
      ],
      "execution_count": 146,
      "outputs": [
        {
          "output_type": "display_data",
          "data": {
            "image/png": "[encoded data removed]",
            "text/plain": [
              "<Figure size 432x288 with 1 Axes>"
            ]
          },
          "metadata": {
            "tags": []
          }
        }
      ]
    },
    {
      "cell_type": "markdown",
      "metadata": {
        "id": "Nr4ABj2LOyW6",
        "colab_type": "text"
      },
      "source": [
        "\n",
        "## Doubling time"
      ]
    },
    {
      "cell_type": "code",
      "metadata": {
        "id": "f0etVs6E-l0M",
        "colab_type": "code",
        "outputId": "8d86d236-3fa0-45ec-d178-1fe3d88a08f2",
        "colab": {
          "base_uri": "https://localhost:8080/",
          "height": 85
        }
      },
      "source": [
        "sp=dataframe_doubling(x,y,start_date=start_day,final_date=dmax)"
      ],
      "execution_count": 147,
      "outputs": [
        {
          "output_type": "stream",
          "text": [
            "/usr/local/lib/python3.6/dist-packages/ipykernel_launcher.py:2: RuntimeWarning: overflow encountered in exp\n",
            "  \n",
            "/usr/local/lib/python3.6/dist-packages/scipy/optimize/minpack.py:808: OptimizeWarning: Covariance of the parameters could not be estimated\n",
            "  category=OptimizeWarning)\n"
          ],
          "name": "stderr"
        }
      ]
    },
    {
      "cell_type": "code",
      "metadata": {
        "id": "fr2lQ8gjWlnk",
        "colab_type": "code",
        "outputId": "b07f0642-a272-4d52-e5e7-1e83086f0879",
        "colab": {
          "base_uri": "https://localhost:8080/",
          "height": 295
        }
      },
      "source": [
        "plt.plot(sp['day'],sp['Td'],'k-')\n",
        "plt.plot(sp['day'],sp['Td'],'r.')\n",
        "plt.title('Example: A DT of 2 means that infections double every 2 days')\n",
        "plt.xlabel('days from {}'.format(\n",
        "    datetime.datetime.strptime(start_day,\"%m/%d/%y\").strftime(\"%B %-d, %Y\")\n",
        "  ))\n",
        "plt.ylabel('Doubling time (DT) in units of days')\n",
        "plt.grid()\n",
        "plt.savefig('doublingtime.png')"
      ],
      "execution_count": 152,
      "outputs": [
        {
          "output_type": "display_data",
          "data": {
            "image/png": "[encoded data removed]",
            "text/plain": [
              "<Figure size 432x288 with 1 Axes>"
            ]
          },
          "metadata": {
            "tags": []
          }
        }
      ]
    },
    {
      "cell_type": "markdown",
      "metadata": {
        "id": "lKpGuQ8AZYGc",
        "colab_type": "text"
      },
      "source": [
        "RO estimation (See Appendix)"
      ]
    },
    {
      "cell_type": "code",
      "metadata": {
        "id": "b8QDE1fpZe7c",
        "colab_type": "code",
        "colab": {
          "base_uri": "https://localhost:8080/",
          "height": 301
        },
        "outputId": "6f59f0cd-38dc-42cd-e9fc-694f7d7f177c"
      },
      "source": [
        "γ=1./4.1 # 1/days #More conservative value\n",
        "μ=1/(70*365) #1/days #Does not matter at all!\n",
        "plt.plot(sp['day'],RO(sp['Td'].values,γ,μ   ),'ro' )\n",
        "plt.plot(sp['day'],RO(sp['Td'].values,γ,μ  ),'k-' )\n",
        "plt.grid()\n",
        "plt.xlabel('days',size=15)\n",
        "plt.ylabel('RO',size=15)"
      ],
      "execution_count": 151,
      "outputs": [
        {
          "output_type": "execute_result",
          "data": {
            "text/plain": [
              "Text(0, 0.5, 'RO')"
            ]
          },
          "metadata": {
            "tags": []
          },
          "execution_count": 151
        },
        {
          "output_type": "display_data",
          "data": {
            "image/png": "[encoded data removed]",
            "text/plain": [
              "<Figure size 432x288 with 1 Axes>"
            ]
          },
          "metadata": {
            "tags": []
          }
        }
      ]
    },
    {
      "cell_type": "code",
      "metadata": {
        "id": "OZNQ_2OxZpCM",
        "colab_type": "code",
        "colab": {}
      },
      "source": [
        ""
      ],
      "execution_count": 0,
      "outputs": []
    },
    {
      "cell_type": "markdown",
      "metadata": {
        "id": "t3pI27BkA8bh",
        "colab_type": "text"
      },
      "source": [
        "### Other country"
      ]
    },
    {
      "cell_type": "code",
      "metadata": {
        "id": "FukSUSfNKJ9O",
        "colab_type": "code",
        "outputId": "eb8f5057-6d03-429c-bbda-6638998cb43f",
        "colab": {
          "base_uri": "https://localhost:8080/",
          "height": 0
        }
      },
      "source": [
        "c='Australia'\n",
        "max_forecast=10000\n",
        "prediction=32#21\n",
        "start_day='3/1/20'\n",
        "y=get_infected(c,date_start=start_day,date_end=dmax,DataFrame=cv)\n",
        "x=range(1,len(y)+1)\n",
        "exp_fit = opt.curve_fit(exponential_model,x,y,p0=[1,0.4,3])\n",
        "\n",
        "xx=range(x[0],x[-1]+20)\n",
        "if min(y)>0:\n",
        "    ymin=min(y)\n",
        "else:\n",
        "    ymin=1\n",
        "\n",
        "plt.plot(x,y,'r-',label=c)\n",
        "plt.plot(xx,\n",
        "         exponential_model(xx,exp_fit[0][0],exp_fit[0][1],exp_fit[0][2]),\n",
        "         'k:',\n",
        "         label=r'$%g\\cdot e^{%g[x-(%g)]}$' %(exp_fit[0][0],exp_fit[0][1],exp_fit[0][2]) )\n",
        "\n",
        "plt.plot(xx,exponential_model_co(xx),'c:',label='Colombia model')\n",
        "\n",
        "plt.hlines(max_forecast,xx[0],xx[-1],linestyles='--',lw=1)\n",
        "plt.vlines(prediction,ymin,max_forecast,linestyles='--',lw=1)\n",
        "\n",
        "plt.title('From: {} to {}'.format(\n",
        "    datetime.datetime.strptime(start_day,\"%m/%d/%y\").strftime(\"%B %-d, %Y\"),\n",
        "    datetime.datetime.strptime(dmax,\"%m/%d/%y\").strftime(\"%B %-d, %Y\") ) ) \n",
        "plt.legend(loc='best')\n",
        "plt.xscale('linear')\n",
        "plt.yscale('log')\n",
        "plt.xlabel('days')\n",
        "plt.ylabel('infected')\n",
        "plt.xlim(xx[0],xx[-1])\n",
        "plt.ylim(ymin,max_forecast+10000)"
      ],
      "execution_count": 99,
      "outputs": [
        {
          "output_type": "stream",
          "text": [
            "/usr/local/lib/python3.6/dist-packages/scipy/optimize/minpack.py:808: OptimizeWarning: Covariance of the parameters could not be estimated\n",
            "  category=OptimizeWarning)\n"
          ],
          "name": "stderr"
        },
        {
          "output_type": "execute_result",
          "data": {
            "text/plain": [
              "(27, 20000)"
            ]
          },
          "metadata": {
            "tags": []
          },
          "execution_count": 99
        },
        {
          "output_type": "display_data",
          "data": {
            "image/png": "[encoded data removed]",
            "text/plain": [
              "<Figure size 432x288 with 1 Axes>"
            ]
          },
          "metadata": {
            "tags": []
          }
        }
      ]
    },
    {
      "cell_type": "code",
      "metadata": {
        "id": "fWSwwhu66ErC",
        "colab_type": "code",
        "outputId": "b973e254-8255-4717-a59e-28a731f1f732",
        "colab": {
          "base_uri": "https://localhost:8080/",
          "height": 0
        }
      },
      "source": [
        "N0=exp_fit[0][0];g=exp_fit[0][1];t0=exp_fit[0][2]\n",
        "if exponential_model(t0,N0,g,t0)==N0:\n",
        "    Td=np.log(2)/g\n",
        "else:\n",
        "    print('WARNING: N(t) interpretation not working')\n",
        "    Td=None\n",
        "if Td:\n",
        "    dt='(doubling time = {} days)'.format(Td.round(2))\n",
        "    print('T_d →  {}'.format(dt))"
      ],
      "execution_count": 100,
      "outputs": [
        {
          "output_type": "stream",
          "text": [
            "T_d →  (doubling time = 2.14 days)\n"
          ],
          "name": "stdout"
        }
      ]
    },
    {
      "cell_type": "code",
      "metadata": {
        "id": "Wc731u72_P-S",
        "colab_type": "code",
        "outputId": "adce17da-49cf-424f-d5eb-6de81b191a97",
        "colab": {
          "base_uri": "https://localhost:8080/",
          "height": 0
        }
      },
      "source": [
        "spa=dataframe_doubling(x,y,start_date=start_day,final_date=dmax)"
      ],
      "execution_count": 101,
      "outputs": [
        {
          "output_type": "stream",
          "text": [
            "/usr/local/lib/python3.6/dist-packages/scipy/optimize/minpack.py:808: OptimizeWarning: Covariance of the parameters could not be estimated\n",
            "  category=OptimizeWarning)\n",
            "/usr/local/lib/python3.6/dist-packages/ipykernel_launcher.py:2: RuntimeWarning: overflow encountered in exp\n",
            "  \n"
          ],
          "name": "stderr"
        }
      ]
    },
    {
      "cell_type": "code",
      "metadata": {
        "id": "szBf6Bo2A6D8",
        "colab_type": "code",
        "outputId": "d8130645-cc5b-4fff-b736-5e1db4201b31",
        "colab": {
          "base_uri": "https://localhost:8080/",
          "height": 0
        }
      },
      "source": [
        "c='Spain'\n",
        "start_day='3/1/20'\n",
        "y=get_infected(c,date_start=start_day,date_end=dmax,DataFrame=cv)\n",
        "x=range(1,len(y)+1)\n",
        "sps=dataframe_doubling(x,y,start_date=start_day,final_date=dmax)"
      ],
      "execution_count": 102,
      "outputs": [
        {
          "output_type": "stream",
          "text": [
            "/usr/local/lib/python3.6/dist-packages/scipy/optimize/minpack.py:808: OptimizeWarning: Covariance of the parameters could not be estimated\n",
            "  category=OptimizeWarning)\n",
            "/usr/local/lib/python3.6/dist-packages/ipykernel_launcher.py:2: RuntimeWarning: overflow encountered in exp\n",
            "  \n"
          ],
          "name": "stderr"
        }
      ]
    },
    {
      "cell_type": "code",
      "metadata": {
        "id": "Q0JxauZ_8KWP",
        "colab_type": "code",
        "outputId": "7b0838d5-c187-4072-ca19-4580a80611f1",
        "colab": {
          "base_uri": "https://localhost:8080/",
          "height": 0
        }
      },
      "source": [
        "c='Italy'\n",
        "start_day='3/1/20'\n",
        "y=get_infected(c,date_start=start_day,date_end=dmax,DataFrame=cv)\n",
        "x=range(1,len(y)+1)\n",
        "spi=dataframe_doubling(x,y,start_date=start_day,final_date=dmax)"
      ],
      "execution_count": 103,
      "outputs": [
        {
          "output_type": "stream",
          "text": [
            "/usr/local/lib/python3.6/dist-packages/scipy/optimize/minpack.py:808: OptimizeWarning: Covariance of the parameters could not be estimated\n",
            "  category=OptimizeWarning)\n",
            "/usr/local/lib/python3.6/dist-packages/ipykernel_launcher.py:2: RuntimeWarning: overflow encountered in exp\n",
            "  \n"
          ],
          "name": "stderr"
        }
      ]
    },
    {
      "cell_type": "code",
      "metadata": {
        "id": "WIRDT2Z8_nlz",
        "colab_type": "code",
        "outputId": "f24d8522-c50f-4a07-c2ef-00af63f6789a",
        "colab": {
          "base_uri": "https://localhost:8080/",
          "height": 0
        }
      },
      "source": [
        "plt.plot(spa['day'],spa['Td'],'k--')\n",
        "plt.plot(spa['day'],spa['Td'],'g.',markersize=15,label='Australia')\n",
        "plt.plot(sps['day'],sps['Td'],'k--')\n",
        "plt.plot(sps['day'],sps['Td'],'y.',markersize=15,label='Spain')\n",
        "plt.plot(spi['day'],spi['Td'],'k--')\n",
        "plt.plot(spi['day'],spi['Td'],'c.',markersize=15,label='Italy')\n",
        "plt.plot(sp['day']+8,sp['Td'],'k--')\n",
        "plt.plot(sp['day']+8,sp['Td'],'r.',markersize=15,label='Colombia')\n",
        "\n",
        "plt.title('Example: A DT of 2 means that infected double every 2 days')\n",
        "plt.xlabel('days from {}'.format(\n",
        "    datetime.datetime.strptime(start_day,\"%m/%d/%y\").strftime(\"%B %-d, %Y\")\n",
        "  ))\n",
        "plt.ylabel('Doubling time (DT) in units of days')\n",
        "plt.savefig('doublingtime.png')\n",
        "plt.legend()\n",
        "plt.grid()"
      ],
      "execution_count": 104,
      "outputs": [
        {
          "output_type": "display_data",
          "data": {
            "image/png": "[encoded data removed]",
            "text/plain": [
              "<Figure size 432x288 with 1 Axes>"
            ]
          },
          "metadata": {
            "tags": []
          }
        }
      ]
    },
    {
      "cell_type": "code",
      "metadata": {
        "id": "JW1yUGouZGEp",
        "colab_type": "code",
        "outputId": "ffdfd371-9cd5-40f2-db81-4a9afb05a65a",
        "colab": {
          "base_uri": "https://localhost:8080/",
          "height": 0
        }
      },
      "source": [
        "#Day 1: infected > 10\n",
        "mininf=10\n",
        "c='Italy'\n",
        "start_day='2/19/20'\n",
        "y=get_infected(c,date_start=start_day,date_end=dmax,DataFrame=cv)\n",
        "x=range(1,len(y)+1)\n",
        "spi=dataframe_doubling(x,y,start_date=start_day,final_date=dmax)\n",
        "c='Spain'\n",
        "start_day='2/24/20'\n",
        "y=get_infected(c,date_start=start_day,date_end=dmax,DataFrame=cv)\n",
        "x=range(1,len(y)+1)\n",
        "sps=dataframe_doubling(x,y,start_date=start_day,final_date=dmax)\n",
        "c='Colombia'\n",
        "start_day='3/11/20'\n",
        "y=get_infected(c,date_start=start_day,date_end=dmax,DataFrame=cv)\n",
        "x=range(1,len(y)+1)\n",
        "sp=dataframe_doubling(x,y,start_date=start_day,final_date=dmax)\n",
        "c='Korea, South'\n",
        "start_day='2/18/20'\n",
        "y=get_infected(c,date_start=start_day,date_end='3/11/20',DataFrame=cv)\n",
        "x=range(1,len(y)+1)\n",
        "spk=dataframe_doubling(x,y,start_date=start_day,final_date=dmax)"
      ],
      "execution_count": 105,
      "outputs": [
        {
          "output_type": "stream",
          "text": [
            "/usr/local/lib/python3.6/dist-packages/ipykernel_launcher.py:2: RuntimeWarning: overflow encountered in exp\n",
            "  \n",
            "/usr/local/lib/python3.6/dist-packages/scipy/optimize/minpack.py:808: OptimizeWarning: Covariance of the parameters could not be estimated\n",
            "  category=OptimizeWarning)\n",
            "/usr/local/lib/python3.6/dist-packages/ipykernel_launcher.py:2: RuntimeWarning: overflow encountered in multiply\n",
            "  \n"
          ],
          "name": "stderr"
        }
      ]
    },
    {
      "cell_type": "code",
      "metadata": {
        "id": "Z1JLX-PUiQYB",
        "colab_type": "code",
        "outputId": "50c6ddc2-95f0-4ba6-fa7f-db4739a07c8f",
        "colab": {
          "base_uri": "https://localhost:8080/",
          "height": 0
        }
      },
      "source": [
        "fd=sp['day'].max()-3\n",
        "fd"
      ],
      "execution_count": 106,
      "outputs": [
        {
          "output_type": "execute_result",
          "data": {
            "text/plain": [
              "15"
            ]
          },
          "metadata": {
            "tags": []
          },
          "execution_count": 106
        }
      ]
    },
    {
      "cell_type": "code",
      "metadata": {
        "id": "NUqy2YTj8z8G",
        "colab_type": "code",
        "outputId": "a22dd6bf-840d-4fdf-ceb6-ce3881096cbe",
        "colab": {
          "base_uri": "https://localhost:8080/",
          "height": 0
        }
      },
      "source": [
        "plt.plot(sp['day']-2,sp['Td'],'k--')\n",
        "plt.plot(sp['day']-2,sp['Td'],'r.',markersize=15,\n",
        "         label='Colombia → infected day {}: {}'.format(\n",
        "                 fd+3,sp.loc[fd-1,'infected']))\n",
        "plt.plot(sps['day']-2,sps['Td'],'k--')\n",
        "plt.plot(sps['day']-2,sps['Td'],'y.',markersize=15,\n",
        "         label='Spain → infected day {}: {}'.format(\n",
        "                 fd+3,sps.loc[fd-1,'infected']))\n",
        "plt.plot(spi['day']-2,spi['Td'],'k--')\n",
        "plt.plot(spi['day']-2,spi['Td'],'c.',markersize=15,\n",
        "         label='Italy → infected day {}: {}'.format(\n",
        "                 fd+3,spi.loc[fd-1,'infected']))\n",
        "plt.plot(spk['day']-2,spk['Td'],'k--')\n",
        "plt.plot(spk['day']-2,spk['Td'],'g.',markersize=15,\n",
        "         label='Korea → infected day {}: {}'.format(\n",
        "                 fd+3,spk.loc[fd-1,'infected']))\n",
        "\n",
        "plt.legend()\n",
        "plt.title('Day 1: infected > 10')\n",
        "plt.xlabel('days')\n",
        "plt.ylabel('Doubling time (DT) in units of days')\n",
        "plt.legend()\n",
        "plt.grid()\n",
        "plt.xlim(1,spi['day'].max())\n",
        "plt.savefig('contention.png')"
      ],
      "execution_count": 107,
      "outputs": [
        {
          "output_type": "display_data",
          "data": {
            "image/png": "[encoded data removed]",
            "text/plain": [
              "<Figure size 432x288 with 1 Axes>"
            ]
          },
          "metadata": {
            "tags": []
          }
        }
      ]
    },
    {
      "cell_type": "markdown",
      "metadata": {
        "id": "VBUfaYgEjfo4",
        "colab_type": "text"
      },
      "source": [
        "### Last update"
      ]
    },
    {
      "cell_type": "code",
      "metadata": {
        "id": "r3SZix2TbpbJ",
        "colab_type": "code",
        "outputId": "908e60f5-9f1f-41cd-9c55-0753840189a7",
        "colab": {
          "base_uri": "https://localhost:8080/",
          "height": 0
        }
      },
      "source": [
        "cv.loc['Colombia'][-1:]"
      ],
      "execution_count": 108,
      "outputs": [
        {
          "output_type": "execute_result",
          "data": {
            "text/plain": [
              "3/28/20    608\n",
              "Name: Colombia, dtype: int64"
            ]
          },
          "metadata": {
            "tags": []
          },
          "execution_count": 108
        }
      ]
    },
    {
      "cell_type": "markdown",
      "metadata": {
        "id": "L9T51Hfdl6fv",
        "colab_type": "text"
      },
      "source": [
        "## Last official data from Colombia"
      ]
    },
    {
      "cell_type": "code",
      "metadata": {
        "id": "0v39TKzxW2Rp",
        "colab_type": "code",
        "colab": {}
      },
      "source": [
        "import requests\n",
        "import pandas as pd\n",
        "\n",
        "r=requests.get('https://infogram.com/covid-2019-ins-colombia-1hnq41zg9ord63z')\n",
        "\n",
        "head='\"data\":[[[\"ID de caso\",'\n",
        "tail=']]]'\n",
        "js='{}{}{}'.format( head.split(':')[-1],\n",
        "                 r.text.split(head)[-1].split(tail)[0],\n",
        "                 tail\n",
        "             )\n",
        "\n",
        "df=pd.read_json(js)\n",
        "\n",
        "for imax in df.columns:\n",
        "    if len([ l for l in df[imax][0] if l and l!='0' ])==0:\n",
        "        break\n",
        "\n",
        "coco=pd.DataFrame([l for l in df[range(1,imax)].values[0]],columns=df[0][0] )\n",
        "#coco['Fecha']=pd.to_datetime(coco['Fecha de diagnóstico'],format=\"%d/%m/%Y\")"
      ],
      "execution_count": 0,
      "outputs": []
    },
    {
      "cell_type": "code",
      "metadata": {
        "id": "Sx92-ZQVYVew",
        "colab_type": "code",
        "outputId": "a5cc38a1-3117-4e5f-e33a-4540d18ae58e",
        "colab": {
          "base_uri": "https://localhost:8080/",
          "height": 1000
        }
      },
      "source": [
        "try:\n",
        "    cc=coco[coco['Fecha de diagnóstico']==coco['Fecha de diagnóstico'].values[-1]]\n",
        "except:\n",
        "    cc=coco\n",
        "cc"
      ],
      "execution_count": 110,
      "outputs": [
        {
          "output_type": "execute_result",
          "data": {
            "text/html": [
              "<div>\n",
              "<style scoped>\n",
              "    .dataframe tbody tr th:only-of-type {\n",
              "        vertical-align: middle;\n",
              "    }\n",
              "\n",
              "    .dataframe tbody tr th {\n",
              "        vertical-align: top;\n",
              "    }\n",
              "\n",
              "    .dataframe thead th {\n",
              "        text-align: right;\n",
              "    }\n",
              "</style>\n",
              "<table border=\"1\" class=\"dataframe\">\n",
              "  <thead>\n",
              "    <tr style=\"text-align: right;\">\n",
              "      <th></th>\n",
              "      <th>ID de caso</th>\n",
              "      <th>Fecha de diagnóstico</th>\n",
              "      <th>Ciudad de ubicación</th>\n",
              "      <th>Departamento</th>\n",
              "      <th>Atención</th>\n",
              "      <th>Edad</th>\n",
              "      <th>Sexo</th>\n",
              "      <th>Tipo*</th>\n",
              "      <th>País de procedencia</th>\n",
              "    </tr>\n",
              "  </thead>\n",
              "  <tbody>\n",
              "    <tr>\n",
              "      <th>491</th>\n",
              "      <td>492</td>\n",
              "      <td>27/3/2020</td>\n",
              "      <td>Bogotá</td>\n",
              "      <td>Bogotá</td>\n",
              "      <td>Hospital UCI</td>\n",
              "      <td>80 a 89</td>\n",
              "      <td>M</td>\n",
              "      <td>Importado</td>\n",
              "      <td>España</td>\n",
              "    </tr>\n",
              "    <tr>\n",
              "      <th>492</th>\n",
              "      <td>493</td>\n",
              "      <td>27/3/2020</td>\n",
              "      <td>Bogotá</td>\n",
              "      <td>Bogotá</td>\n",
              "      <td>En casa</td>\n",
              "      <td>60 a 69</td>\n",
              "      <td>M</td>\n",
              "      <td>En estudio</td>\n",
              "      <td>Colombia</td>\n",
              "    </tr>\n",
              "    <tr>\n",
              "      <th>493</th>\n",
              "      <td>494</td>\n",
              "      <td>27/3/2020</td>\n",
              "      <td>Bogotá</td>\n",
              "      <td>Bogotá</td>\n",
              "      <td>En casa</td>\n",
              "      <td>20 a 29</td>\n",
              "      <td>F</td>\n",
              "      <td>En estudio</td>\n",
              "      <td>Colombia</td>\n",
              "    </tr>\n",
              "    <tr>\n",
              "      <th>494</th>\n",
              "      <td>495</td>\n",
              "      <td>27/3/2020</td>\n",
              "      <td>Bogotá</td>\n",
              "      <td>Bogotá</td>\n",
              "      <td>En casa</td>\n",
              "      <td>30 a 39</td>\n",
              "      <td>M</td>\n",
              "      <td>En estudio</td>\n",
              "      <td>Colombia</td>\n",
              "    </tr>\n",
              "    <tr>\n",
              "      <th>495</th>\n",
              "      <td>496</td>\n",
              "      <td>27/3/2020</td>\n",
              "      <td>Bogotá</td>\n",
              "      <td>Bogotá</td>\n",
              "      <td>En casa</td>\n",
              "      <td>30 a 39</td>\n",
              "      <td>F</td>\n",
              "      <td>En estudio</td>\n",
              "      <td>Colombia</td>\n",
              "    </tr>\n",
              "    <tr>\n",
              "      <th>496</th>\n",
              "      <td>497</td>\n",
              "      <td>27/3/2020</td>\n",
              "      <td>Bogotá</td>\n",
              "      <td>Bogotá</td>\n",
              "      <td>En casa</td>\n",
              "      <td>30 a 39</td>\n",
              "      <td>M</td>\n",
              "      <td>Importado</td>\n",
              "      <td>Estados Unidos</td>\n",
              "    </tr>\n",
              "    <tr>\n",
              "      <th>497</th>\n",
              "      <td>498</td>\n",
              "      <td>27/3/2020</td>\n",
              "      <td>Bogotá</td>\n",
              "      <td>Bogotá</td>\n",
              "      <td>En casa</td>\n",
              "      <td>40 a 49</td>\n",
              "      <td>M</td>\n",
              "      <td>Importado</td>\n",
              "      <td>España</td>\n",
              "    </tr>\n",
              "    <tr>\n",
              "      <th>498</th>\n",
              "      <td>499</td>\n",
              "      <td>27/3/2020</td>\n",
              "      <td>Bogotá</td>\n",
              "      <td>Bogotá</td>\n",
              "      <td>En casa</td>\n",
              "      <td>40 a 49</td>\n",
              "      <td>F</td>\n",
              "      <td>Importado</td>\n",
              "      <td>España</td>\n",
              "    </tr>\n",
              "    <tr>\n",
              "      <th>499</th>\n",
              "      <td>500</td>\n",
              "      <td>27/3/2020</td>\n",
              "      <td>Bogotá</td>\n",
              "      <td>Bogotá</td>\n",
              "      <td>En casa</td>\n",
              "      <td>20 a 29</td>\n",
              "      <td>F</td>\n",
              "      <td>Importado</td>\n",
              "      <td>Chile</td>\n",
              "    </tr>\n",
              "    <tr>\n",
              "      <th>500</th>\n",
              "      <td>501</td>\n",
              "      <td>27/3/2020</td>\n",
              "      <td>Bogotá</td>\n",
              "      <td>Bogotá</td>\n",
              "      <td>En casa</td>\n",
              "      <td>20 a 29</td>\n",
              "      <td>M</td>\n",
              "      <td>Relacionado</td>\n",
              "      <td>Colombia</td>\n",
              "    </tr>\n",
              "    <tr>\n",
              "      <th>501</th>\n",
              "      <td>502</td>\n",
              "      <td>27/3/2020</td>\n",
              "      <td>Bogotá</td>\n",
              "      <td>Bogotá</td>\n",
              "      <td>Hospital</td>\n",
              "      <td>30 a 39</td>\n",
              "      <td>M</td>\n",
              "      <td>En estudio</td>\n",
              "      <td>Colombia</td>\n",
              "    </tr>\n",
              "    <tr>\n",
              "      <th>502</th>\n",
              "      <td>503</td>\n",
              "      <td>27/3/2020</td>\n",
              "      <td>Bogotá</td>\n",
              "      <td>Bogotá</td>\n",
              "      <td>En casa</td>\n",
              "      <td>50 a 59</td>\n",
              "      <td>M</td>\n",
              "      <td>Importado</td>\n",
              "      <td>Ecuador</td>\n",
              "    </tr>\n",
              "    <tr>\n",
              "      <th>503</th>\n",
              "      <td>504</td>\n",
              "      <td>27/3/2020</td>\n",
              "      <td>Bogotá</td>\n",
              "      <td>Bogotá</td>\n",
              "      <td>En casa</td>\n",
              "      <td>20 a 29</td>\n",
              "      <td>M</td>\n",
              "      <td>Importado</td>\n",
              "      <td>Brasil</td>\n",
              "    </tr>\n",
              "    <tr>\n",
              "      <th>504</th>\n",
              "      <td>505</td>\n",
              "      <td>27/3/2020</td>\n",
              "      <td>Bogotá</td>\n",
              "      <td>Bogotá</td>\n",
              "      <td>En casa</td>\n",
              "      <td>50 a 59</td>\n",
              "      <td>M</td>\n",
              "      <td>Importado</td>\n",
              "      <td>Francia</td>\n",
              "    </tr>\n",
              "    <tr>\n",
              "      <th>505</th>\n",
              "      <td>506</td>\n",
              "      <td>27/3/2020</td>\n",
              "      <td>Bogotá</td>\n",
              "      <td>Bogotá</td>\n",
              "      <td>En casa</td>\n",
              "      <td>30 a 39</td>\n",
              "      <td>F</td>\n",
              "      <td>Importado</td>\n",
              "      <td>España</td>\n",
              "    </tr>\n",
              "    <tr>\n",
              "      <th>506</th>\n",
              "      <td>507</td>\n",
              "      <td>27/3/2020</td>\n",
              "      <td>Bogotá</td>\n",
              "      <td>Bogotá</td>\n",
              "      <td>En casa</td>\n",
              "      <td>40 a 49</td>\n",
              "      <td>F</td>\n",
              "      <td>Importado</td>\n",
              "      <td>España</td>\n",
              "    </tr>\n",
              "    <tr>\n",
              "      <th>507</th>\n",
              "      <td>508</td>\n",
              "      <td>27/3/2020</td>\n",
              "      <td>Bogotá</td>\n",
              "      <td>Bogotá</td>\n",
              "      <td>En casa</td>\n",
              "      <td>30 a 39</td>\n",
              "      <td>M</td>\n",
              "      <td>Importado</td>\n",
              "      <td>España</td>\n",
              "    </tr>\n",
              "    <tr>\n",
              "      <th>508</th>\n",
              "      <td>509</td>\n",
              "      <td>27/3/2020</td>\n",
              "      <td>Bogotá</td>\n",
              "      <td>Bogotá</td>\n",
              "      <td>En casa</td>\n",
              "      <td>30 a 39</td>\n",
              "      <td>M</td>\n",
              "      <td>En estudio</td>\n",
              "      <td>Colombia</td>\n",
              "    </tr>\n",
              "    <tr>\n",
              "      <th>509</th>\n",
              "      <td>510</td>\n",
              "      <td>27/3/2020</td>\n",
              "      <td>Bogotá</td>\n",
              "      <td>Bogotá</td>\n",
              "      <td>En casa</td>\n",
              "      <td>70 a 79</td>\n",
              "      <td>M</td>\n",
              "      <td>Relacionado</td>\n",
              "      <td>Colombia</td>\n",
              "    </tr>\n",
              "    <tr>\n",
              "      <th>510</th>\n",
              "      <td>511</td>\n",
              "      <td>27/3/2020</td>\n",
              "      <td>Bogotá</td>\n",
              "      <td>Bogotá</td>\n",
              "      <td>En casa</td>\n",
              "      <td>70 a 79</td>\n",
              "      <td>F</td>\n",
              "      <td>En estudio</td>\n",
              "      <td>Colombia</td>\n",
              "    </tr>\n",
              "    <tr>\n",
              "      <th>511</th>\n",
              "      <td>512</td>\n",
              "      <td>27/3/2020</td>\n",
              "      <td>Bogotá</td>\n",
              "      <td>Bogotá</td>\n",
              "      <td>En casa</td>\n",
              "      <td>30 a 39</td>\n",
              "      <td>M</td>\n",
              "      <td>Importado</td>\n",
              "      <td>España</td>\n",
              "    </tr>\n",
              "    <tr>\n",
              "      <th>512</th>\n",
              "      <td>513</td>\n",
              "      <td>27/3/2020</td>\n",
              "      <td>Bogotá</td>\n",
              "      <td>Bogotá</td>\n",
              "      <td>En casa</td>\n",
              "      <td>70 a 79</td>\n",
              "      <td>M</td>\n",
              "      <td>Relacionado</td>\n",
              "      <td>Colombia</td>\n",
              "    </tr>\n",
              "    <tr>\n",
              "      <th>513</th>\n",
              "      <td>514</td>\n",
              "      <td>27/3/2020</td>\n",
              "      <td>Bogotá</td>\n",
              "      <td>Bogotá</td>\n",
              "      <td>Hospital UCI</td>\n",
              "      <td>70 a 79</td>\n",
              "      <td>M</td>\n",
              "      <td>En estudio</td>\n",
              "      <td>Colombia</td>\n",
              "    </tr>\n",
              "    <tr>\n",
              "      <th>514</th>\n",
              "      <td>515</td>\n",
              "      <td>27/3/2020</td>\n",
              "      <td>Bogotá</td>\n",
              "      <td>Bogotá</td>\n",
              "      <td>En casa</td>\n",
              "      <td>50 a 59</td>\n",
              "      <td>M</td>\n",
              "      <td>Importado</td>\n",
              "      <td>España</td>\n",
              "    </tr>\n",
              "    <tr>\n",
              "      <th>515</th>\n",
              "      <td>516</td>\n",
              "      <td>27/3/2020</td>\n",
              "      <td>Bogotá</td>\n",
              "      <td>Bogotá</td>\n",
              "      <td>En casa</td>\n",
              "      <td>80 a 89</td>\n",
              "      <td>F</td>\n",
              "      <td>Importado</td>\n",
              "      <td>España</td>\n",
              "    </tr>\n",
              "    <tr>\n",
              "      <th>516</th>\n",
              "      <td>517</td>\n",
              "      <td>27/3/2020</td>\n",
              "      <td>Bogotá</td>\n",
              "      <td>Bogotá</td>\n",
              "      <td>En casa</td>\n",
              "      <td>30 a 39</td>\n",
              "      <td>F</td>\n",
              "      <td>Relacionado</td>\n",
              "      <td>Colombia</td>\n",
              "    </tr>\n",
              "    <tr>\n",
              "      <th>517</th>\n",
              "      <td>518</td>\n",
              "      <td>27/3/2020</td>\n",
              "      <td>Bogotá</td>\n",
              "      <td>Bogotá</td>\n",
              "      <td>En casa</td>\n",
              "      <td>20 a 29</td>\n",
              "      <td>F</td>\n",
              "      <td>Relacionado</td>\n",
              "      <td>Colombia</td>\n",
              "    </tr>\n",
              "    <tr>\n",
              "      <th>518</th>\n",
              "      <td>519</td>\n",
              "      <td>27/3/2020</td>\n",
              "      <td>Bogotá</td>\n",
              "      <td>Bogotá</td>\n",
              "      <td>En casa</td>\n",
              "      <td>20 a 29</td>\n",
              "      <td>M</td>\n",
              "      <td>Relacionado</td>\n",
              "      <td>Colombia</td>\n",
              "    </tr>\n",
              "    <tr>\n",
              "      <th>519</th>\n",
              "      <td>520</td>\n",
              "      <td>27/3/2020</td>\n",
              "      <td>Bogotá</td>\n",
              "      <td>Bogotá</td>\n",
              "      <td>En casa</td>\n",
              "      <td>40 a 49</td>\n",
              "      <td>M</td>\n",
              "      <td>Relacionado</td>\n",
              "      <td>Colombia</td>\n",
              "    </tr>\n",
              "    <tr>\n",
              "      <th>520</th>\n",
              "      <td>521</td>\n",
              "      <td>27/3/2020</td>\n",
              "      <td>Bogotá</td>\n",
              "      <td>Bogotá</td>\n",
              "      <td>En casa</td>\n",
              "      <td>20 a 29</td>\n",
              "      <td>M</td>\n",
              "      <td>Relacionado</td>\n",
              "      <td>Colombia</td>\n",
              "    </tr>\n",
              "    <tr>\n",
              "      <th>521</th>\n",
              "      <td>522</td>\n",
              "      <td>27/3/2020</td>\n",
              "      <td>Bogotá</td>\n",
              "      <td>Bogotá</td>\n",
              "      <td>En casa</td>\n",
              "      <td>20 a 29</td>\n",
              "      <td>F</td>\n",
              "      <td>Relacionado</td>\n",
              "      <td>Colombia</td>\n",
              "    </tr>\n",
              "    <tr>\n",
              "      <th>522</th>\n",
              "      <td>523</td>\n",
              "      <td>27/3/2020</td>\n",
              "      <td>Bogotá</td>\n",
              "      <td>Bogotá</td>\n",
              "      <td>En casa</td>\n",
              "      <td>60 a 69</td>\n",
              "      <td>F</td>\n",
              "      <td>Importado</td>\n",
              "      <td>Francia</td>\n",
              "    </tr>\n",
              "    <tr>\n",
              "      <th>523</th>\n",
              "      <td>524</td>\n",
              "      <td>27/3/2020</td>\n",
              "      <td>Bogotá</td>\n",
              "      <td>Bogotá</td>\n",
              "      <td>En casa</td>\n",
              "      <td>30 a 39</td>\n",
              "      <td>M</td>\n",
              "      <td>Importado</td>\n",
              "      <td>Estados Unidos</td>\n",
              "    </tr>\n",
              "    <tr>\n",
              "      <th>524</th>\n",
              "      <td>525</td>\n",
              "      <td>27/3/2020</td>\n",
              "      <td>Bogotá</td>\n",
              "      <td>Bogotá</td>\n",
              "      <td>En casa</td>\n",
              "      <td>30 a 39</td>\n",
              "      <td>M</td>\n",
              "      <td>Importado</td>\n",
              "      <td>Ecuador</td>\n",
              "    </tr>\n",
              "    <tr>\n",
              "      <th>525</th>\n",
              "      <td>526</td>\n",
              "      <td>27/3/2020</td>\n",
              "      <td>Bogotá</td>\n",
              "      <td>Bogotá</td>\n",
              "      <td>En casa</td>\n",
              "      <td>30 a 39</td>\n",
              "      <td>F</td>\n",
              "      <td>Relacionado</td>\n",
              "      <td>Colombia</td>\n",
              "    </tr>\n",
              "    <tr>\n",
              "      <th>526</th>\n",
              "      <td>527</td>\n",
              "      <td>27/3/2020</td>\n",
              "      <td>Bogotá</td>\n",
              "      <td>Bogotá</td>\n",
              "      <td>En casa</td>\n",
              "      <td>50 a 59</td>\n",
              "      <td>F</td>\n",
              "      <td>Relacionado</td>\n",
              "      <td>Colombia</td>\n",
              "    </tr>\n",
              "    <tr>\n",
              "      <th>527</th>\n",
              "      <td>528</td>\n",
              "      <td>27/3/2020</td>\n",
              "      <td>Bogotá</td>\n",
              "      <td>Bogotá</td>\n",
              "      <td>En casa</td>\n",
              "      <td>30 a 39</td>\n",
              "      <td>F</td>\n",
              "      <td>Relacionado</td>\n",
              "      <td>Colombia</td>\n",
              "    </tr>\n",
              "    <tr>\n",
              "      <th>528</th>\n",
              "      <td>529</td>\n",
              "      <td>27/3/2020</td>\n",
              "      <td>Bogotá</td>\n",
              "      <td>Bogotá</td>\n",
              "      <td>En casa</td>\n",
              "      <td>50 a 59</td>\n",
              "      <td>M</td>\n",
              "      <td>Relacionado</td>\n",
              "      <td>Colombia</td>\n",
              "    </tr>\n",
              "    <tr>\n",
              "      <th>529</th>\n",
              "      <td>530</td>\n",
              "      <td>27/3/2020</td>\n",
              "      <td>Bogotá</td>\n",
              "      <td>Bogotá</td>\n",
              "      <td>En casa</td>\n",
              "      <td>40 a 49</td>\n",
              "      <td>M</td>\n",
              "      <td>Relacionado</td>\n",
              "      <td>Colombia</td>\n",
              "    </tr>\n",
              "    <tr>\n",
              "      <th>530</th>\n",
              "      <td>531</td>\n",
              "      <td>27/3/2020</td>\n",
              "      <td>Santa Marta</td>\n",
              "      <td>Santa Marta</td>\n",
              "      <td>En casa</td>\n",
              "      <td>20 a 29</td>\n",
              "      <td>F</td>\n",
              "      <td>En estudio</td>\n",
              "      <td>Colombia</td>\n",
              "    </tr>\n",
              "    <tr>\n",
              "      <th>531</th>\n",
              "      <td>532</td>\n",
              "      <td>27/3/2020</td>\n",
              "      <td>Puerto Colombia</td>\n",
              "      <td>Atlántico</td>\n",
              "      <td>En casa</td>\n",
              "      <td>40 a 49</td>\n",
              "      <td>F</td>\n",
              "      <td>En estudio</td>\n",
              "      <td>Colombia</td>\n",
              "    </tr>\n",
              "    <tr>\n",
              "      <th>532</th>\n",
              "      <td>533</td>\n",
              "      <td>27/3/2020</td>\n",
              "      <td>Barranquilla</td>\n",
              "      <td>Barranquilla</td>\n",
              "      <td>En casa</td>\n",
              "      <td>20 a 29</td>\n",
              "      <td>M</td>\n",
              "      <td>Relacionado</td>\n",
              "      <td>Colombia</td>\n",
              "    </tr>\n",
              "    <tr>\n",
              "      <th>533</th>\n",
              "      <td>534</td>\n",
              "      <td>27/3/2020</td>\n",
              "      <td>Calarcá</td>\n",
              "      <td>Quindío</td>\n",
              "      <td>En casa</td>\n",
              "      <td>60 a 69</td>\n",
              "      <td>M</td>\n",
              "      <td>Relacionado</td>\n",
              "      <td>Colombia</td>\n",
              "    </tr>\n",
              "    <tr>\n",
              "      <th>534</th>\n",
              "      <td>535</td>\n",
              "      <td>27/3/2020</td>\n",
              "      <td>Soledad</td>\n",
              "      <td>Atlántico</td>\n",
              "      <td>En casa</td>\n",
              "      <td>20 a 29</td>\n",
              "      <td>F</td>\n",
              "      <td>En estudio</td>\n",
              "      <td>Colombia</td>\n",
              "    </tr>\n",
              "    <tr>\n",
              "      <th>535</th>\n",
              "      <td>536</td>\n",
              "      <td>27/3/2020</td>\n",
              "      <td>Armenia</td>\n",
              "      <td>Quindío</td>\n",
              "      <td>En casa</td>\n",
              "      <td>40 a 49</td>\n",
              "      <td>F</td>\n",
              "      <td>Relacionado</td>\n",
              "      <td>Colombia</td>\n",
              "    </tr>\n",
              "    <tr>\n",
              "      <th>536</th>\n",
              "      <td>537</td>\n",
              "      <td>27/3/2020</td>\n",
              "      <td>Armenia</td>\n",
              "      <td>Quindío</td>\n",
              "      <td>En casa</td>\n",
              "      <td>30 a 39</td>\n",
              "      <td>F</td>\n",
              "      <td>Relacionado</td>\n",
              "      <td>Colombia</td>\n",
              "    </tr>\n",
              "    <tr>\n",
              "      <th>537</th>\n",
              "      <td>538</td>\n",
              "      <td>27/3/2020</td>\n",
              "      <td>Santa Marta</td>\n",
              "      <td>Santa Marta</td>\n",
              "      <td>En casa</td>\n",
              "      <td>60 a 69</td>\n",
              "      <td>F</td>\n",
              "      <td>Relacionado</td>\n",
              "      <td>Colombia</td>\n",
              "    </tr>\n",
              "  </tbody>\n",
              "</table>\n",
              "</div>"
            ],
            "text/plain": [
              "    ID de caso Fecha de diagnóstico  ...        Tipo* País de procedencia\n",
              "491        492            27/3/2020  ...    Importado              España\n",
              "492        493            27/3/2020  ...   En estudio            Colombia\n",
              "493        494            27/3/2020  ...   En estudio            Colombia\n",
              "494        495            27/3/2020  ...   En estudio            Colombia\n",
              "495        496            27/3/2020  ...   En estudio            Colombia\n",
              "496        497            27/3/2020  ...    Importado      Estados Unidos\n",
              "497        498            27/3/2020  ...    Importado              España\n",
              "498        499            27/3/2020  ...    Importado              España\n",
              "499        500            27/3/2020  ...    Importado               Chile\n",
              "500        501            27/3/2020  ...  Relacionado            Colombia\n",
              "501        502            27/3/2020  ...   En estudio            Colombia\n",
              "502        503            27/3/2020  ...    Importado             Ecuador\n",
              "503        504            27/3/2020  ...    Importado              Brasil\n",
              "504        505            27/3/2020  ...    Importado             Francia\n",
              "505        506            27/3/2020  ...    Importado              España\n",
              "506        507            27/3/2020  ...    Importado              España\n",
              "507        508            27/3/2020  ...    Importado              España\n",
              "508        509            27/3/2020  ...   En estudio            Colombia\n",
              "509        510            27/3/2020  ...  Relacionado            Colombia\n",
              "510        511            27/3/2020  ...   En estudio            Colombia\n",
              "511        512            27/3/2020  ...    Importado              España\n",
              "512        513            27/3/2020  ...  Relacionado            Colombia\n",
              "513        514            27/3/2020  ...   En estudio            Colombia\n",
              "514        515            27/3/2020  ...    Importado              España\n",
              "515        516            27/3/2020  ...    Importado              España\n",
              "516        517            27/3/2020  ...  Relacionado            Colombia\n",
              "517        518            27/3/2020  ...  Relacionado            Colombia\n",
              "518        519            27/3/2020  ...  Relacionado            Colombia\n",
              "519        520            27/3/2020  ...  Relacionado            Colombia\n",
              "520        521            27/3/2020  ...  Relacionado            Colombia\n",
              "521        522            27/3/2020  ...  Relacionado            Colombia\n",
              "522        523            27/3/2020  ...    Importado             Francia\n",
              "523        524            27/3/2020  ...    Importado      Estados Unidos\n",
              "524        525            27/3/2020  ...    Importado             Ecuador\n",
              "525        526            27/3/2020  ...  Relacionado            Colombia\n",
              "526        527            27/3/2020  ...  Relacionado            Colombia\n",
              "527        528            27/3/2020  ...  Relacionado            Colombia\n",
              "528        529            27/3/2020  ...  Relacionado            Colombia\n",
              "529        530            27/3/2020  ...  Relacionado            Colombia\n",
              "530        531            27/3/2020  ...   En estudio            Colombia\n",
              "531        532            27/3/2020  ...   En estudio            Colombia\n",
              "532        533            27/3/2020  ...  Relacionado            Colombia\n",
              "533        534            27/3/2020  ...  Relacionado            Colombia\n",
              "534        535            27/3/2020  ...   En estudio            Colombia\n",
              "535        536            27/3/2020  ...  Relacionado            Colombia\n",
              "536        537            27/3/2020  ...  Relacionado            Colombia\n",
              "537        538            27/3/2020  ...  Relacionado            Colombia\n",
              "\n",
              "[47 rows x 9 columns]"
            ]
          },
          "metadata": {
            "tags": []
          },
          "execution_count": 110
        }
      ]
    },
    {
      "cell_type": "markdown",
      "metadata": {
        "id": "_9YnXQtAKOdd",
        "colab_type": "text"
      },
      "source": [
        "## Appedix\n",
        "Estimation of R0 from the initial phase of an outbreak, https://doi.org/10.1111/j.1365-3156.2009.02413.x\n",
        "* $R_{0}=1+\\dfrac{g}{(\\mu+\\gamma)}\\,,$   [Ref](https://doi.org/10.1016/0035-9203(94)90498-7), $R_{0}\\approx1+\\dfrac{g}{\\gamma}\\,,$ if $\\mu\\ll\\gamma$,\n",
        "* $R_{0}=\\left(1+\\dfrac{g}{\\mu}\\right)\\left(1+\\dfrac{g}{\\gamma}\\right)$\n",
        "* $R_{0}=\\left(1+\\dfrac{g}{\\mu}\\right)\\left(1+\\dfrac{g}{\\gamma}\\right) \\mathrm{e}^{\\Lambda\\left(\\tau_{\\mathrm{i}}+\\tau_{\\mathrm{c}}\\right)}$\n",
        "\n",
        "* where\n",
        "    * $g$ is the exponential growth rate \n",
        "    * $\\mu$ is the [natural mortality rate](https://worldpopulationreview.com/countries/death-rate-by-country/)\n",
        "    * $\\gamma$ is the inverse of  the [infectious period](https://www.worldometers.info/coronavirus/coronavirus-incubation-period/), 5.7 (95% confidence interval [CI], 4.1 to 7.0) for COVID-19 [Previous ref]\n",
        "    * $\\tau_{\\mathrm{e}}$ is extrinsic incubation period\n",
        "    * $\\tau_{\\mathrm{i}}$ is the intrinsic incubation period \n",
        "\n"
      ]
    },
    {
      "cell_type": "markdown",
      "metadata": {
        "id": "Kx5alsHC92dq",
        "colab_type": "text"
      },
      "source": [
        "Example from https://doi.org/10.1016/0035-9203(94)90498-7, \n",
        "Dengue in Sao Paulo\n",
        "* $\\dfrac{1}{\\mu}=70\\ \\text{years}$\n",
        "* $\\dfrac{1}{\\gamma}=6\\ \\text{days}$"
      ]
    },
    {
      "cell_type": "code",
      "metadata": {
        "id": "2iWiqg5xwRSE",
        "colab_type": "code",
        "outputId": "fabfe6c0-b08b-420b-df33-a150f1be33c3",
        "colab": {
          "base_uri": "https://localhost:8080/",
          "height": 301
        }
      },
      "source": [
        "γ=1./4.1 # 1/days #More conservative value\n",
        "μ=1/(70*365) #1/days #Does not matter at all!\n",
        "plt.plot(sp['day'],RO(sp['Td'].values,γ=1/5.7  ),'ro' )\n",
        "plt.plot(sp['day'],RO(sp['Td'].values,γ=1/5.7  ),'k-' )\n",
        "plt.plot(sp['day'],RO(sp['Td'].values,γ=1/4.1   ),'c:' )\n",
        "plt.plot(sp['day'],RO(sp['Td'].values,γ=1/13  ),'c:' )\n",
        "plt.xlabel('days',size=15)\n",
        "plt.ylabel('RO',size=15)"
      ],
      "execution_count": 112,
      "outputs": [
        {
          "output_type": "execute_result",
          "data": {
            "text/plain": [
              "Text(0, 0.5, 'RO')"
            ]
          },
          "metadata": {
            "tags": []
          },
          "execution_count": 112
        },
        {
          "output_type": "display_data",
          "data": {
            "image/png": "[encoded data removed]",
            "text/plain": [
              "<Figure size 432x288 with 1 Axes>"
            ]
          },
          "metadata": {
            "tags": []
          }
        }
      ]
    },
    {
      "cell_type": "code",
      "metadata": {
        "id": "WHKmUpAMwpIb",
        "colab_type": "code",
        "outputId": "d3e4440c-e515-45a9-e8f4-dc69bdf0d016",
        "colab": {
          "base_uri": "https://localhost:8080/",
          "height": 541
        }
      },
      "source": [
        "sp"
      ],
      "execution_count": 113,
      "outputs": [
        {
          "output_type": "execute_result",
          "data": {
            "text/html": [
              "<div>\n",
              "<style scoped>\n",
              "    .dataframe tbody tr th:only-of-type {\n",
              "        vertical-align: middle;\n",
              "    }\n",
              "\n",
              "    .dataframe tbody tr th {\n",
              "        vertical-align: top;\n",
              "    }\n",
              "\n",
              "    .dataframe thead th {\n",
              "        text-align: right;\n",
              "    }\n",
              "</style>\n",
              "<table border=\"1\" class=\"dataframe\">\n",
              "  <thead>\n",
              "    <tr style=\"text-align: right;\">\n",
              "      <th></th>\n",
              "      <th>N0</th>\n",
              "      <th>Td</th>\n",
              "      <th>day</th>\n",
              "      <th>final_date</th>\n",
              "      <th>g</th>\n",
              "      <th>infected</th>\n",
              "      <th>start_date</th>\n",
              "      <th>t0</th>\n",
              "    </tr>\n",
              "  </thead>\n",
              "  <tbody>\n",
              "    <tr>\n",
              "      <th>0</th>\n",
              "      <td>6.728982</td>\n",
              "      <td>3.347242</td>\n",
              "      <td>3</td>\n",
              "      <td>3/28/20</td>\n",
              "      <td>0.207080</td>\n",
              "      <td>13</td>\n",
              "      <td>3/11/20</td>\n",
              "      <td>0.001314</td>\n",
              "    </tr>\n",
              "    <tr>\n",
              "      <th>1</th>\n",
              "      <td>14.599336</td>\n",
              "      <td>1.861427</td>\n",
              "      <td>4</td>\n",
              "      <td>3/28/20</td>\n",
              "      <td>0.372374</td>\n",
              "      <td>22</td>\n",
              "      <td>3/11/20</td>\n",
              "      <td>3.008103</td>\n",
              "    </tr>\n",
              "    <tr>\n",
              "      <th>2</th>\n",
              "      <td>4.621602</td>\n",
              "      <td>1.665480</td>\n",
              "      <td>5</td>\n",
              "      <td>3/28/20</td>\n",
              "      <td>0.416185</td>\n",
              "      <td>34</td>\n",
              "      <td>3/11/20</td>\n",
              "      <td>0.237243</td>\n",
              "    </tr>\n",
              "    <tr>\n",
              "      <th>3</th>\n",
              "      <td>2.498830</td>\n",
              "      <td>1.575930</td>\n",
              "      <td>6</td>\n",
              "      <td>3/28/20</td>\n",
              "      <td>0.439834</td>\n",
              "      <td>54</td>\n",
              "      <td>3/11/20</td>\n",
              "      <td>-0.967873</td>\n",
              "    </tr>\n",
              "    <tr>\n",
              "      <th>4</th>\n",
              "      <td>3.652493</td>\n",
              "      <td>1.918897</td>\n",
              "      <td>7</td>\n",
              "      <td>3/28/20</td>\n",
              "      <td>0.361222</td>\n",
              "      <td>65</td>\n",
              "      <td>3/11/20</td>\n",
              "      <td>-1.112104</td>\n",
              "    </tr>\n",
              "    <tr>\n",
              "      <th>5</th>\n",
              "      <td>4.634011</td>\n",
              "      <td>2.000350</td>\n",
              "      <td>8</td>\n",
              "      <td>3/28/20</td>\n",
              "      <td>0.346513</td>\n",
              "      <td>93</td>\n",
              "      <td>3/11/20</td>\n",
              "      <td>-0.692708</td>\n",
              "    </tr>\n",
              "    <tr>\n",
              "      <th>6</th>\n",
              "      <td>3.863360</td>\n",
              "      <td>2.401611</td>\n",
              "      <td>9</td>\n",
              "      <td>3/28/20</td>\n",
              "      <td>0.288618</td>\n",
              "      <td>102</td>\n",
              "      <td>3/11/20</td>\n",
              "      <td>-2.627801</td>\n",
              "    </tr>\n",
              "    <tr>\n",
              "      <th>7</th>\n",
              "      <td>8.339959</td>\n",
              "      <td>2.636325</td>\n",
              "      <td>10</td>\n",
              "      <td>3/28/20</td>\n",
              "      <td>0.262922</td>\n",
              "      <td>128</td>\n",
              "      <td>3/11/20</td>\n",
              "      <td>-0.578702</td>\n",
              "    </tr>\n",
              "    <tr>\n",
              "      <th>8</th>\n",
              "      <td>3.882525</td>\n",
              "      <td>2.440531</td>\n",
              "      <td>11</td>\n",
              "      <td>3/28/20</td>\n",
              "      <td>0.284015</td>\n",
              "      <td>196</td>\n",
              "      <td>3/11/20</td>\n",
              "      <td>-2.681549</td>\n",
              "    </tr>\n",
              "    <tr>\n",
              "      <th>9</th>\n",
              "      <td>4.653448</td>\n",
              "      <td>2.578964</td>\n",
              "      <td>12</td>\n",
              "      <td>3/28/20</td>\n",
              "      <td>0.268770</td>\n",
              "      <td>231</td>\n",
              "      <td>3/11/20</td>\n",
              "      <td>-2.633674</td>\n",
              "    </tr>\n",
              "    <tr>\n",
              "      <th>10</th>\n",
              "      <td>3.938690</td>\n",
              "      <td>2.769115</td>\n",
              "      <td>13</td>\n",
              "      <td>3/28/20</td>\n",
              "      <td>0.250314</td>\n",
              "      <td>277</td>\n",
              "      <td>3/11/20</td>\n",
              "      <td>-4.162279</td>\n",
              "    </tr>\n",
              "    <tr>\n",
              "      <th>11</th>\n",
              "      <td>3.813584</td>\n",
              "      <td>2.738673</td>\n",
              "      <td>14</td>\n",
              "      <td>3/28/20</td>\n",
              "      <td>0.253096</td>\n",
              "      <td>378</td>\n",
              "      <td>3/11/20</td>\n",
              "      <td>-4.134719</td>\n",
              "    </tr>\n",
              "    <tr>\n",
              "      <th>12</th>\n",
              "      <td>3.912855</td>\n",
              "      <td>2.787628</td>\n",
              "      <td>15</td>\n",
              "      <td>3/28/20</td>\n",
              "      <td>0.248651</td>\n",
              "      <td>470</td>\n",
              "      <td>3/11/20</td>\n",
              "      <td>-4.300712</td>\n",
              "    </tr>\n",
              "    <tr>\n",
              "      <th>13</th>\n",
              "      <td>6.410999</td>\n",
              "      <td>3.139248</td>\n",
              "      <td>16</td>\n",
              "      <td>3/28/20</td>\n",
              "      <td>0.220800</td>\n",
              "      <td>491</td>\n",
              "      <td>3/11/20</td>\n",
              "      <td>-4.065826</td>\n",
              "    </tr>\n",
              "    <tr>\n",
              "      <th>14</th>\n",
              "      <td>5.640268</td>\n",
              "      <td>3.499595</td>\n",
              "      <td>17</td>\n",
              "      <td>3/28/20</td>\n",
              "      <td>0.198065</td>\n",
              "      <td>539</td>\n",
              "      <td>3/11/20</td>\n",
              "      <td>-6.550709</td>\n",
              "    </tr>\n",
              "    <tr>\n",
              "      <th>15</th>\n",
              "      <td>5.990120</td>\n",
              "      <td>3.807143</td>\n",
              "      <td>18</td>\n",
              "      <td>3/28/20</td>\n",
              "      <td>0.182065</td>\n",
              "      <td>608</td>\n",
              "      <td>3/11/20</td>\n",
              "      <td>-7.886374</td>\n",
              "    </tr>\n",
              "  </tbody>\n",
              "</table>\n",
              "</div>"
            ],
            "text/plain": [
              "           N0        Td  day  ... infected  start_date        t0\n",
              "0    6.728982  3.347242    3  ...       13     3/11/20  0.001314\n",
              "1   14.599336  1.861427    4  ...       22     3/11/20  3.008103\n",
              "2    4.621602  1.665480    5  ...       34     3/11/20  0.237243\n",
              "3    2.498830  1.575930    6  ...       54     3/11/20 -0.967873\n",
              "4    3.652493  1.918897    7  ...       65     3/11/20 -1.112104\n",
              "5    4.634011  2.000350    8  ...       93     3/11/20 -0.692708\n",
              "6    3.863360  2.401611    9  ...      102     3/11/20 -2.627801\n",
              "7    8.339959  2.636325   10  ...      128     3/11/20 -0.578702\n",
              "8    3.882525  2.440531   11  ...      196     3/11/20 -2.681549\n",
              "9    4.653448  2.578964   12  ...      231     3/11/20 -2.633674\n",
              "10   3.938690  2.769115   13  ...      277     3/11/20 -4.162279\n",
              "11   3.813584  2.738673   14  ...      378     3/11/20 -4.134719\n",
              "12   3.912855  2.787628   15  ...      470     3/11/20 -4.300712\n",
              "13   6.410999  3.139248   16  ...      491     3/11/20 -4.065826\n",
              "14   5.640268  3.499595   17  ...      539     3/11/20 -6.550709\n",
              "15   5.990120  3.807143   18  ...      608     3/11/20 -7.886374\n",
              "\n",
              "[16 rows x 8 columns]"
            ]
          },
          "metadata": {
            "tags": []
          },
          "execution_count": 113
        }
      ]
    },
    {
      "cell_type": "code",
      "metadata": {
        "id": "bkzkS5DhgrfX",
        "colab_type": "code",
        "outputId": "cbc6f6c3-747d-48f5-c74c-b79c456667b4",
        "colab": {
          "base_uri": "https://localhost:8080/",
          "height": 34
        }
      },
      "source": [
        "import numpy as np\n",
        "td=6.93 # days\n",
        "γ=1./6 # 1/days\n",
        "μ=1/(70*365) #1/days # Very small contribution\n",
        "1+np.log(2)/(td*(μ+γ))\n",
        "RO(td,γ,μ)"
      ],
      "execution_count": 114,
      "outputs": [
        {
          "output_type": "execute_result",
          "data": {
            "text/plain": [
              "1.5999865320232693"
            ]
          },
          "metadata": {
            "tags": []
          },
          "execution_count": 114
        }
      ]
    },
    {
      "cell_type": "markdown",
      "metadata": {
        "id": "RSua_oEv61Uv",
        "colab_type": "text"
      },
      "source": [
        "Example COVID-19"
      ]
    },
    {
      "cell_type": "code",
      "metadata": {
        "id": "-aWmFOofGQ9U",
        "colab_type": "code",
        "outputId": "2192efc3-bdd4-449a-ab1e-efdc93e9b8b6",
        "colab": {
          "base_uri": "https://localhost:8080/",
          "height": 34
        }
      },
      "source": [
        "td=1 # days\n",
        "RO(td,γ,μ)"
      ],
      "execution_count": 115,
      "outputs": [
        {
          "output_type": "execute_result",
          "data": {
            "text/plain": [
              "5.157906666921256"
            ]
          },
          "metadata": {
            "tags": []
          },
          "execution_count": 115
        }
      ]
    },
    {
      "cell_type": "code",
      "metadata": {
        "id": "VCNqHTmtCjE1",
        "colab_type": "code",
        "outputId": "07d43161-c735-4ed0-be3a-d9231101ded0",
        "colab": {
          "base_uri": "https://localhost:8080/",
          "height": 34
        }
      },
      "source": [
        "td=2 # days\n",
        "γ=1./4.1 # 1/days #More conservative value\n",
        "μ=1/(70*365) #1/days #Does not matter at all!\n",
        "RO(td,γ,μ)"
      ],
      "execution_count": 116,
      "outputs": [
        {
          "output_type": "execute_result",
          "data": {
            "text/plain": [
              "2.420723737082446"
            ]
          },
          "metadata": {
            "tags": []
          },
          "execution_count": 116
        }
      ]
    },
    {
      "cell_type": "code",
      "metadata": {
        "id": "GhQQK0dCCsim",
        "colab_type": "code",
        "outputId": "8274c6b8-f9bb-4d6e-cccf-6c721de6dd29",
        "colab": {
          "base_uri": "https://localhost:8080/",
          "height": 34
        }
      },
      "source": [
        "td=3.5 # days\n",
        "RO(td,γ,μ)"
      ],
      "execution_count": 117,
      "outputs": [
        {
          "output_type": "execute_result",
          "data": {
            "text/plain": [
              "1.8118421354756835"
            ]
          },
          "metadata": {
            "tags": []
          },
          "execution_count": 117
        }
      ]
    },
    {
      "cell_type": "code",
      "metadata": {
        "id": "aw8MCvPHCzaR",
        "colab_type": "code",
        "outputId": "744bae14-4580-4b05-e3a3-93dc1bd90e5d",
        "colab": {
          "base_uri": "https://localhost:8080/",
          "height": 34
        }
      },
      "source": [
        "td=6.6 # days\n",
        "RO(td,γ,μ)"
      ],
      "execution_count": 118,
      "outputs": [
        {
          "output_type": "execute_result",
          "data": {
            "text/plain": [
              "1.4305223445704383"
            ]
          },
          "metadata": {
            "tags": []
          },
          "execution_count": 118
        }
      ]
    },
    {
      "cell_type": "code",
      "metadata": {
        "id": "0_Vv2tLgC5vS",
        "colab_type": "code",
        "colab": {}
      },
      "source": [
        ""
      ],
      "execution_count": 0,
      "outputs": []
    }
  ]
}