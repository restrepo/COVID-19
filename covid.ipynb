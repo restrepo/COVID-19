{
 "cells": [
  {
   "cell_type": "markdown",
   "metadata": {
    "colab_type": "text",
    "id": "view-in-github"
   },
   "source": [
    "<a href=\"https://colab.research.google.com/github/restrepo/COVID-19/blob/master/covid.ipynb\" target=\"_parent\"><img src=\"https://colab.research.google.com/assets/colab-badge.svg\" alt=\"Open In Colab\"/></a>"
   ]
  },
  {
   "cell_type": "markdown",
   "metadata": {
    "colab_type": "text",
    "id": "AyVdvXDHSegL"
   },
   "source": [
    "# Covid-19 data for Colombia"
   ]
  },
  {
   "cell_type": "markdown",
   "metadata": {
    "colab_type": "text",
    "id": "mgzzuuteSegO"
   },
   "source": [
    "Use of [public Covid-19 in GitHub](https://github.com/CSSEGISandData/COVID-19) data from: \n",
    "[Center for Systems Science and Engineering (CSSE)](https://systems.jhu.edu/):\n",
    "\n",
    "* Hongru Du, Lauren Gardner, and Ensheng Dong, An interactive web-based dashboard to track COVID-19 in real time, http://www.thelancet.com/infection Published:February 19, 2020, DOI:https://doi.org/10.1016/S1473-3099(20)30120-1\n",
    "\n",
    "For examples of use of the data see Jupyter Notebook `covid19_analysis.ipynb`: [[local](./covid19_analysis.ipynb)] [[GitHub](https://github.com/restrepo/Covid-19/blob/master/covid_analysis.ipynb)] [[Colab](https://colab.research.google.com/github/restrepo/Covid-19/blob/master/covid_analysis.ipynb)]\n",
    "\n",
    "[Official Colombia data](https://infogram.com/covid-2019-ins-colombia-1hnq41zg9ord63z)"
   ]
  },
  {
   "cell_type": "code",
   "execution_count": 1,
   "metadata": {
    "colab": {
     "base_uri": "https://localhost:8080/",
     "height": 34
    },
    "colab_type": "code",
    "id": "CETEHcSKSegP",
    "outputId": "9cd696fc-0cab-4a24-9073-7d482bca978b"
   },
   "outputs": [
    {
     "name": "stdout",
     "output_type": "stream",
     "text": [
      "Populating the interactive namespace from numpy and matplotlib\n"
     ]
    }
   ],
   "source": [
    "%pylab inline"
   ]
  },
  {
   "cell_type": "code",
   "execution_count": 2,
   "metadata": {
    "colab": {},
    "colab_type": "code",
    "id": "ayDS570kSegT"
   },
   "outputs": [],
   "source": [
    "import pandas as pd\n",
    "import re\n",
    "#See https://strftime.org/\n",
    "import datetime\n",
    "import numpy as np\n",
    "from scipy import optimize as opt"
   ]
  },
  {
   "cell_type": "code",
   "execution_count": 3,
   "metadata": {
    "colab": {},
    "colab_type": "code",
    "id": "wHmtr6kKxN8S"
   },
   "outputs": [],
   "source": [
    "def exponential_model(x,a,b,c):\n",
    "    return a*np.exp(b*(x-c))\n",
    "\n",
    "def logistic_model(x,a,b,c):\n",
    "    return c/(1+np.exp(-(x-b)/a))\n",
    "\n",
    "def RO(td,γ=1./5.7,μ=1/(70*365)):\n",
    "    return 1+np.log(2)/(td*(μ+γ))    \n",
    "    \n",
    "def date_range(date_start='2/23/20',date_end='3/03/20',date_step=1,\n",
    "               strptime_format=\"%m/%d/%y\",\n",
    "               strftime_format=\"%-m/%-d/%y\"):\n",
    "    dr=[]\n",
    "    start = datetime.datetime.strptime(date_start,strptime_format )\n",
    "    end = datetime.datetime.strptime(date_end,strptime_format)\n",
    "    step = datetime.timedelta(days=date_step)\n",
    "    while start <= end:\n",
    "        #avoid leading zeroes: https://stackoverflow.com/a/2073189/2268280\n",
    "        dr.append(start.strftime(strftime_format))\n",
    "        start += step\n",
    "    return dr\n",
    "\n",
    "def index_field(df,column,filter=None):\n",
    "    '''\n",
    "    WARNING: Nonumerical columns are dropped\n",
    "    \n",
    "    Parameters:\n",
    "    ----------\n",
    "    filter: list, default None\n",
    "        Select only the columns in this list\n",
    "    '''\n",
    "    dff=df.copy()\n",
    "    if filter:\n",
    "        dff=df[[column]+list(filter)]\n",
    "    return dff.groupby(column).sum()\n",
    "\n",
    "def get_infected(country,date_start=None,date_end=None,DataFrame=None,\n",
    "      DataSource='https://raw.githubusercontent.com/CSSEGISandData/COVID-19/',\n",
    "      DataFile='master/csse_covid_19_data/csse_covid_19_time_series/time_series_19-covid-Confirmed.csv'\n",
    "      ):\n",
    "    '''\n",
    "    Obtenga la lista de infectados de un país\n",
    "     country: País\n",
    "     date_start: Fecha inicial en el formato MM/DD/YY, e.g. '3/10/20' o None\n",
    "     date_end  : Fecha final en el formato MM/DD/YY, e.g. '3/10/20' o None\n",
    "     si alguna de las fechas esta en None se toma de los extremos del rango\n",
    "     de fechas disponible\n",
    "    '''\n",
    "    if DataFrame is None:\n",
    "        df=pd.read_csv('{}{}'.format(data_source,data_file))\n",
    "        df=df.reset_index(drop=True)\n",
    "    else:\n",
    "        df=DataFrame.copy()\n",
    "\n",
    "    d=[ c for c in df.columns if re.search(r'^[0-9]{1,2}\\/[0-9]{1,2}\\/[0-9]{2}',c)]\n",
    "    if not date_start:\n",
    "        date_start=d[0]\n",
    "    if not date_end:\n",
    "        date_end=d[-1]\n",
    "    dr=date_range(date_start=date_start,date_end=date_end)\n",
    "    #country in df.index\n",
    "    cvrg=df[dr]\n",
    "    y=cvrg.loc[country].tolist()              \n",
    "    return y\n",
    "\n",
    "def dataframe_doubling(x,y,start_date,final_date,p03=10):\n",
    "    '''\n",
    "    x: list of days\n",
    "    y: list of infected\n",
    "    '''\n",
    "    sp=pd.DataFrame()\n",
    "    if len(x)<3:\n",
    "        print('WARNING: Not enough data: at least 3 days')\n",
    "        return sp\n",
    "    spd={'start_date':start_date,'final_date':final_date}\n",
    "    for d in x[2:]:\n",
    "        exp_fit = opt.curve_fit(exponential_model,x[:d],y[:d],p0=[1,0.4,p03])\n",
    "        if exp_fit[1][1,1] is np.inf:\n",
    "            print('WARNING: exponential fit faild for p0[3]={}'.format(p03))\n",
    "        spd['g']=exp_fit[0][1]\n",
    "        N0=exp_fit[0][0];g=exp_fit[0][1];t0=exp_fit[0][2]\n",
    "        if exponential_model(t0,N0,g,t0)==N0:\n",
    "            Td=np.log(2)/g\n",
    "            spd['N0']=exp_fit[0][0]\n",
    "            spd['t0']=exp_fit[0][2]\n",
    "            spd['Td']=Td\n",
    "            spd['day']=d\n",
    "            spd['infected']=y[d-1]\n",
    "        sp=sp.append(spd,ignore_index=True)\n",
    "\n",
    "    sp['day']=sp['day'].astype(int)\n",
    "    sp['infected']=sp['infected'].astype(int)\n",
    "    return sp"
   ]
  },
  {
   "cell_type": "markdown",
   "metadata": {
    "colab_type": "text",
    "id": "YhCXT6zdSegW"
   },
   "source": [
    "## Load data"
   ]
  },
  {
   "cell_type": "code",
   "execution_count": 4,
   "metadata": {
    "colab": {},
    "colab_type": "code",
    "id": "0_gnDzNISegX"
   },
   "outputs": [],
   "source": [
    "DataSource='https://raw.githubusercontent.com/CSSEGISandData/COVID-19/'\n",
    "DataFile='master/csse_covid_19_data/csse_covid_19_time_series/time_series_covid19_confirmed_global.csv'\n",
    "cva=pd.read_csv('{}{}'.format(DataSource,DataFile))\n",
    "cva=cva.reset_index(drop=True)\n",
    "#Special cases\n",
    "c='Hong Kong'\n",
    "try:\n",
    "    cva.loc[cva[cva['Province/State']==c].index[0],'Country/Region']=c\n",
    "except IndexError:\n",
    "    pass  "
   ]
  },
  {
   "cell_type": "code",
   "execution_count": 5,
   "metadata": {
    "colab": {},
    "colab_type": "code",
    "id": "VS8pVXXUgAb8"
   },
   "outputs": [],
   "source": [
    "FIX_COLUMNS=False\n",
    "if FIX_COLUMNS:\n",
    "    cva=cva.rename({'3/21/202':'3/21/20'},axis='columns')"
   ]
  },
  {
   "cell_type": "code",
   "execution_count": 6,
   "metadata": {
    "colab": {},
    "colab_type": "code",
    "id": "kVuZQNtGTvsv"
   },
   "outputs": [],
   "source": [
    "d=[ c for c in cva.columns if re.search(r'^[0-9]{1,2}\\/[0-9]{1,2}\\/[1920]{2}',c)]\n",
    "cv=index_field(cva,\"Country/Region\",filter=d)"
   ]
  },
  {
   "cell_type": "markdown",
   "metadata": {
    "colab_type": "text",
    "id": "6Oo7JxF7v84j"
   },
   "source": [
    "## Fix wrong data\n"
   ]
  },
  {
   "cell_type": "code",
   "execution_count": 7,
   "metadata": {
    "colab": {},
    "colab_type": "code",
    "id": "mEUqzmPVwETD"
   },
   "outputs": [],
   "source": [
    "FIX_DATA=False\n",
    "if FIX_DATA:\n",
    "    ic=cva[cva['Country/Region']=='Colombia'].index[0]\n",
    "    cva.loc[ic,'3/23/20']=271"
   ]
  },
  {
   "cell_type": "markdown",
   "metadata": {
    "colab_type": "text",
    "id": "Wr_8XBT5jydT"
   },
   "source": [
    "last update"
   ]
  },
  {
   "cell_type": "code",
   "execution_count": 8,
   "metadata": {
    "colab": {
     "base_uri": "https://localhost:8080/",
     "height": 34
    },
    "colab_type": "code",
    "id": "EIsLe1SJPssU",
    "outputId": "82bc130f-37b5-4a0f-d843-e7f12277f200"
   },
   "outputs": [
    {
     "data": {
      "text/plain": [
       "'4/5/20'"
      ]
     },
     "execution_count": 8,
     "metadata": {},
     "output_type": "execute_result"
    }
   ],
   "source": [
    "dmax=d[-1]\n",
    "dmax"
   ]
  },
  {
   "cell_type": "code",
   "execution_count": 9,
   "metadata": {
    "colab": {},
    "colab_type": "code",
    "id": "bs-SH0aseh5-"
   },
   "outputs": [],
   "source": [
    "if len(dmax.split('/')[-1])>2:\n",
    "    print('WARNING: Date format changed!!!!')"
   ]
  },
  {
   "cell_type": "markdown",
   "metadata": {
    "colab_type": "text",
    "id": "n0oKGDTursX1"
   },
   "source": [
    "## Fit to logistic or exponential model\n",
    "See: \n",
    "* https://twitter.com/burkert_andreas/status/1239692655833071616\n",
    "    * https://raw.githubusercontent.com/restrepo/Covid-19/master/covid-19.jpeg\n",
    "\n",
    "* Method for Python explained in \n",
    "[Covid-19 infection in Italy. Mathematical models and predictions](https://towardsdatascience.com/covid-19-infection-in-italy-mathematical-models-and-predictions-7784b4d7dd8d):\n",
    "\n",
    "> While the logistic model describes an infection growth that is going to stop in the future, the exponential model describes an unstoppable infection growth. For example, if a patient infects 2 patients per day, after 1 day we’ll have 2 infections, 4 after 2 days, 8 after 3 and so on. The most generic exponential function is:\n",
    "\n",
    "$$f(x,a,b,c)=a\\operatorname{e}^{b(x-c)}\\,.$$\n",
    "\n",
    "Which can be [interpreted as](https://en.wikipedia.org/wiki/Doubling_time)\n",
    "$$N(t)=N(t_0)\\operatorname{e}^{g(t-t_0)}$$\n",
    "\n",
    "or\n",
    "\n",
    "$g = \\dfrac{\\ln\\left(N(t)/N(t_0)\\right)}{t-t_0}$\n",
    "\n",
    "* $N(t)$ = the number of infected at time $t$\n",
    "* $N(t_0)$ = the number of infected at time $t_0$\n",
    "* $g$ = growth rate\n",
    "* $t$ = time (usually in days)\n",
    "\n",
    "Doubling time $T_d$:\n",
    "\n",
    "$T_d = \\dfrac{\\ln(2)}{g}$\n",
    "\n",
    "$T_d = (t-t_0)\\dfrac{\\ln(2)}{\\ln\\left(N(t)/N(t_0)\\right)}$\n",
    "\n",
    "For doubling times analysis for other countries see [Forbes](https://www.forbes.com/sites/startswithabang/2020/03/17/why-exponential-growth-is-so-scary-for-the-covid-19-coronavirus/#66dd44434e9b) - [Result](https://raw.githubusercontent.com/restrepo/Covid-19/master/img/doubling.jpg)\n",
    "\n"
   ]
  },
  {
   "cell_type": "markdown",
   "metadata": {
    "colab_type": "text",
    "id": "wyrBVXeBOVRZ"
   },
   "source": [
    "# Colombia"
   ]
  },
  {
   "cell_type": "markdown",
   "metadata": {
    "colab_type": "text",
    "id": "B06YcwU5kRE8"
   },
   "source": [
    "### Select data for Colombia"
   ]
  },
  {
   "cell_type": "code",
   "execution_count": 10,
   "metadata": {
    "colab": {},
    "colab_type": "code",
    "id": "OKuDneoi8phN"
   },
   "outputs": [],
   "source": [
    "NOT_OFFICIAL_UPDATE=False\n",
    "c='Colombia'\n",
    "max_forecast=1000\n",
    "prediction=23\n",
    "extra_days=16\n",
    "start_day='3/9/20'\n",
    "y=get_infected(c,date_start=start_day,date_end=dmax,DataFrame=cv)\n",
    "if NOT_OFFICIAL_UPDATE:\n",
    "    today=input('Last infected: ')\n",
    "    y.append(int(today))\n",
    "x=list(range(1,len(y)+1))"
   ]
  },
  {
   "cell_type": "markdown",
   "metadata": {
    "colab_type": "text",
    "id": "hygnPKYpf88d"
   },
   "source": [
    "### Logistic model for Colombia"
   ]
  },
  {
   "cell_type": "code",
   "execution_count": 11,
   "metadata": {
    "colab": {
     "base_uri": "https://localhost:8080/",
     "height": 34
    },
    "colab_type": "code",
    "id": "wbC9csucbD6h",
    "outputId": "049b87fa-1636-4cf7-910a-4f7447de5426"
   },
   "outputs": [
    {
     "data": {
      "text/plain": [
       "'logistic end: 2185 ± 140 infected'"
      ]
     },
     "execution_count": 11,
     "metadata": {},
     "output_type": "execute_result"
    }
   ],
   "source": [
    "logistic_fit = opt.curve_fit(logistic_model,x,y,p0=[2,10,100])\n",
    "logistic_end=int(logistic_fit[0][2])\n",
    "'logistic end: {} ± {} infected'.format(logistic_end,\n",
    "                               int(np.sqrt(logistic_fit[1][2,2])))"
   ]
  },
  {
   "cell_type": "markdown",
   "metadata": {
    "colab_type": "text",
    "id": "5UVvC_XWEpzk"
   },
   "source": [
    "### Exponential model for Colombia"
   ]
  },
  {
   "cell_type": "markdown",
   "metadata": {
    "colab_type": "text",
    "id": "oj76wgXuigZk"
   },
   "source": [
    "Prepare data"
   ]
  },
  {
   "cell_type": "code",
   "execution_count": 12,
   "metadata": {},
   "outputs": [],
   "source": [
    "import warnings\n",
    "warnings.filterwarnings(\"ignore\")"
   ]
  },
  {
   "cell_type": "code",
   "execution_count": 13,
   "metadata": {
    "colab": {
     "base_uri": "https://localhost:8080/",
     "height": 68
    },
    "colab_type": "code",
    "id": "boCtIzi15e0y",
    "outputId": "1a2459bb-ec71-4664-9c57-5fa35683bd08"
   },
   "outputs": [
    {
     "data": {
      "text/plain": [
       "'exponential `b`-fitted parameter: 0.129  ± 0.005'"
      ]
     },
     "execution_count": 13,
     "metadata": {},
     "output_type": "execute_result"
    }
   ],
   "source": [
    "exp_fit = opt.curve_fit(exponential_model,x,y,p0=[1,0.4,20])\n",
    "try:\n",
    "    Δb=np.sqrt(exp_fit[1][1,1])\n",
    "except:\n",
    "    Δb=0\n",
    "'exponential `b`-fitted parameter: {}  ± {}'.format(exp_fit[0][1].round(3),Δb.round(3))"
   ]
  },
  {
   "cell_type": "markdown",
   "metadata": {
    "colab_type": "text",
    "id": "BX2K94qZACv2"
   },
   "source": [
    "Prediction next day"
   ]
  },
  {
   "cell_type": "code",
   "execution_count": 14,
   "metadata": {
    "colab": {
     "base_uri": "https://localhost:8080/",
     "height": 34
    },
    "colab_type": "code",
    "id": "q4B7lxuVfh-Y",
    "outputId": "9f3bde5c-60c8-415e-cede-e0befb64f318"
   },
   "outputs": [
    {
     "name": "stdout",
     "output_type": "stream",
     "text": [
      "day 29:  next day:  $1851^{+334}_{-283}$ infected\n"
     ]
    }
   ],
   "source": [
    "exp_fit_co=exp_fit[0].copy()\n",
    "exponential_model_co=lambda x: exponential_model(x, exp_fit_co[0],exp_fit_co[1],exp_fit_co[2]  )\n",
    "infc=exponential_model_co(x[-1]+1  )\n",
    "pinfc=exponential_model(x[-1]+1, exp_fit_co[0],exp_fit_co[1]+Δb,exp_fit_co[2]  )-infc\n",
    "minfc=infc-exponential_model(x[-1]+1, exp_fit_co[0],exp_fit_co[1]-Δb,exp_fit_co[2]  )\n",
    "next_day=r'next day:  $%g^{+%g}_{-%g}$' %(\n",
    "                        int( infc ),int( pinfc ),int( minfc )  )\n",
    "print('day {}:  {} infected'.format(x[-1]+1,next_day) )"
   ]
  },
  {
   "cell_type": "markdown",
   "metadata": {
    "colab_type": "text",
    "id": "KeVqU_YvJAfS"
   },
   "source": [
    "Iterpretation in terms of\n",
    "$$N(t)=N(t_0)\\operatorname{e}^{g(t-t_0)}$$"
   ]
  },
  {
   "cell_type": "code",
   "execution_count": 15,
   "metadata": {
    "colab": {
     "base_uri": "https://localhost:8080/",
     "height": 34
    },
    "colab_type": "code",
    "id": "Z-cVd2FTKVqR",
    "outputId": "474d3c09-1cd6-4b69-ffbd-ec729111506e"
   },
   "outputs": [
    {
     "name": "stdout",
     "output_type": "stream",
     "text": [
      "T_d →  (doubling time = 5.4 days)\n"
     ]
    }
   ],
   "source": [
    "N0=exp_fit[0][0];g=exp_fit[0][1];t0=exp_fit[0][2]\n",
    "if exponential_model(t0,N0,g,t0)==N0:\n",
    "    Td=np.log(2)/g\n",
    "else:\n",
    "    print('WARNING: N(t) interpretation not working')\n",
    "    Td=None\n",
    "if Td:\n",
    "    dt=re.sub('\\.0\\s',' ', '(doubling time = {} days)'.format(Td.round(1)\n",
    "        ))\n",
    "    texmodel='N(t)=N(t_0)e^{t-t_0}='\n",
    "    print('T_d →  {}'.format(dt))\n",
    "else:\n",
    "    texmodel=''\n",
    "    dt=''"
   ]
  },
  {
   "cell_type": "markdown",
   "metadata": {
    "colab_type": "text",
    "id": "_SDaHxDWijWJ"
   },
   "source": [
    "Visualization"
   ]
  },
  {
   "cell_type": "code",
   "execution_count": 16,
   "metadata": {
    "colab": {
     "base_uri": "https://localhost:8080/",
     "height": 300
    },
    "colab_type": "code",
    "id": "qhDjsZXGHwYi",
    "outputId": "4c0fbca7-e09f-4ede-d07c-2154be1215ff"
   },
   "outputs": [
    {
     "data": {
      "image/png": "[encoded data removed]",
      "text/plain": [
       "<Figure size 432x288 with 1 Axes>"
      ]
     },
     "metadata": {
      "needs_background": "light"
     },
     "output_type": "display_data"
    }
   ],
   "source": [
    "LOGISTIC=False\n",
    "ERRORS=True\n",
    "ylinlog='log'\n",
    "xx=list(range(x[0],x[-1]+extra_days))\n",
    "if min(y)>0:\n",
    "    ymin=min(y)\n",
    "else:\n",
    "    ymin=1\n",
    "\n",
    "plt.plot(x,y,'r-',label=c)\n",
    "plt.plot(xx,\n",
    "         exponential_model(xx,exp_fit[0][0],exp_fit[0][1],exp_fit[0][2]),\n",
    "         'k:',\n",
    "         label=r'$%s%g\\cdot e^{%g[t-(%g)]}$' %(texmodel,\n",
    "                                             exp_fit[0][0].round(2),\n",
    "                                             exp_fit[0][1].round(3),\n",
    "                                             exp_fit[0][2].round(2)) )\n",
    "if ERRORS:\n",
    "    plt.plot(xx,\n",
    "         exponential_model(xx,exp_fit[0][0],exp_fit[0][1]+Δb,exp_fit[0][2]),\n",
    "         'm:',lw=0.5)\n",
    "    plt.plot(xx,\n",
    "         exponential_model(xx,exp_fit[0][0],exp_fit[0][1]-Δb,exp_fit[0][2]),\n",
    "         'm:',lw=0.5)\n",
    "plt.hlines(max_forecast,xx[0],xx[-1],linestyles='--',lw=1)\n",
    "plt.vlines(prediction,ymin,max_forecast,linestyles='--',lw=1)\n",
    "\n",
    "plt.title('From: {} to {}'.format(\n",
    "    datetime.datetime.strptime(start_day,\"%m/%d/%y\").strftime(\"%B %-d, %Y\"),\n",
    "    datetime.datetime.strptime(dmax,\"%m/%d/%y\").strftime(\"%B %-d, %Y\") ) )\n",
    "plt.plot(x[-1]+1,infc,'r*',markersize=10,\n",
    "         label=next_day\n",
    "         )\n",
    "\n",
    "if LOGISTIC:\n",
    "    plt.plot(xx,\n",
    "         logistic_model(xx,logistic_fit[0][0],logistic_fit[0][1],logistic_fit[0][2]),\n",
    "         'c:',lw=2,label='Logistic model → max infected = {}'.format(logistic_end)\n",
    "          )\n",
    "\n",
    "plt.legend()#(loc='upper left')\n",
    "plt.xscale('linear')\n",
    "plt.yscale(ylinlog)\n",
    "plt.xlabel('days',size=15)\n",
    "plt.ylabel('infected '+dt,size=13 )\n",
    "if ylinlog=='linear':\n",
    "    xmax=x[-1]+2\n",
    "    ymax=y[-1]+infc+Δb\n",
    "else:\n",
    "    xmax=xx[-1]\n",
    "    ymax=max_forecast+30000\n",
    "plt.xlim(xx[0],xmax)\n",
    "plt.ylim(ymin,ymax)\n",
    "plt.grid()\n",
    "plt.savefig('img/Colombia.png')"
   ]
  },
  {
   "cell_type": "markdown",
   "metadata": {},
   "source": [
    "Phenomenological model:\n",
    "https://fonte.es/A-CIENCIA/2020-04-04~Matematicas_para_una_epidemia_-_Propagacion_del_SARS-CoV-2.html"
   ]
  },
  {
   "cell_type": "markdown",
   "metadata": {
    "colab_type": "text",
    "id": "Nr4ABj2LOyW6"
   },
   "source": [
    "\n",
    "## Doubling time"
   ]
  },
  {
   "cell_type": "code",
   "execution_count": 17,
   "metadata": {
    "colab": {
     "base_uri": "https://localhost:8080/",
     "height": 85
    },
    "colab_type": "code",
    "id": "f0etVs6E-l0M",
    "outputId": "ab42c7cb-72c2-4f87-c747-573e2207603d"
   },
   "outputs": [],
   "source": [
    "sp=dataframe_doubling(x,y,start_date=start_day,final_date=dmax,p03=10)"
   ]
  },
  {
   "cell_type": "code",
   "execution_count": 18,
   "metadata": {
    "colab": {
     "base_uri": "https://localhost:8080/",
     "height": 295
    },
    "colab_type": "code",
    "id": "fr2lQ8gjWlnk",
    "outputId": "368908dd-7101-441b-dbfc-97ef837fa229"
   },
   "outputs": [
    {
     "data": {
      "image/png": "[encoded data removed]",
      "text/plain": [
       "<Figure size 432x288 with 1 Axes>"
      ]
     },
     "metadata": {
      "needs_background": "light"
     },
     "output_type": "display_data"
    }
   ],
   "source": [
    "plt.plot(sp['day'],sp['Td'],'k-')\n",
    "plt.plot(sp['day'],sp['Td'],'r.')\n",
    "plt.title('Example: A DT of 2 means that infections double every 2 days')\n",
    "plt.xlabel('days from {}'.format(\n",
    "    datetime.datetime.strptime(start_day,\"%m/%d/%y\").strftime(\"%B %-d, %Y\")\n",
    "  ))\n",
    "plt.ylabel('Doubling time (DT) in units of days')\n",
    "plt.grid()\n",
    "plt.savefig('doublingtime.png')"
   ]
  },
  {
   "cell_type": "markdown",
   "metadata": {
    "colab_type": "text",
    "id": "lKpGuQ8AZYGc"
   },
   "source": [
    "RO estimation (See Appendix)"
   ]
  },
  {
   "cell_type": "code",
   "execution_count": 19,
   "metadata": {
    "colab": {
     "base_uri": "https://localhost:8080/",
     "height": 301
    },
    "colab_type": "code",
    "id": "b8QDE1fpZe7c",
    "outputId": "d7ae0389-429b-465a-ab7e-91c565ecf649"
   },
   "outputs": [
    {
     "data": {
      "text/plain": [
       "Text(0, 0.5, 'RO')"
      ]
     },
     "execution_count": 19,
     "metadata": {},
     "output_type": "execute_result"
    },
    {
     "data": {
      "image/png": "[encoded data removed]",
      "text/plain": [
       "<Figure size 432x288 with 1 Axes>"
      ]
     },
     "metadata": {
      "needs_background": "light"
     },
     "output_type": "display_data"
    }
   ],
   "source": [
    "γ=1./4.1 # 1/days #less worst value\n",
    "μ=1/(70*365) #1/days #Does not matter at all!\n",
    "plt.plot(sp['day'],RO(sp['Td'].values,γ,μ   ),'ro' )\n",
    "plt.plot(sp['day'],RO(sp['Td'].values,γ,μ  ),'k-' )\n",
    "plt.grid()\n",
    "plt.xlabel('days',size=15)\n",
    "plt.ylabel('RO',size=15)"
   ]
  },
  {
   "cell_type": "code",
   "execution_count": 20,
   "metadata": {},
   "outputs": [
    {
     "name": "stdout",
     "output_type": "stream",
     "text": [
      "2026.3303314345892 115.14327941493406 36.370827542009515 \n",
      " [[2.58823938e+04 1.67603311e+03 2.16387527e+02]\n",
      " [1.67603311e+03 1.21050354e+02 1.47672958e+01]\n",
      " [2.16387527e+02 1.47672958e+01 1.85886245e+00]]\n",
      "max infected: 2026.3303314345892\n"
     ]
    },
    {
     "data": {
      "image/png": "[encoded data removed]",
      "text/plain": [
       "<Figure size 432x288 with 1 Axes>"
      ]
     },
     "metadata": {
      "needs_background": "light"
     },
     "output_type": "display_data"
    }
   ],
   "source": [
    "def gaussian_model(xx,A,s,tm):\n",
    "    xx=np.asarray(xx)\n",
    "    return A*np.exp(-( (xx-tm)**2   )/(2*s)   ) \n",
    "\n",
    "fit=opt.curve_fit(gaussian_model,x,y,p0=[8000,6,20])\n",
    "A =fit[0][0]\n",
    "s =fit[0][1]\n",
    "tm=fit[0][2]\n",
    "print(A,s,tm,'\\n',fit[1])\n",
    "print('max infected: {}'.format(A))\n",
    "\n",
    "ylinlog='linear'\n",
    "extra_days=26\n",
    "xx=np.array(range(x[0],x[-1]+extra_days))\n",
    "if min(y)>0:\n",
    "    ymin=min(y)\n",
    "else:\n",
    "    ymin=1\n",
    "\n",
    "plt.plot(x,y,'r-',label=c)\n",
    "plt.plot(xx,\n",
    "         gaussian_model(xx,A,s,tm),\n",
    "         'k:' )\n",
    "\n",
    "plt.legend()#(loc='upper left')\n",
    "plt.xscale('linear')\n",
    "plt.yscale(ylinlog)\n",
    "plt.xlabel('days',size=15)\n",
    "plt.ylabel('infected '+dt,size=13 )\n",
    "if ylinlog=='linear':\n",
    "    xmax=x[-1]+2\n",
    "    ymax=y[-1]+infc+Δb\n",
    "else:\n",
    "    xmax=xx[-1]\n",
    "    ymax=max_forecast+30000\n",
    "plt.xlim(xx[0],xmax+extra_days)\n",
    "plt.ylim(ymin,A+100)\n",
    "plt.grid()"
   ]
  },
  {
   "cell_type": "code",
   "execution_count": 21,
   "metadata": {},
   "outputs": [
    {
     "name": "stdout",
     "output_type": "stream",
     "text": [
      "5595.732627615109 75.08586813597779 36.320420094947515 \n",
      " [[2.60405818e+03 8.45286157e+01 1.00573559e+01]\n",
      " [8.45286157e+01 6.38478987e+00 5.63537454e-01]\n",
      " [1.00573559e+01 5.63537454e-01 5.70281297e-02]]\n",
      "max infected: 5595.732627615109\n"
     ]
    },
    {
     "data": {
      "image/png": "[encoded data removed]",
      "text/plain": [
       "<Figure size 432x288 with 1 Axes>"
      ]
     },
     "metadata": {
      "needs_background": "light"
     },
     "output_type": "display_data"
    }
   ],
   "source": [
    "c='Australia'\n",
    "max_forecast=10000\n",
    "prediction=34#21\n",
    "start_day='3/1/20'\n",
    "y=get_infected(c,date_start=start_day,date_end=dmax,DataFrame=cv)\n",
    "x=list(range(1,len(y)+1))\n",
    "fit=opt.curve_fit(gaussian_model,x,y,p0=[8000,6,20])\n",
    "A =fit[0][0]\n",
    "s =fit[0][1]\n",
    "tm=fit[0][2]\n",
    "print(A,s,tm,'\\n',fit[1])\n",
    "print('max infected: {}'.format(A))\n",
    "\n",
    "ylinlog='linear'\n",
    "extra_days=26\n",
    "xx=np.array(range(x[0],x[-1]+extra_days))\n",
    "if min(y)>0:\n",
    "    ymin=min(y)\n",
    "else:\n",
    "    ymin=1\n",
    "\n",
    "plt.plot(x,y,'r-',label=c)\n",
    "plt.plot(xx,\n",
    "         gaussian_model(xx,A,s,tm),\n",
    "         'k:' )\n",
    "\n",
    "plt.legend()#(loc='upper left')\n",
    "plt.xscale('linear')\n",
    "plt.yscale(ylinlog)\n",
    "plt.xlabel('days',size=15)\n",
    "plt.ylabel('infected '+dt,size=13 )\n",
    "if ylinlog=='linear':\n",
    "    xmax=x[-1]+2\n",
    "    ymax=y[-1]+infc+Δb\n",
    "else:\n",
    "    xmax=xx[-1]\n",
    "    ymax=max_forecast+30000\n",
    "plt.xlim(xx[0],xmax+extra_days)\n",
    "plt.ylim(ymin,A+1000)\n",
    "plt.grid()"
   ]
  },
  {
   "cell_type": "markdown",
   "metadata": {
    "colab_type": "text",
    "id": "t3pI27BkA8bh"
   },
   "source": [
    "### Other country"
   ]
  },
  {
   "cell_type": "code",
   "execution_count": 22,
   "metadata": {
    "colab": {
     "base_uri": "https://localhost:8080/",
     "height": 34
    },
    "colab_type": "code",
    "id": "wIsVKF8CwjBh",
    "outputId": "f022f56e-d99e-415b-8f74-777085c46a2f"
   },
   "outputs": [
    {
     "data": {
      "text/plain": [
       "inf"
      ]
     },
     "execution_count": 22,
     "metadata": {},
     "output_type": "execute_result"
    }
   ],
   "source": [
    "c='Australia'\n",
    "max_forecast=10000\n",
    "prediction=34#21\n",
    "start_day='3/1/20'\n",
    "y=get_infected(c,date_start=start_day,date_end=dmax,DataFrame=cv)\n",
    "x=list(range(1,len(y)+1))\n",
    "exp_fit = opt.curve_fit(exponential_model,x,y,p0=[1,0.4,10])\n",
    "exp_fit[1][1,1]"
   ]
  },
  {
   "cell_type": "code",
   "execution_count": 23,
   "metadata": {
    "colab": {
     "base_uri": "https://localhost:8080/",
     "height": 312
    },
    "colab_type": "code",
    "id": "FukSUSfNKJ9O",
    "outputId": "2bf2cbf6-d1bd-43ca-c084-46e5f3240568"
   },
   "outputs": [
    {
     "data": {
      "text/plain": [
       "(27, 20000)"
      ]
     },
     "execution_count": 23,
     "metadata": {},
     "output_type": "execute_result"
    },
    {
     "data": {
      "image/png": "[encoded data removed]",
      "text/plain": [
       "<Figure size 432x288 with 1 Axes>"
      ]
     },
     "metadata": {
      "needs_background": "light"
     },
     "output_type": "display_data"
    }
   ],
   "source": [
    "xx=list(range(x[0],x[-1]+20))\n",
    "if min(y)>0:\n",
    "    ymin=min(y)\n",
    "else:\n",
    "    ymin=1\n",
    "\n",
    "plt.plot(x,y,'r-',label=c)\n",
    "plt.plot(xx,\n",
    "         exponential_model(xx,exp_fit[0][0],exp_fit[0][1],exp_fit[0][2]),\n",
    "         'k:',\n",
    "         label=r'$%g\\cdot e^{%g[x-(%g)]}$' %(exp_fit[0][0],exp_fit[0][1],exp_fit[0][2]) )\n",
    "\n",
    "plt.plot(xx,exponential_model_co(xx),'c:',label='Colombia model')\n",
    "\n",
    "plt.hlines(max_forecast,xx[0],xx[-1],linestyles='--',lw=1)\n",
    "plt.vlines(prediction,ymin,max_forecast,linestyles='--',lw=1)\n",
    "\n",
    "plt.title('From: {} to {}'.format(\n",
    "    datetime.datetime.strptime(start_day,\"%m/%d/%y\").strftime(\"%B %-d, %Y\"),\n",
    "    datetime.datetime.strptime(dmax,\"%m/%d/%y\").strftime(\"%B %-d, %Y\") ) ) \n",
    "plt.legend(loc='best')\n",
    "plt.xscale('linear')\n",
    "plt.yscale('log')\n",
    "plt.xlabel('days')\n",
    "plt.ylabel('infected')\n",
    "plt.xlim(xx[0],xx[-1])\n",
    "plt.ylim(ymin,max_forecast+10000)"
   ]
  },
  {
   "cell_type": "code",
   "execution_count": 24,
   "metadata": {
    "colab": {
     "base_uri": "https://localhost:8080/",
     "height": 34
    },
    "colab_type": "code",
    "id": "fWSwwhu66ErC",
    "outputId": "96627c82-548b-486b-adb8-3710822d0d52"
   },
   "outputs": [
    {
     "name": "stdout",
     "output_type": "stream",
     "text": [
      "T_d →  (doubling time = 2.94 days)\n"
     ]
    }
   ],
   "source": [
    "N0=exp_fit[0][0];g=exp_fit[0][1];t0=exp_fit[0][2]\n",
    "if exponential_model(t0,N0,g,t0)==N0:\n",
    "    Td=np.log(2)/g\n",
    "else:\n",
    "    print('WARNING: N(t) interpretation not working')\n",
    "    Td=None\n",
    "if Td:\n",
    "    dt='(doubling time = {} days)'.format(Td.round(2))\n",
    "    print('T_d →  {}'.format(dt))"
   ]
  },
  {
   "cell_type": "code",
   "execution_count": 25,
   "metadata": {
    "colab": {
     "base_uri": "https://localhost:8080/",
     "height": 85
    },
    "colab_type": "code",
    "id": "Wc731u72_P-S",
    "outputId": "c75c1b21-a3b8-4ffc-f7b5-24a6adc85b37"
   },
   "outputs": [],
   "source": [
    "#Australua\n",
    "spa=dataframe_doubling(x,y,start_date=start_day,final_date='',p03=20)"
   ]
  },
  {
   "cell_type": "code",
   "execution_count": 26,
   "metadata": {
    "colab": {
     "base_uri": "https://localhost:8080/",
     "height": 120
    },
    "colab_type": "code",
    "id": "szBf6Bo2A6D8",
    "outputId": "e5eecb9d-2454-4d2b-c38b-6555e05fe7ea"
   },
   "outputs": [],
   "source": [
    "c='Spain'\n",
    "start_day='3/1/20'\n",
    "y=get_infected(c,date_start=start_day,date_end=dmax,DataFrame=cv)\n",
    "x=list( range(1,len(y)+1) )\n",
    "sps=dataframe_doubling(x,y,start_date=start_day,final_date=dmax)"
   ]
  },
  {
   "cell_type": "code",
   "execution_count": 27,
   "metadata": {
    "colab": {
     "base_uri": "https://localhost:8080/",
     "height": 120
    },
    "colab_type": "code",
    "id": "Q0JxauZ_8KWP",
    "outputId": "8fa29914-2f15-446a-8ff5-f34efd849936"
   },
   "outputs": [],
   "source": [
    "c='Italy'\n",
    "start_day='3/1/20'\n",
    "y=get_infected(c,date_start=start_day,date_end='4/3/20',DataFrame=cv)\n",
    "x=list( range(1,len(y)+1) )\n",
    "spi=dataframe_doubling(x,y,start_date=start_day,final_date=dmax)"
   ]
  },
  {
   "cell_type": "code",
   "execution_count": 28,
   "metadata": {
    "colab": {
     "base_uri": "https://localhost:8080/",
     "height": 295
    },
    "colab_type": "code",
    "id": "WIRDT2Z8_nlz",
    "outputId": "e228bf98-403c-49e1-de4e-7b4dbe95af37"
   },
   "outputs": [
    {
     "data": {
      "image/png": "[encoded data removed]",
      "text/plain": [
       "<Figure size 432x288 with 1 Axes>"
      ]
     },
     "metadata": {
      "needs_background": "light"
     },
     "output_type": "display_data"
    }
   ],
   "source": [
    "plt.plot(spa['day'],spa['Td'],'k--',label='_nolegend_')\n",
    "plt.plot(spa['day'],spa['Td'],'g.',markersize=15,label='Australia')\n",
    "plt.plot(sps['day'],sps['Td'],'k--',label='_nolegend_')\n",
    "plt.plot(sps['day'],sps['Td'],'y.',markersize=15,label='Spain')\n",
    "plt.plot(spi['day'],spi['Td'],'k--',label='_nolegend_')\n",
    "plt.plot(spi['day'],spi['Td'],'c.',markersize=15,label='Italy')\n",
    "plt.plot(sp['day']+8,sp['Td'],'k--',label='_nolegend_')\n",
    "plt.plot(sp['day']+8,sp['Td'],'r.',markersize=15,label='Colombia')\n",
    "\n",
    "plt.title('Example: A DT of 2 means that infected double every 2 days')\n",
    "plt.xlabel('days from {}'.format(\n",
    "    datetime.datetime.strptime(start_day,\"%m/%d/%y\").strftime(\"%B %-d, %Y\")\n",
    "  ))\n",
    "plt.ylabel('Doubling time (DT) in units of days')\n",
    "plt.ylim(0,8)\n",
    "plt.legend()\n",
    "plt.grid()\n",
    "plt.savefig('doublingtime.png')"
   ]
  },
  {
   "cell_type": "code",
   "execution_count": 29,
   "metadata": {
    "colab": {
     "base_uri": "https://localhost:8080/",
     "height": 120
    },
    "colab_type": "code",
    "id": "JW1yUGouZGEp",
    "outputId": "1dc66e65-d039-4e50-a6ef-3bb0f797447e"
   },
   "outputs": [],
   "source": [
    "#Day 1: infected > 10\n",
    "mininf=10\n",
    "c='Italy'\n",
    "start_day='2/19/20'\n",
    "y=get_infected(c,date_start=start_day,date_end='3/31/20',DataFrame=cv)\n",
    "x=list( range(1,len(y)+1) )\n",
    "spi=dataframe_doubling(x,y,start_date=start_day,final_date=dmax,p03=12)\n",
    "c='Spain'\n",
    "start_day='2/24/20'\n",
    "y=get_infected(c,date_start=start_day,date_end=dmax,DataFrame=cv)\n",
    "x=list( range(1,len(y)+1) )\n",
    "sps=dataframe_doubling(x,y,start_date=start_day,final_date=dmax)\n",
    "c='Colombia'\n",
    "start_day='3/11/20'\n",
    "y=get_infected(c,date_start=start_day,date_end=dmax,DataFrame=cv)\n",
    "x=list( range(1,len(y)+1) )\n",
    "sp=dataframe_doubling(x,y,start_date=start_day,final_date=dmax)\n",
    "c='Korea, South'\n",
    "start_day='2/18/20'\n",
    "y=get_infected(c,date_start=start_day,date_end='3/15/20',DataFrame=cv)\n",
    "x=list( range(1,len(y)+1) )\n",
    "spk=dataframe_doubling(x,y,start_date=start_day,final_date=dmax)"
   ]
  },
  {
   "cell_type": "code",
   "execution_count": 30,
   "metadata": {
    "colab": {
     "base_uri": "https://localhost:8080/",
     "height": 34
    },
    "colab_type": "code",
    "id": "Z1JLX-PUiQYB",
    "outputId": "a59a7dbd-a8ac-4865-aef3-13f5ae6f35dc"
   },
   "outputs": [
    {
     "data": {
      "text/plain": [
       "23"
      ]
     },
     "execution_count": 30,
     "metadata": {},
     "output_type": "execute_result"
    }
   ],
   "source": [
    "xstart=3\n",
    "fd=sp['day'].max()-xstart\n",
    "fd"
   ]
  },
  {
   "cell_type": "code",
   "execution_count": 31,
   "metadata": {
    "colab": {
     "base_uri": "https://localhost:8080/",
     "height": 295
    },
    "colab_type": "code",
    "id": "NUqy2YTj8z8G",
    "outputId": "4cc654c6-8822-4021-adbe-0a025d86cd6b"
   },
   "outputs": [
    {
     "data": {
      "image/png": "[encoded data removed]",
      "text/plain": [
       "<Figure size 432x288 with 1 Axes>"
      ]
     },
     "metadata": {
      "needs_background": "light"
     },
     "output_type": "display_data"
    }
   ],
   "source": [
    "xshift=0\n",
    "ms=10\n",
    "plt.close()\n",
    "plt.plot(sp['day']-xshift,sp['Td'],'r--',label='_nolegend_')\n",
    "plt.plot(sp['day']-xshift,sp['Td'],'r.',markersize=ms,\n",
    "         label='Colombia → infected day {}: {}'.format(\n",
    "                 fd+xstart,sp.loc[fd,'infected']))\n",
    "plt.plot(sps['day']-xshift,sps['Td'],'y--',label='_nolegend_')\n",
    "plt.plot(sps['day']-xshift,sps['Td'],'y.',markersize=ms,\n",
    "         label='Spain → infected day {}: {}'.format(\n",
    "                 fd+xstart,sps.loc[fd,'infected']))\n",
    "plt.plot(spi['day']-xshift,spi['Td'],'b--',label='_nolegend_')\n",
    "plt.plot(spi['day']-xshift,spi['Td'],'b.',markersize=ms,\n",
    "         label='Italy → infected day {}: {}'.format(\n",
    "                 fd+xstart,spi.loc[fd,'infected']))\n",
    "plt.plot(spk['day']-xshift,spk['Td'],'g--',label='_nolegend_')\n",
    "plt.plot(spk['day']-xshift,spk['Td'],'g.',markersize=ms,\n",
    "         label='Korea → infected day {}: {}'.format(\n",
    "                 fd+xstart,spk.loc[fd,'infected']))\n",
    "\n",
    "plt.text(sp['day'].values[-1]-xshift-1,6,'day {}'.format(fd+xstart),rotation=90)\n",
    "plt.vlines(sp['day'].values[-1]-xshift,0,10,linestyles=':',colors='c')\n",
    "plt.title('Day 1: infected > 10')\n",
    "plt.xlabel('days')\n",
    "plt.ylabel('Doubling time (DT) in units of days')\n",
    "plt.legend(loc=(0.5,0.02))\n",
    "plt.grid()\n",
    "plt.xlim(xstart,spi['day'].max())\n",
    "plt.ylim(0,int(spk['Td'].max())-1)\n",
    "plt.savefig('img/contention.png')"
   ]
  },
  {
   "cell_type": "markdown",
   "metadata": {
    "colab_type": "text",
    "id": "VBUfaYgEjfo4"
   },
   "source": [
    "### Last update"
   ]
  },
  {
   "cell_type": "code",
   "execution_count": 32,
   "metadata": {
    "colab": {
     "base_uri": "https://localhost:8080/",
     "height": 51
    },
    "colab_type": "code",
    "id": "r3SZix2TbpbJ",
    "outputId": "e2dbce39-b5b6-46c2-b6c7-2f31140c1a8e"
   },
   "outputs": [
    {
     "data": {
      "text/plain": [
       "4/5/20    1485\n",
       "Name: Colombia, dtype: int64"
      ]
     },
     "execution_count": 32,
     "metadata": {},
     "output_type": "execute_result"
    }
   ],
   "source": [
    "cv.loc['Colombia'][-1:]"
   ]
  },
  {
   "cell_type": "markdown",
   "metadata": {
    "colab_type": "text",
    "id": "L9T51Hfdl6fv"
   },
   "source": [
    "## Last official data from Colombia"
   ]
  },
  {
   "cell_type": "code",
   "execution_count": 33,
   "metadata": {
    "colab": {},
    "colab_type": "code",
    "id": "0v39TKzxW2Rp"
   },
   "outputs": [],
   "source": [
    "import requests\n",
    "import pandas as pd\n",
    "\n",
    "r=requests.get('https://infogram.com/covid-2019-ins-colombia-1hnq41zg9ord63z')\n",
    "#https://infogram.com/detallecasos-1h7z2l9yqgdy2ow\n",
    "\n",
    "head='\"data\":[[[\"ID de caso\",'\n",
    "tail=']]]'\n",
    "js='{}{}{}'.format( head.split(':')[-1],\n",
    "                 r.text.split(head)[-1].split(tail)[0],\n",
    "                 tail\n",
    "             )\n",
    "\n",
    "df=pd.read_json(js)\n",
    "\n",
    "for imax in df.columns:\n",
    "    if len([ l for l in df[imax][0] if l and l!='0' ])==0:\n",
    "        break\n",
    "\n",
    "coco=pd.DataFrame([l for l in df[range(1,imax)].values[0]],columns=df[0][0] )\n",
    "#coco['Fecha']=pd.to_datetime(coco['Fecha de diagnóstico'],format=\"%d/%m/%Y\")"
   ]
  },
  {
   "cell_type": "code",
   "execution_count": 34,
   "metadata": {},
   "outputs": [
    {
     "data": {
      "text/plain": [
       "0.0001"
      ]
     },
     "execution_count": 34,
     "metadata": {},
     "output_type": "execute_result"
    }
   ],
   "source": [
    "round(np.sin(0.0001),4)"
   ]
  },
  {
   "cell_type": "code",
   "execution_count": 35,
   "metadata": {
    "colab": {
     "base_uri": "https://localhost:8080/",
     "height": 416
    },
    "colab_type": "code",
    "id": "Sx92-ZQVYVew",
    "outputId": "a14d3254-b747-4bc1-ba09-7290f42c51a0"
   },
   "outputs": [
    {
     "data": {
      "text/html": [
       "<div>\n",
       "<style scoped>\n",
       "    .dataframe tbody tr th:only-of-type {\n",
       "        vertical-align: middle;\n",
       "    }\n",
       "\n",
       "    .dataframe tbody tr th {\n",
       "        vertical-align: top;\n",
       "    }\n",
       "\n",
       "    .dataframe thead th {\n",
       "        text-align: right;\n",
       "    }\n",
       "</style>\n",
       "<table border=\"1\" class=\"dataframe\">\n",
       "  <thead>\n",
       "    <tr style=\"text-align: right;\">\n",
       "      <th></th>\n",
       "      <th>ID de caso</th>\n",
       "      <th>Fecha de diagnóstico</th>\n",
       "      <th>Ciudad de ubicación</th>\n",
       "      <th>Departamento o Distrito</th>\n",
       "      <th>Atención**</th>\n",
       "      <th>Edad</th>\n",
       "      <th>Sexo</th>\n",
       "      <th>Tipo*</th>\n",
       "      <th>País de procedencia</th>\n",
       "    </tr>\n",
       "  </thead>\n",
       "  <tbody>\n",
       "    <tr>\n",
       "      <th>906</th>\n",
       "      <td>907</td>\n",
       "      <td>01/04/2020</td>\n",
       "      <td>Montenegro</td>\n",
       "      <td>Quindío</td>\n",
       "      <td>Casa</td>\n",
       "      <td>9</td>\n",
       "      <td>F</td>\n",
       "      <td>Relacionado</td>\n",
       "      <td>Colombia</td>\n",
       "    </tr>\n",
       "    <tr>\n",
       "      <th>907</th>\n",
       "      <td>908</td>\n",
       "      <td>01/04/2020</td>\n",
       "      <td>Montenegro</td>\n",
       "      <td>Quindío</td>\n",
       "      <td>Casa</td>\n",
       "      <td>35</td>\n",
       "      <td>F</td>\n",
       "      <td>Relacionado</td>\n",
       "      <td>Colombia</td>\n",
       "    </tr>\n",
       "    <tr>\n",
       "      <th>908</th>\n",
       "      <td>909</td>\n",
       "      <td>01/04/2020</td>\n",
       "      <td>Medellín</td>\n",
       "      <td>Antioquia</td>\n",
       "      <td>Casa</td>\n",
       "      <td>51</td>\n",
       "      <td>F</td>\n",
       "      <td>Relacionado</td>\n",
       "      <td>Colombia</td>\n",
       "    </tr>\n",
       "    <tr>\n",
       "      <th>909</th>\n",
       "      <td>910</td>\n",
       "      <td>01/04/2020</td>\n",
       "      <td>Medellín</td>\n",
       "      <td>Antioquia</td>\n",
       "      <td>Casa</td>\n",
       "      <td>21</td>\n",
       "      <td>F</td>\n",
       "      <td>Importado</td>\n",
       "      <td>España</td>\n",
       "    </tr>\n",
       "    <tr>\n",
       "      <th>910</th>\n",
       "      <td>911</td>\n",
       "      <td>01/04/2020</td>\n",
       "      <td>Medellín</td>\n",
       "      <td>Antioquia</td>\n",
       "      <td>Hospital</td>\n",
       "      <td>29</td>\n",
       "      <td>M</td>\n",
       "      <td>Relacionado</td>\n",
       "      <td>Colombia</td>\n",
       "    </tr>\n",
       "    <tr>\n",
       "      <th>911</th>\n",
       "      <td>912</td>\n",
       "      <td>01/04/2020</td>\n",
       "      <td>Medellín</td>\n",
       "      <td>Antioquia</td>\n",
       "      <td>Casa</td>\n",
       "      <td>45</td>\n",
       "      <td>F</td>\n",
       "      <td>Relacionado</td>\n",
       "      <td>Colombia</td>\n",
       "    </tr>\n",
       "    <tr>\n",
       "      <th>912</th>\n",
       "      <td>913</td>\n",
       "      <td>01/04/2020</td>\n",
       "      <td>Envigado</td>\n",
       "      <td>Antioquia</td>\n",
       "      <td>Hospital</td>\n",
       "      <td>82</td>\n",
       "      <td>M</td>\n",
       "      <td>En estudio</td>\n",
       "      <td>Colombia</td>\n",
       "    </tr>\n",
       "    <tr>\n",
       "      <th>913</th>\n",
       "      <td>914</td>\n",
       "      <td>01/04/2020</td>\n",
       "      <td>Ibagué</td>\n",
       "      <td>Tolima</td>\n",
       "      <td>Casa</td>\n",
       "      <td>48</td>\n",
       "      <td>F</td>\n",
       "      <td>Importado</td>\n",
       "      <td>Estados Unidos</td>\n",
       "    </tr>\n",
       "    <tr>\n",
       "      <th>914</th>\n",
       "      <td>915</td>\n",
       "      <td>01/04/2020</td>\n",
       "      <td>Floridablanca</td>\n",
       "      <td>Santander</td>\n",
       "      <td>Casa</td>\n",
       "      <td>25</td>\n",
       "      <td>M</td>\n",
       "      <td>Relacionado</td>\n",
       "      <td>Colombia</td>\n",
       "    </tr>\n",
       "    <tr>\n",
       "      <th>915</th>\n",
       "      <td>916</td>\n",
       "      <td>01/04/2020</td>\n",
       "      <td>Barranquilla</td>\n",
       "      <td>Barranquilla D.E.</td>\n",
       "      <td>Casa</td>\n",
       "      <td>61</td>\n",
       "      <td>M</td>\n",
       "      <td>En estudio</td>\n",
       "      <td>Colombia</td>\n",
       "    </tr>\n",
       "    <tr>\n",
       "      <th>916</th>\n",
       "      <td>917</td>\n",
       "      <td>01/04/2020</td>\n",
       "      <td>Cumbal</td>\n",
       "      <td>Nariño</td>\n",
       "      <td>Casa</td>\n",
       "      <td>57</td>\n",
       "      <td>F</td>\n",
       "      <td>Importado</td>\n",
       "      <td>Ecuador</td>\n",
       "    </tr>\n",
       "    <tr>\n",
       "      <th>917</th>\n",
       "      <td>918</td>\n",
       "      <td>01/04/2020</td>\n",
       "      <td>Cumbal</td>\n",
       "      <td>Nariño</td>\n",
       "      <td>Casa</td>\n",
       "      <td>58</td>\n",
       "      <td>M</td>\n",
       "      <td>Importado</td>\n",
       "      <td>Ecuador</td>\n",
       "    </tr>\n",
       "    <tr>\n",
       "      <th>918</th>\n",
       "      <td>919</td>\n",
       "      <td>01/04/2020</td>\n",
       "      <td>Cartago</td>\n",
       "      <td>Valle del Cauca</td>\n",
       "      <td>Casa</td>\n",
       "      <td>16</td>\n",
       "      <td>F</td>\n",
       "      <td>Importado</td>\n",
       "      <td>Francia</td>\n",
       "    </tr>\n",
       "    <tr>\n",
       "      <th>919</th>\n",
       "      <td>920</td>\n",
       "      <td>01/04/2020</td>\n",
       "      <td>Cali</td>\n",
       "      <td>Valle del Cauca</td>\n",
       "      <td>Casa</td>\n",
       "      <td>41</td>\n",
       "      <td>M</td>\n",
       "      <td>En estudio</td>\n",
       "      <td>Colombia</td>\n",
       "    </tr>\n",
       "    <tr>\n",
       "      <th>920</th>\n",
       "      <td>921</td>\n",
       "      <td>01/04/2020</td>\n",
       "      <td>Ulloa</td>\n",
       "      <td>Valle del Cauca</td>\n",
       "      <td>Casa</td>\n",
       "      <td>58</td>\n",
       "      <td>M</td>\n",
       "      <td>Importado</td>\n",
       "      <td>Estados Unidos</td>\n",
       "    </tr>\n",
       "    <tr>\n",
       "      <th>921</th>\n",
       "      <td>922</td>\n",
       "      <td>01/04/2020</td>\n",
       "      <td>Yumbo</td>\n",
       "      <td>Valle del Cauca</td>\n",
       "      <td>Casa</td>\n",
       "      <td>68</td>\n",
       "      <td>F</td>\n",
       "      <td>Importado</td>\n",
       "      <td>España</td>\n",
       "    </tr>\n",
       "    <tr>\n",
       "      <th>922</th>\n",
       "      <td>923</td>\n",
       "      <td>01/04/2020</td>\n",
       "      <td>Cali</td>\n",
       "      <td>Valle del Cauca</td>\n",
       "      <td>Fallecido</td>\n",
       "      <td>19</td>\n",
       "      <td>F</td>\n",
       "      <td>En estudio</td>\n",
       "      <td>Colombia</td>\n",
       "    </tr>\n",
       "    <tr>\n",
       "      <th>923</th>\n",
       "      <td>924</td>\n",
       "      <td>01/04/2020</td>\n",
       "      <td>Cali</td>\n",
       "      <td>Valle del Cauca</td>\n",
       "      <td>Casa</td>\n",
       "      <td>16</td>\n",
       "      <td>F</td>\n",
       "      <td>En estudio</td>\n",
       "      <td>Colombia</td>\n",
       "    </tr>\n",
       "    <tr>\n",
       "      <th>924</th>\n",
       "      <td>925</td>\n",
       "      <td>01/04/2020</td>\n",
       "      <td>San Andrés</td>\n",
       "      <td>San Andrés</td>\n",
       "      <td>Casa</td>\n",
       "      <td>31</td>\n",
       "      <td>M</td>\n",
       "      <td>En estudio</td>\n",
       "      <td>Colombia</td>\n",
       "    </tr>\n",
       "    <tr>\n",
       "      <th>925</th>\n",
       "      <td>926</td>\n",
       "      <td>01/04/2020</td>\n",
       "      <td>Cota</td>\n",
       "      <td>Cundinamarca</td>\n",
       "      <td>Casa</td>\n",
       "      <td>26</td>\n",
       "      <td>F</td>\n",
       "      <td>Relacionado</td>\n",
       "      <td>Colombia</td>\n",
       "    </tr>\n",
       "    <tr>\n",
       "      <th>926</th>\n",
       "      <td>927</td>\n",
       "      <td>01/04/2020</td>\n",
       "      <td>Soacha</td>\n",
       "      <td>Cundinamarca</td>\n",
       "      <td>Casa</td>\n",
       "      <td>15</td>\n",
       "      <td>M</td>\n",
       "      <td>Relacionado</td>\n",
       "      <td>Colombia</td>\n",
       "    </tr>\n",
       "    <tr>\n",
       "      <th>927</th>\n",
       "      <td>928</td>\n",
       "      <td>01/04/2020</td>\n",
       "      <td>Funza</td>\n",
       "      <td>Cundinamarca</td>\n",
       "      <td>Casa</td>\n",
       "      <td>43</td>\n",
       "      <td>F</td>\n",
       "      <td>Relacionado</td>\n",
       "      <td>Colombia</td>\n",
       "    </tr>\n",
       "    <tr>\n",
       "      <th>928</th>\n",
       "      <td>929</td>\n",
       "      <td>01/04/2020</td>\n",
       "      <td>Zipaquirá</td>\n",
       "      <td>Cundinamarca</td>\n",
       "      <td>Hospital</td>\n",
       "      <td>39</td>\n",
       "      <td>M</td>\n",
       "      <td>En estudio</td>\n",
       "      <td>Colombia</td>\n",
       "    </tr>\n",
       "    <tr>\n",
       "      <th>929</th>\n",
       "      <td>930</td>\n",
       "      <td>01/04/2020</td>\n",
       "      <td>Cali</td>\n",
       "      <td>Valle del Cauca</td>\n",
       "      <td>Casa</td>\n",
       "      <td>35</td>\n",
       "      <td>M</td>\n",
       "      <td>Importado</td>\n",
       "      <td>México</td>\n",
       "    </tr>\n",
       "    <tr>\n",
       "      <th>930</th>\n",
       "      <td>931</td>\n",
       "      <td>01/04/2020</td>\n",
       "      <td>Cali</td>\n",
       "      <td>Valle del Cauca</td>\n",
       "      <td>Hospital</td>\n",
       "      <td>57</td>\n",
       "      <td>M</td>\n",
       "      <td>En estudio</td>\n",
       "      <td>Colombia</td>\n",
       "    </tr>\n",
       "    <tr>\n",
       "      <th>931</th>\n",
       "      <td>932</td>\n",
       "      <td>01/04/2020</td>\n",
       "      <td>Cali</td>\n",
       "      <td>Valle del Cauca</td>\n",
       "      <td>Casa</td>\n",
       "      <td>47</td>\n",
       "      <td>F</td>\n",
       "      <td>En estudio</td>\n",
       "      <td>Colombia</td>\n",
       "    </tr>\n",
       "    <tr>\n",
       "      <th>932</th>\n",
       "      <td>933</td>\n",
       "      <td>01/04/2020</td>\n",
       "      <td>Cali</td>\n",
       "      <td>Valle del Cauca</td>\n",
       "      <td>Casa</td>\n",
       "      <td>23</td>\n",
       "      <td>F</td>\n",
       "      <td>En estudio</td>\n",
       "      <td>Colombia</td>\n",
       "    </tr>\n",
       "    <tr>\n",
       "      <th>933</th>\n",
       "      <td>934</td>\n",
       "      <td>01/04/2020</td>\n",
       "      <td>Tuluá</td>\n",
       "      <td>Valle del Cauca</td>\n",
       "      <td>Casa</td>\n",
       "      <td>47</td>\n",
       "      <td>F</td>\n",
       "      <td>En estudio</td>\n",
       "      <td>Colombia</td>\n",
       "    </tr>\n",
       "    <tr>\n",
       "      <th>934</th>\n",
       "      <td>935</td>\n",
       "      <td>01/04/2020</td>\n",
       "      <td>Yumbo</td>\n",
       "      <td>Valle del Cauca</td>\n",
       "      <td>Casa</td>\n",
       "      <td>31</td>\n",
       "      <td>F</td>\n",
       "      <td>Relacionado</td>\n",
       "      <td>Colombia</td>\n",
       "    </tr>\n",
       "    <tr>\n",
       "      <th>935</th>\n",
       "      <td>936</td>\n",
       "      <td>01/04/2020</td>\n",
       "      <td>Yumbo</td>\n",
       "      <td>Valle del Cauca</td>\n",
       "      <td>Casa</td>\n",
       "      <td>4</td>\n",
       "      <td>M</td>\n",
       "      <td>Relacionado</td>\n",
       "      <td>Colombia</td>\n",
       "    </tr>\n",
       "    <tr>\n",
       "      <th>...</th>\n",
       "      <td>...</td>\n",
       "      <td>...</td>\n",
       "      <td>...</td>\n",
       "      <td>...</td>\n",
       "      <td>...</td>\n",
       "      <td>...</td>\n",
       "      <td>...</td>\n",
       "      <td>...</td>\n",
       "      <td>...</td>\n",
       "    </tr>\n",
       "    <tr>\n",
       "      <th>1034</th>\n",
       "      <td>1035</td>\n",
       "      <td>01/04/2020</td>\n",
       "      <td>Bogotá</td>\n",
       "      <td>Bogotá D.C.</td>\n",
       "      <td>Casa</td>\n",
       "      <td>2</td>\n",
       "      <td>F</td>\n",
       "      <td>En estudio</td>\n",
       "      <td>Colombia</td>\n",
       "    </tr>\n",
       "    <tr>\n",
       "      <th>1035</th>\n",
       "      <td>1036</td>\n",
       "      <td>01/04/2020</td>\n",
       "      <td>Bogotá</td>\n",
       "      <td>Bogotá D.C.</td>\n",
       "      <td>Casa</td>\n",
       "      <td>20</td>\n",
       "      <td>M</td>\n",
       "      <td>En estudio</td>\n",
       "      <td>Colombia</td>\n",
       "    </tr>\n",
       "    <tr>\n",
       "      <th>1036</th>\n",
       "      <td>1037</td>\n",
       "      <td>01/04/2020</td>\n",
       "      <td>Bogotá</td>\n",
       "      <td>Bogotá D.C.</td>\n",
       "      <td>Casa</td>\n",
       "      <td>31</td>\n",
       "      <td>M</td>\n",
       "      <td>Importado</td>\n",
       "      <td>Francia</td>\n",
       "    </tr>\n",
       "    <tr>\n",
       "      <th>1037</th>\n",
       "      <td>1038</td>\n",
       "      <td>01/04/2020</td>\n",
       "      <td>Bogotá</td>\n",
       "      <td>Bogotá D.C.</td>\n",
       "      <td>Casa</td>\n",
       "      <td>40</td>\n",
       "      <td>M</td>\n",
       "      <td>Importado</td>\n",
       "      <td>México</td>\n",
       "    </tr>\n",
       "    <tr>\n",
       "      <th>1038</th>\n",
       "      <td>1039</td>\n",
       "      <td>01/04/2020</td>\n",
       "      <td>Bogotá</td>\n",
       "      <td>Bogotá D.C.</td>\n",
       "      <td>Casa</td>\n",
       "      <td>34</td>\n",
       "      <td>F</td>\n",
       "      <td>Importado</td>\n",
       "      <td>Francia</td>\n",
       "    </tr>\n",
       "    <tr>\n",
       "      <th>1039</th>\n",
       "      <td>1040</td>\n",
       "      <td>01/04/2020</td>\n",
       "      <td>Bogotá</td>\n",
       "      <td>Bogotá D.C.</td>\n",
       "      <td>Hospital</td>\n",
       "      <td>70</td>\n",
       "      <td>M</td>\n",
       "      <td>Importado</td>\n",
       "      <td>Crucero</td>\n",
       "    </tr>\n",
       "    <tr>\n",
       "      <th>1040</th>\n",
       "      <td>1041</td>\n",
       "      <td>01/04/2020</td>\n",
       "      <td>Bogotá</td>\n",
       "      <td>Bogotá D.C.</td>\n",
       "      <td>Hospital</td>\n",
       "      <td>74</td>\n",
       "      <td>F</td>\n",
       "      <td>En estudio</td>\n",
       "      <td>Colombia</td>\n",
       "    </tr>\n",
       "    <tr>\n",
       "      <th>1041</th>\n",
       "      <td>1042</td>\n",
       "      <td>01/04/2020</td>\n",
       "      <td>Bogotá</td>\n",
       "      <td>Bogotá D.C.</td>\n",
       "      <td>Casa</td>\n",
       "      <td>30</td>\n",
       "      <td>M</td>\n",
       "      <td>Importado</td>\n",
       "      <td>Brasil</td>\n",
       "    </tr>\n",
       "    <tr>\n",
       "      <th>1042</th>\n",
       "      <td>1043</td>\n",
       "      <td>01/04/2020</td>\n",
       "      <td>Bogotá</td>\n",
       "      <td>Bogotá D.C.</td>\n",
       "      <td>Casa</td>\n",
       "      <td>23</td>\n",
       "      <td>M</td>\n",
       "      <td>En estudio</td>\n",
       "      <td>Colombia</td>\n",
       "    </tr>\n",
       "    <tr>\n",
       "      <th>1043</th>\n",
       "      <td>1044</td>\n",
       "      <td>01/04/2020</td>\n",
       "      <td>Bogotá</td>\n",
       "      <td>Bogotá D.C.</td>\n",
       "      <td>Casa</td>\n",
       "      <td>31</td>\n",
       "      <td>F</td>\n",
       "      <td>Relacionado</td>\n",
       "      <td>Colombia</td>\n",
       "    </tr>\n",
       "    <tr>\n",
       "      <th>1044</th>\n",
       "      <td>1045</td>\n",
       "      <td>01/04/2020</td>\n",
       "      <td>Bogotá</td>\n",
       "      <td>Bogotá D.C.</td>\n",
       "      <td>Casa</td>\n",
       "      <td>26</td>\n",
       "      <td>F</td>\n",
       "      <td>En estudio</td>\n",
       "      <td>Colombia</td>\n",
       "    </tr>\n",
       "    <tr>\n",
       "      <th>1045</th>\n",
       "      <td>1046</td>\n",
       "      <td>01/04/2020</td>\n",
       "      <td>Bogotá</td>\n",
       "      <td>Bogotá D.C.</td>\n",
       "      <td>Casa</td>\n",
       "      <td>38</td>\n",
       "      <td>M</td>\n",
       "      <td>Relacionado</td>\n",
       "      <td>Colombia</td>\n",
       "    </tr>\n",
       "    <tr>\n",
       "      <th>1046</th>\n",
       "      <td>1047</td>\n",
       "      <td>01/04/2020</td>\n",
       "      <td>Bogotá</td>\n",
       "      <td>Bogotá D.C.</td>\n",
       "      <td>Casa</td>\n",
       "      <td>49</td>\n",
       "      <td>M</td>\n",
       "      <td>Importado</td>\n",
       "      <td>Turquía</td>\n",
       "    </tr>\n",
       "    <tr>\n",
       "      <th>1047</th>\n",
       "      <td>1048</td>\n",
       "      <td>01/04/2020</td>\n",
       "      <td>Bogotá</td>\n",
       "      <td>Bogotá D.C.</td>\n",
       "      <td>Casa</td>\n",
       "      <td>36</td>\n",
       "      <td>F</td>\n",
       "      <td>Importado</td>\n",
       "      <td>Turquía</td>\n",
       "    </tr>\n",
       "    <tr>\n",
       "      <th>1048</th>\n",
       "      <td>1049</td>\n",
       "      <td>01/04/2020</td>\n",
       "      <td>Bogotá</td>\n",
       "      <td>Bogotá D.C.</td>\n",
       "      <td>Casa</td>\n",
       "      <td>27</td>\n",
       "      <td>F</td>\n",
       "      <td>En estudio</td>\n",
       "      <td>Colombia</td>\n",
       "    </tr>\n",
       "    <tr>\n",
       "      <th>1049</th>\n",
       "      <td>1050</td>\n",
       "      <td>01/04/2020</td>\n",
       "      <td>Bogotá</td>\n",
       "      <td>Bogotá D.C.</td>\n",
       "      <td>Casa</td>\n",
       "      <td>26</td>\n",
       "      <td>M</td>\n",
       "      <td>Importado</td>\n",
       "      <td>España - Alemania</td>\n",
       "    </tr>\n",
       "    <tr>\n",
       "      <th>1050</th>\n",
       "      <td>1051</td>\n",
       "      <td>01/04/2020</td>\n",
       "      <td>Bogotá</td>\n",
       "      <td>Bogotá D.C.</td>\n",
       "      <td>Casa</td>\n",
       "      <td>75</td>\n",
       "      <td>M</td>\n",
       "      <td>Relacionado</td>\n",
       "      <td>Colombia</td>\n",
       "    </tr>\n",
       "    <tr>\n",
       "      <th>1051</th>\n",
       "      <td>1052</td>\n",
       "      <td>01/04/2020</td>\n",
       "      <td>Bogotá</td>\n",
       "      <td>Bogotá D.C.</td>\n",
       "      <td>Hospital</td>\n",
       "      <td>79</td>\n",
       "      <td>F</td>\n",
       "      <td>Relacionado</td>\n",
       "      <td>Colombia</td>\n",
       "    </tr>\n",
       "    <tr>\n",
       "      <th>1052</th>\n",
       "      <td>1053</td>\n",
       "      <td>01/04/2020</td>\n",
       "      <td>Bogotá</td>\n",
       "      <td>Bogotá D.C.</td>\n",
       "      <td>Casa</td>\n",
       "      <td>33</td>\n",
       "      <td>F</td>\n",
       "      <td>Relacionado</td>\n",
       "      <td>Colombia</td>\n",
       "    </tr>\n",
       "    <tr>\n",
       "      <th>1053</th>\n",
       "      <td>1054</td>\n",
       "      <td>01/04/2020</td>\n",
       "      <td>Bogotá</td>\n",
       "      <td>Bogotá D.C.</td>\n",
       "      <td>Casa</td>\n",
       "      <td>38</td>\n",
       "      <td>F</td>\n",
       "      <td>Importado</td>\n",
       "      <td>España</td>\n",
       "    </tr>\n",
       "    <tr>\n",
       "      <th>1054</th>\n",
       "      <td>1055</td>\n",
       "      <td>01/04/2020</td>\n",
       "      <td>Bogotá</td>\n",
       "      <td>Bogotá D.C.</td>\n",
       "      <td>Casa</td>\n",
       "      <td>61</td>\n",
       "      <td>F</td>\n",
       "      <td>Importado</td>\n",
       "      <td>Israel - Egipto</td>\n",
       "    </tr>\n",
       "    <tr>\n",
       "      <th>1055</th>\n",
       "      <td>1056</td>\n",
       "      <td>01/04/2020</td>\n",
       "      <td>Bogotá</td>\n",
       "      <td>Bogotá D.C.</td>\n",
       "      <td>Casa</td>\n",
       "      <td>25</td>\n",
       "      <td>F</td>\n",
       "      <td>Importado</td>\n",
       "      <td>Estados Unidos</td>\n",
       "    </tr>\n",
       "    <tr>\n",
       "      <th>1056</th>\n",
       "      <td>1057</td>\n",
       "      <td>01/04/2020</td>\n",
       "      <td>Bogotá</td>\n",
       "      <td>Bogotá D.C.</td>\n",
       "      <td>Hospital</td>\n",
       "      <td>38</td>\n",
       "      <td>F</td>\n",
       "      <td>En estudio</td>\n",
       "      <td>Colombia</td>\n",
       "    </tr>\n",
       "    <tr>\n",
       "      <th>1057</th>\n",
       "      <td>1058</td>\n",
       "      <td>01/04/2020</td>\n",
       "      <td>Bogotá</td>\n",
       "      <td>Bogotá D.C.</td>\n",
       "      <td>Casa</td>\n",
       "      <td>39</td>\n",
       "      <td>F</td>\n",
       "      <td>Relacionado</td>\n",
       "      <td>Colombia</td>\n",
       "    </tr>\n",
       "    <tr>\n",
       "      <th>1058</th>\n",
       "      <td>1059</td>\n",
       "      <td>01/04/2020</td>\n",
       "      <td>Bogotá</td>\n",
       "      <td>Bogotá D.C.</td>\n",
       "      <td>Casa</td>\n",
       "      <td>45</td>\n",
       "      <td>F</td>\n",
       "      <td>Relacionado</td>\n",
       "      <td>Colombia</td>\n",
       "    </tr>\n",
       "    <tr>\n",
       "      <th>1059</th>\n",
       "      <td>1060</td>\n",
       "      <td>01/04/2020</td>\n",
       "      <td>Bogotá</td>\n",
       "      <td>Bogotá D.C.</td>\n",
       "      <td>Casa</td>\n",
       "      <td>47</td>\n",
       "      <td>M</td>\n",
       "      <td>Relacionado</td>\n",
       "      <td>Colombia</td>\n",
       "    </tr>\n",
       "    <tr>\n",
       "      <th>1060</th>\n",
       "      <td>1061</td>\n",
       "      <td>01/04/2020</td>\n",
       "      <td>Bogotá</td>\n",
       "      <td>Bogotá D.C.</td>\n",
       "      <td>Hospital</td>\n",
       "      <td>47</td>\n",
       "      <td>F</td>\n",
       "      <td>En estudio</td>\n",
       "      <td>Colombia</td>\n",
       "    </tr>\n",
       "    <tr>\n",
       "      <th>1061</th>\n",
       "      <td>1062</td>\n",
       "      <td>01/04/2020</td>\n",
       "      <td>Bogotá</td>\n",
       "      <td>Bogotá D.C.</td>\n",
       "      <td>Hospital</td>\n",
       "      <td>60</td>\n",
       "      <td>F</td>\n",
       "      <td>En estudio</td>\n",
       "      <td>Colombia</td>\n",
       "    </tr>\n",
       "    <tr>\n",
       "      <th>1062</th>\n",
       "      <td>1063</td>\n",
       "      <td>01/04/2020</td>\n",
       "      <td>Bogotá</td>\n",
       "      <td>Bogotá D.C.</td>\n",
       "      <td>Casa</td>\n",
       "      <td>33</td>\n",
       "      <td>F</td>\n",
       "      <td>Relacionado</td>\n",
       "      <td>Colombia</td>\n",
       "    </tr>\n",
       "    <tr>\n",
       "      <th>1063</th>\n",
       "      <td>1064</td>\n",
       "      <td>01/04/2020</td>\n",
       "      <td>Bogotá</td>\n",
       "      <td>Bogotá D.C.</td>\n",
       "      <td>Hospital UCI</td>\n",
       "      <td>33</td>\n",
       "      <td>M</td>\n",
       "      <td>En estudio</td>\n",
       "      <td>Colombia</td>\n",
       "    </tr>\n",
       "  </tbody>\n",
       "</table>\n",
       "<p>158 rows × 9 columns</p>\n",
       "</div>"
      ],
      "text/plain": [
       "     ID de caso Fecha de diagnóstico Ciudad de ubicación  \\\n",
       "906         907           01/04/2020          Montenegro   \n",
       "907         908           01/04/2020          Montenegro   \n",
       "908         909           01/04/2020            Medellín   \n",
       "909         910           01/04/2020            Medellín   \n",
       "910         911           01/04/2020            Medellín   \n",
       "911         912           01/04/2020            Medellín   \n",
       "912         913           01/04/2020            Envigado   \n",
       "913         914           01/04/2020              Ibagué   \n",
       "914         915           01/04/2020       Floridablanca   \n",
       "915         916           01/04/2020        Barranquilla   \n",
       "916         917           01/04/2020              Cumbal   \n",
       "917         918           01/04/2020              Cumbal   \n",
       "918         919           01/04/2020             Cartago   \n",
       "919         920           01/04/2020                Cali   \n",
       "920         921           01/04/2020               Ulloa   \n",
       "921         922           01/04/2020               Yumbo   \n",
       "922         923           01/04/2020                Cali   \n",
       "923         924           01/04/2020                Cali   \n",
       "924         925           01/04/2020          San Andrés   \n",
       "925         926           01/04/2020                Cota   \n",
       "926         927           01/04/2020              Soacha   \n",
       "927         928           01/04/2020               Funza   \n",
       "928         929           01/04/2020           Zipaquirá   \n",
       "929         930           01/04/2020                Cali   \n",
       "930         931           01/04/2020                Cali   \n",
       "931         932           01/04/2020                Cali   \n",
       "932         933           01/04/2020                Cali   \n",
       "933         934           01/04/2020               Tuluá   \n",
       "934         935           01/04/2020               Yumbo   \n",
       "935         936           01/04/2020               Yumbo   \n",
       "...         ...                  ...                 ...   \n",
       "1034       1035           01/04/2020              Bogotá   \n",
       "1035       1036           01/04/2020              Bogotá   \n",
       "1036       1037           01/04/2020              Bogotá   \n",
       "1037       1038           01/04/2020              Bogotá   \n",
       "1038       1039           01/04/2020              Bogotá   \n",
       "1039       1040           01/04/2020              Bogotá   \n",
       "1040       1041           01/04/2020              Bogotá   \n",
       "1041       1042           01/04/2020              Bogotá   \n",
       "1042       1043           01/04/2020              Bogotá   \n",
       "1043       1044           01/04/2020              Bogotá   \n",
       "1044       1045           01/04/2020              Bogotá   \n",
       "1045       1046           01/04/2020              Bogotá   \n",
       "1046       1047           01/04/2020              Bogotá   \n",
       "1047       1048           01/04/2020              Bogotá   \n",
       "1048       1049           01/04/2020              Bogotá   \n",
       "1049       1050           01/04/2020              Bogotá   \n",
       "1050       1051           01/04/2020              Bogotá   \n",
       "1051       1052           01/04/2020              Bogotá   \n",
       "1052       1053           01/04/2020              Bogotá   \n",
       "1053       1054           01/04/2020              Bogotá   \n",
       "1054       1055           01/04/2020              Bogotá   \n",
       "1055       1056           01/04/2020              Bogotá   \n",
       "1056       1057           01/04/2020              Bogotá   \n",
       "1057       1058           01/04/2020              Bogotá   \n",
       "1058       1059           01/04/2020              Bogotá   \n",
       "1059       1060           01/04/2020              Bogotá   \n",
       "1060       1061           01/04/2020              Bogotá   \n",
       "1061       1062           01/04/2020              Bogotá   \n",
       "1062       1063           01/04/2020              Bogotá   \n",
       "1063       1064           01/04/2020              Bogotá   \n",
       "\n",
       "     Departamento o Distrito    Atención** Edad Sexo        Tipo*  \\\n",
       "906                  Quindío          Casa    9    F  Relacionado   \n",
       "907                  Quindío          Casa   35    F  Relacionado   \n",
       "908                Antioquia          Casa   51    F  Relacionado   \n",
       "909                Antioquia          Casa   21    F    Importado   \n",
       "910                Antioquia      Hospital   29    M  Relacionado   \n",
       "911                Antioquia          Casa   45    F  Relacionado   \n",
       "912                Antioquia      Hospital   82    M   En estudio   \n",
       "913                   Tolima          Casa   48    F    Importado   \n",
       "914                Santander          Casa   25    M  Relacionado   \n",
       "915        Barranquilla D.E.          Casa   61    M   En estudio   \n",
       "916                   Nariño          Casa   57    F    Importado   \n",
       "917                   Nariño          Casa   58    M    Importado   \n",
       "918          Valle del Cauca          Casa   16    F    Importado   \n",
       "919          Valle del Cauca          Casa   41    M   En estudio   \n",
       "920          Valle del Cauca          Casa   58    M    Importado   \n",
       "921          Valle del Cauca          Casa   68    F    Importado   \n",
       "922          Valle del Cauca     Fallecido   19    F   En estudio   \n",
       "923          Valle del Cauca          Casa   16    F   En estudio   \n",
       "924               San Andrés          Casa   31    M   En estudio   \n",
       "925             Cundinamarca          Casa   26    F  Relacionado   \n",
       "926             Cundinamarca          Casa   15    M  Relacionado   \n",
       "927             Cundinamarca          Casa   43    F  Relacionado   \n",
       "928             Cundinamarca      Hospital   39    M   En estudio   \n",
       "929          Valle del Cauca          Casa   35    M    Importado   \n",
       "930          Valle del Cauca      Hospital   57    M   En estudio   \n",
       "931          Valle del Cauca          Casa   47    F   En estudio   \n",
       "932          Valle del Cauca          Casa   23    F   En estudio   \n",
       "933          Valle del Cauca          Casa   47    F   En estudio   \n",
       "934          Valle del Cauca          Casa   31    F  Relacionado   \n",
       "935          Valle del Cauca          Casa    4    M  Relacionado   \n",
       "...                      ...           ...  ...  ...          ...   \n",
       "1034             Bogotá D.C.          Casa    2    F   En estudio   \n",
       "1035             Bogotá D.C.          Casa   20    M   En estudio   \n",
       "1036             Bogotá D.C.          Casa   31    M    Importado   \n",
       "1037             Bogotá D.C.          Casa   40    M    Importado   \n",
       "1038             Bogotá D.C.          Casa   34    F    Importado   \n",
       "1039             Bogotá D.C.      Hospital   70    M    Importado   \n",
       "1040             Bogotá D.C.      Hospital   74    F   En estudio   \n",
       "1041             Bogotá D.C.          Casa   30    M    Importado   \n",
       "1042             Bogotá D.C.          Casa   23    M   En estudio   \n",
       "1043             Bogotá D.C.          Casa   31    F  Relacionado   \n",
       "1044             Bogotá D.C.          Casa   26    F   En estudio   \n",
       "1045             Bogotá D.C.          Casa   38    M  Relacionado   \n",
       "1046             Bogotá D.C.          Casa   49    M    Importado   \n",
       "1047             Bogotá D.C.          Casa   36    F    Importado   \n",
       "1048             Bogotá D.C.          Casa   27    F   En estudio   \n",
       "1049             Bogotá D.C.          Casa   26    M    Importado   \n",
       "1050             Bogotá D.C.          Casa   75    M  Relacionado   \n",
       "1051             Bogotá D.C.      Hospital   79    F  Relacionado   \n",
       "1052             Bogotá D.C.          Casa   33    F  Relacionado   \n",
       "1053             Bogotá D.C.          Casa   38    F    Importado   \n",
       "1054             Bogotá D.C.          Casa   61    F    Importado   \n",
       "1055             Bogotá D.C.          Casa   25    F    Importado   \n",
       "1056             Bogotá D.C.      Hospital   38    F   En estudio   \n",
       "1057             Bogotá D.C.          Casa   39    F  Relacionado   \n",
       "1058             Bogotá D.C.          Casa   45    F  Relacionado   \n",
       "1059             Bogotá D.C.          Casa   47    M  Relacionado   \n",
       "1060             Bogotá D.C.      Hospital   47    F   En estudio   \n",
       "1061             Bogotá D.C.      Hospital   60    F   En estudio   \n",
       "1062             Bogotá D.C.          Casa   33    F  Relacionado   \n",
       "1063             Bogotá D.C.  Hospital UCI   33    M   En estudio   \n",
       "\n",
       "     País de procedencia  \n",
       "906             Colombia  \n",
       "907             Colombia  \n",
       "908             Colombia  \n",
       "909               España  \n",
       "910             Colombia  \n",
       "911             Colombia  \n",
       "912             Colombia  \n",
       "913       Estados Unidos  \n",
       "914             Colombia  \n",
       "915             Colombia  \n",
       "916              Ecuador  \n",
       "917              Ecuador  \n",
       "918              Francia  \n",
       "919             Colombia  \n",
       "920       Estados Unidos  \n",
       "921               España  \n",
       "922             Colombia  \n",
       "923             Colombia  \n",
       "924             Colombia  \n",
       "925             Colombia  \n",
       "926             Colombia  \n",
       "927             Colombia  \n",
       "928             Colombia  \n",
       "929               México  \n",
       "930             Colombia  \n",
       "931             Colombia  \n",
       "932             Colombia  \n",
       "933             Colombia  \n",
       "934             Colombia  \n",
       "935             Colombia  \n",
       "...                  ...  \n",
       "1034            Colombia  \n",
       "1035            Colombia  \n",
       "1036             Francia  \n",
       "1037              México  \n",
       "1038             Francia  \n",
       "1039             Crucero  \n",
       "1040            Colombia  \n",
       "1041              Brasil  \n",
       "1042            Colombia  \n",
       "1043            Colombia  \n",
       "1044            Colombia  \n",
       "1045            Colombia  \n",
       "1046             Turquía  \n",
       "1047             Turquía  \n",
       "1048            Colombia  \n",
       "1049   España - Alemania  \n",
       "1050            Colombia  \n",
       "1051            Colombia  \n",
       "1052            Colombia  \n",
       "1053              España  \n",
       "1054     Israel - Egipto  \n",
       "1055      Estados Unidos  \n",
       "1056            Colombia  \n",
       "1057            Colombia  \n",
       "1058            Colombia  \n",
       "1059            Colombia  \n",
       "1060            Colombia  \n",
       "1061            Colombia  \n",
       "1062            Colombia  \n",
       "1063            Colombia  \n",
       "\n",
       "[158 rows x 9 columns]"
      ]
     },
     "execution_count": 35,
     "metadata": {},
     "output_type": "execute_result"
    }
   ],
   "source": [
    "try:\n",
    "    cc=coco[coco['Fecha de diagnóstico']==coco['Fecha de diagnóstico'].values[-1]]\n",
    "except:\n",
    "    cc=coco\n",
    "cc"
   ]
  },
  {
   "cell_type": "markdown",
   "metadata": {
    "colab_type": "text",
    "id": "_9YnXQtAKOdd"
   },
   "source": [
    "## Appedix\n",
    "Estimation of R0 from the initial phase of an outbreak, https://doi.org/10.1111/j.1365-3156.2009.02413.x\n",
    "* $R_{0}=1+\\dfrac{g}{(\\mu+\\gamma)}\\,,$   [Ref](https://doi.org/10.1016/0035-9203(94)90498-7), $R_{0}\\approx1+\\dfrac{g}{\\gamma}\\,,$ if $\\mu\\ll\\gamma$,\n",
    "* $R_{0}=\\left(1+\\dfrac{g}{\\mu}\\right)\\left(1+\\dfrac{g}{\\gamma}\\right)$\n",
    "* $R_{0}=\\left(1+\\dfrac{g}{\\mu}\\right)\\left(1+\\dfrac{g}{\\gamma}\\right) \\mathrm{e}^{\\Lambda\\left(\\tau_{\\mathrm{i}}+\\tau_{\\mathrm{c}}\\right)}$\n",
    "\n",
    "* where\n",
    "    * $g$ is the exponential growth rate \n",
    "    * $\\mu$ is the [natural mortality rate](https://worldpopulationreview.com/countries/death-rate-by-country/)\n",
    "    * $\\gamma$ is the inverse of  the [infectious period](https://www.worldometers.info/coronavirus/coronavirus-incubation-period/), 5.7 (95% confidence interval [CI], 4.1 to 7.0) for COVID-19 [Previous ref]\n",
    "    * $\\tau_{\\mathrm{e}}$ is extrinsic incubation period\n",
    "    * $\\tau_{\\mathrm{i}}$ is the intrinsic incubation period \n",
    "\n"
   ]
  },
  {
   "cell_type": "markdown",
   "metadata": {
    "colab_type": "text",
    "id": "Kx5alsHC92dq"
   },
   "source": [
    "Example from https://doi.org/10.1016/0035-9203(94)90498-7, \n",
    "Dengue in Sao Paulo\n",
    "* $\\dfrac{1}{\\mu}=70\\ \\text{years}$\n",
    "* $\\dfrac{1}{\\gamma}=6\\ \\text{days}$"
   ]
  },
  {
   "cell_type": "code",
   "execution_count": 36,
   "metadata": {
    "colab": {
     "base_uri": "https://localhost:8080/",
     "height": 301
    },
    "colab_type": "code",
    "id": "2iWiqg5xwRSE",
    "outputId": "5c4ccff2-b385-4241-88df-4003e891f4cd"
   },
   "outputs": [
    {
     "data": {
      "text/plain": [
       "Text(0, 0.5, 'RO')"
      ]
     },
     "execution_count": 36,
     "metadata": {},
     "output_type": "execute_result"
    },
    {
     "data": {
      "image/png": "[encoded data removed]",
      "text/plain": [
       "<Figure size 432x288 with 1 Axes>"
      ]
     },
     "metadata": {
      "needs_background": "light"
     },
     "output_type": "display_data"
    }
   ],
   "source": [
    "γ=1./4.1 # 1/days #More conservative value\n",
    "μ=1/(70*365) #1/days #Does not matter at all!\n",
    "plt.plot(sp['day'],RO(sp['Td'].values,γ=1/5.7  ),'ro' )\n",
    "plt.plot(sp['day'],RO(sp['Td'].values,γ=1/5.7  ),'k-' )\n",
    "plt.plot(sp['day'],RO(sp['Td'].values,γ=1/4.1   ),'c:' )\n",
    "plt.plot(sp['day'],RO(sp['Td'].values,γ=1/13  ),'c:' )\n",
    "plt.xlabel('days',size=15)\n",
    "plt.ylabel('RO',size=15)"
   ]
  },
  {
   "cell_type": "code",
   "execution_count": 37,
   "metadata": {
    "colab": {
     "base_uri": "https://localhost:8080/",
     "height": 695
    },
    "colab_type": "code",
    "id": "WHKmUpAMwpIb",
    "outputId": "5152b238-31f2-4f7f-96da-1db5d79ba9a1"
   },
   "outputs": [
    {
     "data": {
      "text/html": [
       "<div>\n",
       "<style scoped>\n",
       "    .dataframe tbody tr th:only-of-type {\n",
       "        vertical-align: middle;\n",
       "    }\n",
       "\n",
       "    .dataframe tbody tr th {\n",
       "        vertical-align: top;\n",
       "    }\n",
       "\n",
       "    .dataframe thead th {\n",
       "        text-align: right;\n",
       "    }\n",
       "</style>\n",
       "<table border=\"1\" class=\"dataframe\">\n",
       "  <thead>\n",
       "    <tr style=\"text-align: right;\">\n",
       "      <th></th>\n",
       "      <th>N0</th>\n",
       "      <th>Td</th>\n",
       "      <th>day</th>\n",
       "      <th>final_date</th>\n",
       "      <th>g</th>\n",
       "      <th>infected</th>\n",
       "      <th>start_date</th>\n",
       "      <th>t0</th>\n",
       "    </tr>\n",
       "  </thead>\n",
       "  <tbody>\n",
       "    <tr>\n",
       "      <th>0</th>\n",
       "      <td>2.469357</td>\n",
       "      <td>3.347247</td>\n",
       "      <td>3</td>\n",
       "      <td>4/5/20</td>\n",
       "      <td>0.207080</td>\n",
       "      <td>13</td>\n",
       "      <td>3/11/20</td>\n",
       "      <td>-4.839657</td>\n",
       "    </tr>\n",
       "    <tr>\n",
       "      <th>1</th>\n",
       "      <td>3.244955</td>\n",
       "      <td>1.861407</td>\n",
       "      <td>4</td>\n",
       "      <td>4/5/20</td>\n",
       "      <td>0.372378</td>\n",
       "      <td>22</td>\n",
       "      <td>3/11/20</td>\n",
       "      <td>-1.030463</td>\n",
       "    </tr>\n",
       "    <tr>\n",
       "      <th>2</th>\n",
       "      <td>6.430384</td>\n",
       "      <td>1.665484</td>\n",
       "      <td>5</td>\n",
       "      <td>4/5/20</td>\n",
       "      <td>0.416184</td>\n",
       "      <td>34</td>\n",
       "      <td>3/11/20</td>\n",
       "      <td>1.030856</td>\n",
       "    </tr>\n",
       "    <tr>\n",
       "      <th>3</th>\n",
       "      <td>39.744348</td>\n",
       "      <td>1.575931</td>\n",
       "      <td>6</td>\n",
       "      <td>4/5/20</td>\n",
       "      <td>0.439834</td>\n",
       "      <td>54</td>\n",
       "      <td>3/11/20</td>\n",
       "      <td>5.322333</td>\n",
       "    </tr>\n",
       "    <tr>\n",
       "      <th>4</th>\n",
       "      <td>48.814179</td>\n",
       "      <td>1.918896</td>\n",
       "      <td>7</td>\n",
       "      <td>4/5/20</td>\n",
       "      <td>0.361222</td>\n",
       "      <td>65</td>\n",
       "      <td>3/11/20</td>\n",
       "      <td>6.065236</td>\n",
       "    </tr>\n",
       "    <tr>\n",
       "      <th>5</th>\n",
       "      <td>47.439544</td>\n",
       "      <td>2.000345</td>\n",
       "      <td>8</td>\n",
       "      <td>4/5/20</td>\n",
       "      <td>0.346514</td>\n",
       "      <td>93</td>\n",
       "      <td>3/11/20</td>\n",
       "      <td>6.019982</td>\n",
       "    </tr>\n",
       "    <tr>\n",
       "      <th>6</th>\n",
       "      <td>62.381582</td>\n",
       "      <td>2.401612</td>\n",
       "      <td>9</td>\n",
       "      <td>4/5/20</td>\n",
       "      <td>0.288617</td>\n",
       "      <td>102</td>\n",
       "      <td>3/11/20</td>\n",
       "      <td>7.010325</td>\n",
       "    </tr>\n",
       "    <tr>\n",
       "      <th>7</th>\n",
       "      <td>107.582236</td>\n",
       "      <td>2.636314</td>\n",
       "      <td>10</td>\n",
       "      <td>4/5/20</td>\n",
       "      <td>0.262923</td>\n",
       "      <td>128</td>\n",
       "      <td>3/11/20</td>\n",
       "      <td>9.147384</td>\n",
       "    </tr>\n",
       "    <tr>\n",
       "      <th>8</th>\n",
       "      <td>1.912661</td>\n",
       "      <td>2.440531</td>\n",
       "      <td>11</td>\n",
       "      <td>4/5/20</td>\n",
       "      <td>0.284015</td>\n",
       "      <td>196</td>\n",
       "      <td>3/11/20</td>\n",
       "      <td>-5.174346</td>\n",
       "    </tr>\n",
       "    <tr>\n",
       "      <th>9</th>\n",
       "      <td>17.228739</td>\n",
       "      <td>2.578967</td>\n",
       "      <td>12</td>\n",
       "      <td>4/5/20</td>\n",
       "      <td>0.268769</td>\n",
       "      <td>231</td>\n",
       "      <td>3/11/20</td>\n",
       "      <td>2.236553</td>\n",
       "    </tr>\n",
       "    <tr>\n",
       "      <th>10</th>\n",
       "      <td>9.286330</td>\n",
       "      <td>2.769114</td>\n",
       "      <td>13</td>\n",
       "      <td>4/5/20</td>\n",
       "      <td>0.250314</td>\n",
       "      <td>277</td>\n",
       "      <td>3/11/20</td>\n",
       "      <td>-0.735796</td>\n",
       "    </tr>\n",
       "    <tr>\n",
       "      <th>11</th>\n",
       "      <td>14.234186</td>\n",
       "      <td>2.738672</td>\n",
       "      <td>14</td>\n",
       "      <td>4/5/20</td>\n",
       "      <td>0.253096</td>\n",
       "      <td>378</td>\n",
       "      <td>3/11/20</td>\n",
       "      <td>1.069149</td>\n",
       "    </tr>\n",
       "    <tr>\n",
       "      <th>12</th>\n",
       "      <td>14.923199</td>\n",
       "      <td>2.787628</td>\n",
       "      <td>15</td>\n",
       "      <td>4/5/20</td>\n",
       "      <td>0.248651</td>\n",
       "      <td>470</td>\n",
       "      <td>3/11/20</td>\n",
       "      <td>1.082932</td>\n",
       "    </tr>\n",
       "    <tr>\n",
       "      <th>13</th>\n",
       "      <td>13.943269</td>\n",
       "      <td>3.139234</td>\n",
       "      <td>16</td>\n",
       "      <td>4/5/20</td>\n",
       "      <td>0.220801</td>\n",
       "      <td>491</td>\n",
       "      <td>3/11/20</td>\n",
       "      <td>-0.546832</td>\n",
       "    </tr>\n",
       "    <tr>\n",
       "      <th>14</th>\n",
       "      <td>11.456214</td>\n",
       "      <td>3.499649</td>\n",
       "      <td>17</td>\n",
       "      <td>4/5/20</td>\n",
       "      <td>0.198062</td>\n",
       "      <td>539</td>\n",
       "      <td>3/11/20</td>\n",
       "      <td>-2.973356</td>\n",
       "    </tr>\n",
       "    <tr>\n",
       "      <th>15</th>\n",
       "      <td>13.221822</td>\n",
       "      <td>3.807143</td>\n",
       "      <td>18</td>\n",
       "      <td>4/5/20</td>\n",
       "      <td>0.182065</td>\n",
       "      <td>608</td>\n",
       "      <td>3/11/20</td>\n",
       "      <td>-3.537610</td>\n",
       "    </tr>\n",
       "    <tr>\n",
       "      <th>16</th>\n",
       "      <td>12.514924</td>\n",
       "      <td>4.036487</td>\n",
       "      <td>19</td>\n",
       "      <td>4/5/20</td>\n",
       "      <td>0.171720</td>\n",
       "      <td>702</td>\n",
       "      <td>3/11/20</td>\n",
       "      <td>-4.854354</td>\n",
       "    </tr>\n",
       "    <tr>\n",
       "      <th>17</th>\n",
       "      <td>6.661613</td>\n",
       "      <td>4.238923</td>\n",
       "      <td>20</td>\n",
       "      <td>4/5/20</td>\n",
       "      <td>0.163520</td>\n",
       "      <td>798</td>\n",
       "      <td>3/11/20</td>\n",
       "      <td>-9.641436</td>\n",
       "    </tr>\n",
       "    <tr>\n",
       "      <th>18</th>\n",
       "      <td>12.938421</td>\n",
       "      <td>4.418401</td>\n",
       "      <td>21</td>\n",
       "      <td>4/5/20</td>\n",
       "      <td>0.156877</td>\n",
       "      <td>906</td>\n",
       "      <td>3/11/20</td>\n",
       "      <td>-6.429602</td>\n",
       "    </tr>\n",
       "    <tr>\n",
       "      <th>19</th>\n",
       "      <td>13.870034</td>\n",
       "      <td>4.511988</td>\n",
       "      <td>22</td>\n",
       "      <td>4/5/20</td>\n",
       "      <td>0.153623</td>\n",
       "      <td>1065</td>\n",
       "      <td>3/11/20</td>\n",
       "      <td>-6.436702</td>\n",
       "    </tr>\n",
       "    <tr>\n",
       "      <th>20</th>\n",
       "      <td>13.107478</td>\n",
       "      <td>4.691534</td>\n",
       "      <td>23</td>\n",
       "      <td>4/5/20</td>\n",
       "      <td>0.147744</td>\n",
       "      <td>1161</td>\n",
       "      <td>3/11/20</td>\n",
       "      <td>-7.715785</td>\n",
       "    </tr>\n",
       "    <tr>\n",
       "      <th>21</th>\n",
       "      <td>9.051370</td>\n",
       "      <td>4.908827</td>\n",
       "      <td>24</td>\n",
       "      <td>4/5/20</td>\n",
       "      <td>0.141204</td>\n",
       "      <td>1267</td>\n",
       "      <td>3/11/20</td>\n",
       "      <td>-11.472565</td>\n",
       "    </tr>\n",
       "    <tr>\n",
       "      <th>22</th>\n",
       "      <td>13.537099</td>\n",
       "      <td>5.108948</td>\n",
       "      <td>25</td>\n",
       "      <td>4/5/20</td>\n",
       "      <td>0.135673</td>\n",
       "      <td>1406</td>\n",
       "      <td>3/11/20</td>\n",
       "      <td>-9.685113</td>\n",
       "    </tr>\n",
       "    <tr>\n",
       "      <th>23</th>\n",
       "      <td>17.931766</td>\n",
       "      <td>5.382496</td>\n",
       "      <td>26</td>\n",
       "      <td>4/5/20</td>\n",
       "      <td>0.128778</td>\n",
       "      <td>1485</td>\n",
       "      <td>3/11/20</td>\n",
       "      <td>-8.988680</td>\n",
       "    </tr>\n",
       "  </tbody>\n",
       "</table>\n",
       "</div>"
      ],
      "text/plain": [
       "            N0        Td  day final_date         g  infected start_date  \\\n",
       "0     2.469357  3.347247    3     4/5/20  0.207080        13    3/11/20   \n",
       "1     3.244955  1.861407    4     4/5/20  0.372378        22    3/11/20   \n",
       "2     6.430384  1.665484    5     4/5/20  0.416184        34    3/11/20   \n",
       "3    39.744348  1.575931    6     4/5/20  0.439834        54    3/11/20   \n",
       "4    48.814179  1.918896    7     4/5/20  0.361222        65    3/11/20   \n",
       "5    47.439544  2.000345    8     4/5/20  0.346514        93    3/11/20   \n",
       "6    62.381582  2.401612    9     4/5/20  0.288617       102    3/11/20   \n",
       "7   107.582236  2.636314   10     4/5/20  0.262923       128    3/11/20   \n",
       "8     1.912661  2.440531   11     4/5/20  0.284015       196    3/11/20   \n",
       "9    17.228739  2.578967   12     4/5/20  0.268769       231    3/11/20   \n",
       "10    9.286330  2.769114   13     4/5/20  0.250314       277    3/11/20   \n",
       "11   14.234186  2.738672   14     4/5/20  0.253096       378    3/11/20   \n",
       "12   14.923199  2.787628   15     4/5/20  0.248651       470    3/11/20   \n",
       "13   13.943269  3.139234   16     4/5/20  0.220801       491    3/11/20   \n",
       "14   11.456214  3.499649   17     4/5/20  0.198062       539    3/11/20   \n",
       "15   13.221822  3.807143   18     4/5/20  0.182065       608    3/11/20   \n",
       "16   12.514924  4.036487   19     4/5/20  0.171720       702    3/11/20   \n",
       "17    6.661613  4.238923   20     4/5/20  0.163520       798    3/11/20   \n",
       "18   12.938421  4.418401   21     4/5/20  0.156877       906    3/11/20   \n",
       "19   13.870034  4.511988   22     4/5/20  0.153623      1065    3/11/20   \n",
       "20   13.107478  4.691534   23     4/5/20  0.147744      1161    3/11/20   \n",
       "21    9.051370  4.908827   24     4/5/20  0.141204      1267    3/11/20   \n",
       "22   13.537099  5.108948   25     4/5/20  0.135673      1406    3/11/20   \n",
       "23   17.931766  5.382496   26     4/5/20  0.128778      1485    3/11/20   \n",
       "\n",
       "           t0  \n",
       "0   -4.839657  \n",
       "1   -1.030463  \n",
       "2    1.030856  \n",
       "3    5.322333  \n",
       "4    6.065236  \n",
       "5    6.019982  \n",
       "6    7.010325  \n",
       "7    9.147384  \n",
       "8   -5.174346  \n",
       "9    2.236553  \n",
       "10  -0.735796  \n",
       "11   1.069149  \n",
       "12   1.082932  \n",
       "13  -0.546832  \n",
       "14  -2.973356  \n",
       "15  -3.537610  \n",
       "16  -4.854354  \n",
       "17  -9.641436  \n",
       "18  -6.429602  \n",
       "19  -6.436702  \n",
       "20  -7.715785  \n",
       "21 -11.472565  \n",
       "22  -9.685113  \n",
       "23  -8.988680  "
      ]
     },
     "execution_count": 37,
     "metadata": {},
     "output_type": "execute_result"
    }
   ],
   "source": [
    "sp"
   ]
  },
  {
   "cell_type": "code",
   "execution_count": 38,
   "metadata": {
    "colab": {
     "base_uri": "https://localhost:8080/",
     "height": 34
    },
    "colab_type": "code",
    "id": "bkzkS5DhgrfX",
    "outputId": "9444ef3c-9f07-4b02-e29c-e91dc0868a09"
   },
   "outputs": [
    {
     "data": {
      "text/plain": [
       "1.5999865320232693"
      ]
     },
     "execution_count": 38,
     "metadata": {},
     "output_type": "execute_result"
    }
   ],
   "source": [
    "import numpy as np\n",
    "td=6.93 # days\n",
    "γ=1./6 # 1/days\n",
    "μ=1/(70*365) #1/days # Very small contribution\n",
    "1+np.log(2)/(td*(μ+γ))\n",
    "RO(td,γ,μ)"
   ]
  },
  {
   "cell_type": "markdown",
   "metadata": {
    "colab_type": "text",
    "id": "RSua_oEv61Uv"
   },
   "source": [
    "Example COVID-19"
   ]
  },
  {
   "cell_type": "code",
   "execution_count": 39,
   "metadata": {
    "colab": {
     "base_uri": "https://localhost:8080/",
     "height": 34
    },
    "colab_type": "code",
    "id": "-aWmFOofGQ9U",
    "outputId": "1d3da089-b4be-4c1c-e045-a444ba5e5114"
   },
   "outputs": [
    {
     "data": {
      "text/plain": [
       "5.157906666921256"
      ]
     },
     "execution_count": 39,
     "metadata": {},
     "output_type": "execute_result"
    }
   ],
   "source": [
    "td=1 # days\n",
    "RO(td,γ,μ)"
   ]
  },
  {
   "cell_type": "code",
   "execution_count": 40,
   "metadata": {
    "colab": {
     "base_uri": "https://localhost:8080/",
     "height": 34
    },
    "colab_type": "code",
    "id": "VCNqHTmtCjE1",
    "outputId": "5d13d2ad-08fb-4139-c104-9786e8316dcf"
   },
   "outputs": [
    {
     "data": {
      "text/plain": [
       "2.420723737082446"
      ]
     },
     "execution_count": 40,
     "metadata": {},
     "output_type": "execute_result"
    }
   ],
   "source": [
    "td=2 # days\n",
    "γ=1./4.1 # 1/days #More conservative value\n",
    "μ=1/(70*365) #1/days #Does not matter at all!\n",
    "RO(td,γ,μ)"
   ]
  },
  {
   "cell_type": "code",
   "execution_count": 41,
   "metadata": {
    "colab": {
     "base_uri": "https://localhost:8080/",
     "height": 34
    },
    "colab_type": "code",
    "id": "GhQQK0dCCsim",
    "outputId": "0be6f92b-d067-47d9-e120-bb3ac0273013"
   },
   "outputs": [
    {
     "data": {
      "text/plain": [
       "1.8118421354756835"
      ]
     },
     "execution_count": 41,
     "metadata": {},
     "output_type": "execute_result"
    }
   ],
   "source": [
    "td=3.5 # days\n",
    "RO(td,γ,μ)"
   ]
  },
  {
   "cell_type": "code",
   "execution_count": 42,
   "metadata": {
    "colab": {
     "base_uri": "https://localhost:8080/",
     "height": 34
    },
    "colab_type": "code",
    "id": "aw8MCvPHCzaR",
    "outputId": "b556d4df-c412-43b8-fa4b-a76282c84d72"
   },
   "outputs": [
    {
     "data": {
      "text/plain": [
       "1.4305223445704383"
      ]
     },
     "execution_count": 42,
     "metadata": {},
     "output_type": "execute_result"
    }
   ],
   "source": [
    "td=6.6 # days\n",
    "RO(td,γ,μ)"
   ]
  },
  {
   "cell_type": "code",
   "execution_count": 43,
   "metadata": {},
   "outputs": [],
   "source": [
    "import IPython"
   ]
  },
  {
   "cell_type": "code",
   "execution_count": 44,
   "metadata": {},
   "outputs": [
    {
     "data": {
      "application/javascript": [
       "IPython.notebook.save_notebook()    \n"
      ],
      "text/plain": [
       "<IPython.core.display.Javascript object>"
      ]
     },
     "metadata": {},
     "output_type": "display_data"
    }
   ],
   "source": [
    "%%javascript\n",
    "IPython.notebook.save_notebook()    "
   ]
  },
  {
   "cell_type": "code",
   "execution_count": 45,
   "metadata": {
    "colab": {},
    "colab_type": "code",
    "id": "0_Vv2tLgC5vS"
   },
   "outputs": [],
   "source": [
    "import os\n",
    "if os.getcwd()!='/content':    \n",
    "    !git commit -am 'automatic update' 2>/dev/null > /dev/null\n",
    "    !git push origin master 2>/dev/null > /dev/null"
   ]
  }
 ],
 "metadata": {
  "colab": {
   "include_colab_link": true,
   "name": "covid.ipynb",
   "provenance": []
  },
  "kernelspec": {
   "display_name": "Python 3",
   "language": "python",
   "name": "python3"
  },
  "language_info": {
   "codemirror_mode": {
    "name": "ipython",
    "version": 3
   },
   "file_extension": ".py",
   "mimetype": "text/x-python",
   "name": "python",
   "nbconvert_exporter": "python",
   "pygments_lexer": "ipython3",
   "version": "3.5.3"
  }
 },
 "nbformat": 4,
 "nbformat_minor": 1
}
