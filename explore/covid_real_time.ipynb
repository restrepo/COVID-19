{
  "nbformat": 4,
  "nbformat_minor": 0,
  "metadata": {
    "kernelspec": {
      "display_name": "Python 3",
      "language": "python",
      "name": "python3"
    },
    "language_info": {
      "codemirror_mode": {
        "name": "ipython",
        "version": 3
      },
      "file_extension": ".py",
      "mimetype": "text/x-python",
      "name": "python",
      "nbconvert_exporter": "python",
      "pygments_lexer": "ipython3",
      "version": "3.7.3"
    },
    "colab": {
      "name": "covid_real_time.ipynb",
      "provenance": [],
      "include_colab_link": true
    }
  },
  "cells": [
    {
      "cell_type": "markdown",
      "metadata": {
        "id": "view-in-github",
        "colab_type": "text"
      },
      "source": [
        "<a href=\"https://colab.research.google.com/github/restrepo/COVID-19/blob/master/explore/covid_real_time.ipynb\" target=\"_parent\"><img src=\"https://colab.research.google.com/assets/colab-badge.svg\" alt=\"Open In Colab\"/></a>"
      ]
    },
    {
      "cell_type": "markdown",
      "metadata": {
        "id": "AyVdvXDHSegL",
        "colab_type": "text"
      },
      "source": [
        "# Covid-19 data for Colombia: Real time, "
      ]
    },
    {
      "cell_type": "markdown",
      "metadata": {
        "id": "mgzzuuteSegO",
        "colab_type": "text"
      },
      "source": [
        "Use of [public Covid-19 in GitHub](https://github.com/CSSEGISandData/COVID-19) data from: \n",
        "[Center for Systems Science and Engineering (CSSE)](https://systems.jhu.edu/):\n",
        "\n",
        "* Hongru Du, Lauren Gardner, and Ensheng Dong, An interactive web-based dashboard to track COVID-19 in real time, http://www.thelancet.com/infection Published:February 19, 2020, DOI:https://doi.org/10.1016/S1473-3099(20)30120-1\n",
        "\n",
        "For examples of use of the data see Jupyter Notebook `covid19_analysis.ipynb`: [[local](./covid19_analysis.ipynb)] [[GitHub](https://github.com/restrepo/Covid-19/blob/master/covid_analysis.ipynb)] [[Colab](https://colab.research.google.com/github/restrepo/Covid-19/blob/master/covid_analysis.ipynb)]\n",
        "\n",
        "[Official Colombia data](https://infogram.com/covid-2019-ins-colombia-1hnq41zg9ord63z)"
      ]
    },
    {
      "cell_type": "code",
      "metadata": {
        "id": "CETEHcSKSegP",
        "colab_type": "code",
        "outputId": "fe4ff317-6358-4d60-9e5f-8079e4135ba7",
        "colab": {
          "base_uri": "https://localhost:8080/",
          "height": 34
        }
      },
      "source": [
        "%pylab inline"
      ],
      "execution_count": 1,
      "outputs": [
        {
          "output_type": "stream",
          "text": [
            "Populating the interactive namespace from numpy and matplotlib\n"
          ],
          "name": "stdout"
        }
      ]
    },
    {
      "cell_type": "code",
      "metadata": {
        "id": "ayDS570kSegT",
        "colab_type": "code",
        "colab": {}
      },
      "source": [
        "import pandas as pd\n",
        "import re\n",
        "#See https://strftime.org/\n",
        "import datetime\n",
        "import numpy as np\n",
        "from scipy import optimize as opt"
      ],
      "execution_count": 0,
      "outputs": []
    },
    {
      "cell_type": "code",
      "metadata": {
        "id": "wHmtr6kKxN8S",
        "colab_type": "code",
        "colab": {}
      },
      "source": [
        "def exponential_model(x,a,b,c):\n",
        "    return a*np.exp(b*(x-c))\n",
        "\n",
        "def logistic_model(x,a,b,c):\n",
        "    return c/(1+np.exp(-(x-b)/a))\n",
        "\n",
        "def RO(td,γ=1./5.7,μ=1/(70*365)):\n",
        "    return 1+np.log(2)/(td*(μ+γ))    \n",
        "    \n",
        "def date_range(date_start='2/23/20',date_end='3/03/20',date_step=1,\n",
        "               strptime_format=\"%m/%d/%y\",\n",
        "               strftime_format=\"%-m/%-d/%y\"):\n",
        "    dr=[]\n",
        "    start = datetime.datetime.strptime(date_start,strptime_format )\n",
        "    end = datetime.datetime.strptime(date_end,strptime_format)\n",
        "    step = datetime.timedelta(days=date_step)\n",
        "    while start <= end:\n",
        "        #avoid leading zeroes: https://stackoverflow.com/a/2073189/2268280\n",
        "        dr.append(start.strftime(strftime_format))\n",
        "        start += step\n",
        "    return dr\n",
        "\n",
        "def index_field(df,column,filter=None):\n",
        "    '''\n",
        "    WARNING: Nonumerical columns are dropped\n",
        "    \n",
        "    Parameters:\n",
        "    ----------\n",
        "    filter: list, default None\n",
        "        Select only the columns in this list\n",
        "    '''\n",
        "    dff=df.copy()\n",
        "    if filter:\n",
        "        dff=df[[column]+list(filter)]\n",
        "    return dff.groupby(column).sum()\n",
        "\n",
        "def get_infected(country,date_start=None,date_end=None,DataFrame=None,\n",
        "      DataSource='https://raw.githubusercontent.com/CSSEGISandData/COVID-19/',\n",
        "      DataFile='master/csse_covid_19_data/csse_covid_19_time_series/time_series_19-covid-Confirmed.csv'\n",
        "      ):\n",
        "    '''\n",
        "    Obtenga la lista de infectados de un país\n",
        "     country: País\n",
        "     date_start: Fecha inicial en el formato MM/DD/YY, e.g. '3/10/20' o None\n",
        "     date_end  : Fecha final en el formato MM/DD/YY, e.g. '3/10/20' o None\n",
        "     si alguna de las fechas esta en None se toma de los extremos del rango\n",
        "     de fechas disponible\n",
        "    '''\n",
        "    if DataFrame is None:\n",
        "        df=pd.read_csv('{}{}'.format(data_source,data_file))\n",
        "        df=df.reset_index(drop=True)\n",
        "    else:\n",
        "        df=DataFrame.copy()\n",
        "\n",
        "    d=[ c for c in df.columns if re.search(r'^[0-9]{1,2}\\/[0-9]{1,2}\\/[0-9]{2}',c)]\n",
        "    if not date_start:\n",
        "        date_start=d[0]\n",
        "    if not date_end:\n",
        "        date_end=d[-1]\n",
        "    dr=date_range(date_start=date_start,date_end=date_end)\n",
        "    #country in df.index\n",
        "    cvrg=df[dr]\n",
        "    y=cvrg.loc[country].tolist()              \n",
        "    return y\n",
        "\n",
        "def dataframe_doubling(x,y,start_date,final_date):\n",
        "    '''\n",
        "    x: list of days\n",
        "    y: list of infected\n",
        "    '''\n",
        "    sp=pd.DataFrame()\n",
        "    if len(x)<3:\n",
        "        print('WARNING: Not enough data: at least 3 days')\n",
        "        return sp\n",
        "    spd={'start_date':start_date,'final_date':final_date}\n",
        "    for d in x[2:]:\n",
        "        exp_fit = opt.curve_fit(exponential_model,x[:d],y[:d],p0=[1,0.4,3])\n",
        "        spd['g']=exp_fit[0][1]\n",
        "        N0=exp_fit[0][0];g=exp_fit[0][1];t0=exp_fit[0][2]\n",
        "        if exponential_model(t0,N0,g,t0)==N0:\n",
        "            Td=np.log(2)/g\n",
        "            spd['N0']=exp_fit[0][0]\n",
        "            spd['t0']=exp_fit[0][2]\n",
        "            spd['Td']=Td\n",
        "            spd['day']=d\n",
        "            spd['infected']=y[d-1]\n",
        "        sp=sp.append(spd,ignore_index=True)\n",
        "\n",
        "    sp['day']=sp['day'].astype(int)\n",
        "    sp['infected']=sp['infected'].astype(int)\n",
        "    return sp"
      ],
      "execution_count": 0,
      "outputs": []
    },
    {
      "cell_type": "markdown",
      "metadata": {
        "id": "YhCXT6zdSegW",
        "colab_type": "text"
      },
      "source": [
        "## Load data"
      ]
    },
    {
      "cell_type": "code",
      "metadata": {
        "id": "0_gnDzNISegX",
        "colab_type": "code",
        "colab": {}
      },
      "source": [
        "DataSource='https://raw.githubusercontent.com/CSSEGISandData/COVID-19/'\n",
        "DataFile='master/csse_covid_19_data/csse_covid_19_time_series/time_series_covid19_confirmed_global.csv'\n",
        "cva=pd.read_csv('{}{}'.format(DataSource,DataFile))\n",
        "cva=cva.reset_index(drop=True)\n",
        "#Special cases\n",
        "c='Hong Kong'\n",
        "try:\n",
        "    cva.loc[cva[cva['Province/State']==c].index[0],'Country/Region']=c\n",
        "except IndexError:\n",
        "    pass  "
      ],
      "execution_count": 0,
      "outputs": []
    },
    {
      "cell_type": "markdown",
      "metadata": {
        "id": "Dftq40eRna0-",
        "colab_type": "text"
      },
      "source": [
        "#Real time data\n",
        "From [[YouTube LIVE] Coronavirus Pandemic: Real Time Counter, World Map, News](https://www.youtube.com/watch?v=qgylp3Td1Bw)"
      ]
    },
    {
      "cell_type": "code",
      "metadata": {
        "id": "bom0KOr0prnV",
        "colab_type": "code",
        "colab": {}
      },
      "source": [
        "url='https://docs.google.com/spreadsheets/u/1/d/e/2PACX-1vQuDj0R6K85sdtI8I-Tc7RCx8CnIxKUQue0TCUdrFOKDw9G3JRtGhl64laDd3apApEvIJTdPFJ9fEUL/pubhtml?gid=0&single=true'\n",
        "today=pd.read_html(url,skiprows=[0])[0]"
      ],
      "execution_count": 0,
      "outputs": []
    },
    {
      "cell_type": "code",
      "metadata": {
        "id": "GiIT_GRNt_RR",
        "colab_type": "code",
        "outputId": "48c27190-fe57-4210-9026-8407f44e2771",
        "colab": {
          "base_uri": "https://localhost:8080/",
          "height": 34
        }
      },
      "source": [
        "today.columns[1]"
      ],
      "execution_count": 6,
      "outputs": [
        {
          "output_type": "execute_result",
          "data": {
            "text/plain": [
              "'UTC 2020/03/29 20:57:37'"
            ]
          },
          "metadata": {
            "tags": []
          },
          "execution_count": 6
        }
      ]
    },
    {
      "cell_type": "code",
      "metadata": {
        "id": "uSFgMamzrhjk",
        "colab_type": "code",
        "outputId": "4e78f907-d478-4f52-ae74-94e5d5988ac7",
        "colab": {
          "base_uri": "https://localhost:8080/",
          "height": 120
        }
      },
      "source": [
        "today.groupby('Nation').sum().loc['COLOMBIA']"
      ],
      "execution_count": 7,
      "outputs": [
        {
          "output_type": "execute_result",
          "data": {
            "text/plain": [
              "1                           42\n",
              "UTC 2020/03/29 20:57:37     41\n",
              "Confirmed Case             702\n",
              "Death                       10\n",
              "Recover                     10\n",
              "Name: COLOMBIA, dtype: int64"
            ]
          },
          "metadata": {
            "tags": []
          },
          "execution_count": 7
        }
      ]
    },
    {
      "cell_type": "code",
      "metadata": {
        "id": "cYj3zOZHuspO",
        "colab_type": "code",
        "outputId": "da188678-1ac1-4311-ce5c-443630f045e6",
        "colab": {
          "base_uri": "https://localhost:8080/",
          "height": 120
        }
      },
      "source": [
        "today.groupby('Nation').sum().loc['AUSTRALIA']"
      ],
      "execution_count": 8,
      "outputs": [
        {
          "output_type": "execute_result",
          "data": {
            "text/plain": [
              "1                            10\n",
              "UTC 2020/03/29 20:57:37       9\n",
              "Confirmed Case             3980\n",
              "Death                        16\n",
              "Recover                     244\n",
              "Name: AUSTRALIA, dtype: int64"
            ]
          },
          "metadata": {
            "tags": []
          },
          "execution_count": 8
        }
      ]
    },
    {
      "cell_type": "code",
      "metadata": {
        "id": "Dc4DuhIMuv1j",
        "colab_type": "code",
        "outputId": "333cc0cc-177c-41ad-d326-b1d5c998eac6",
        "colab": {
          "base_uri": "https://localhost:8080/",
          "height": 120
        }
      },
      "source": [
        "today.groupby('Nation').sum().loc['BRAZIL']"
      ],
      "execution_count": 9,
      "outputs": [
        {
          "output_type": "execute_result",
          "data": {
            "text/plain": [
              "1                            25\n",
              "UTC 2020/03/29 20:57:37      24\n",
              "Confirmed Case             4256\n",
              "Death                       136\n",
              "Recover                       6\n",
              "Name: BRAZIL, dtype: int64"
            ]
          },
          "metadata": {
            "tags": []
          },
          "execution_count": 9
        }
      ]
    },
    {
      "cell_type": "code",
      "metadata": {
        "id": "CUmqi1IYr4uA",
        "colab_type": "code",
        "outputId": "5daabf55-f921-4fba-b82d-ff3e6d435159",
        "colab": {
          "base_uri": "https://localhost:8080/",
          "height": 34
        }
      },
      "source": [
        "today['Confirmed Case'].sum()"
      ],
      "execution_count": 10,
      "outputs": [
        {
          "output_type": "execute_result",
          "data": {
            "text/plain": [
              "718824"
            ]
          },
          "metadata": {
            "tags": []
          },
          "execution_count": 10
        }
      ]
    },
    {
      "cell_type": "code",
      "metadata": {
        "id": "APvu1-Ew1HvT",
        "colab_type": "code",
        "colab": {}
      },
      "source": [
        "dc=[ c for c in cva.columns if re.search(r'^[0-9]{1,2}\\/[0-9]{1,2}\\/[1920]{2}',c)]"
      ],
      "execution_count": 0,
      "outputs": []
    },
    {
      "cell_type": "code",
      "metadata": {
        "id": "0z19M49jKJYv",
        "colab_type": "code",
        "colab": {}
      },
      "source": [
        "tdy=today.columns[1].split('/')\n",
        "rtx=None\n",
        "try:\n",
        "    dt=datetime.datetime(\n",
        "        int(tdy[0].split(' ')[-1]),\n",
        "        int(tdy[1]),\n",
        "        int(tdy[2].split(' ')[0]),\n",
        "        int(tdy[2].split(' ')[-1].split(':')[0]),\n",
        "        int(tdy[2].split(' ')[-1].split(':')[1])\n",
        "    )\n",
        "except:\n",
        "    dt=datetime.datetime.strptime(dc[-1],'%m/%d/%y')\n",
        "    \n",
        "if dt.strftime('%-m/%-d/%y')!=dc[-1]:\n",
        "    rtx=int(dt.strftime('%H'))/24\n",
        "    rty=today['Confirmed Case'].sum()"
      ],
      "execution_count": 0,
      "outputs": []
    },
    {
      "cell_type": "markdown",
      "metadata": {
        "id": "Wr_8XBT5jydT",
        "colab_type": "text"
      },
      "source": [
        "last update"
      ]
    },
    {
      "cell_type": "code",
      "metadata": {
        "id": "EIsLe1SJPssU",
        "colab_type": "code",
        "outputId": "f7e00a13-5c96-441d-87b1-f60cf650364e",
        "colab": {
          "base_uri": "https://localhost:8080/",
          "height": 34
        }
      },
      "source": [
        "dmax=dc[-1]\n",
        "dmax"
      ],
      "execution_count": 62,
      "outputs": [
        {
          "output_type": "execute_result",
          "data": {
            "text/plain": [
              "'3/28/20'"
            ]
          },
          "metadata": {
            "tags": []
          },
          "execution_count": 62
        }
      ]
    },
    {
      "cell_type": "code",
      "metadata": {
        "id": "KPjjkos_OseG",
        "colab_type": "code",
        "colab": {
          "base_uri": "https://localhost:8080/",
          "height": 34
        },
        "outputId": "8738ea64-7050-4636-b70d-7d3e7b9c8e1e"
      },
      "source": [
        "from google.colab import drive\n",
        "drive.mount('/gdrive')"
      ],
      "execution_count": 104,
      "outputs": [
        {
          "output_type": "stream",
          "text": [
            "Drive already mounted at /gdrive; to attempt to forcibly remount, call drive.mount(\"/gdrive\", force_remount=True).\n"
          ],
          "name": "stdout"
        }
      ]
    },
    {
      "cell_type": "markdown",
      "metadata": {
        "id": "B06YcwU5kRE8",
        "colab_type": "text"
      },
      "source": [
        "### Select data for World"
      ]
    },
    {
      "cell_type": "code",
      "metadata": {
        "id": "8j35be941Wam",
        "colab_type": "code",
        "colab": {}
      },
      "source": [
        "extra_days=10\n",
        "max_forecast=2000000\n",
        "tunep0_3=6\n",
        "exp_start=50\n",
        "date_start=dc[exp_start]#dc[0]\n",
        "date_end=dc[-1]\n",
        "ylinlog='log'\n",
        "y=index_field(cva,\"Country/Region\",filter=\n",
        "              date_range(date_start=date_start,date_end=date_end)\n",
        "              ).sum().to_list()"
      ],
      "execution_count": 0,
      "outputs": []
    },
    {
      "cell_type": "code",
      "metadata": {
        "id": "OKuDneoi8phN",
        "colab_type": "code",
        "outputId": "f30d34ab-f269-4c6c-b7cc-4a7319c95746",
        "colab": {
          "base_uri": "https://localhost:8080/",
          "height": 351
        }
      },
      "source": [
        "x=range(1,len(y)+1)\n",
        "\n",
        "xx=range(x[0],x[-1]+extra_days)\n",
        "exp_fit = opt.curve_fit(exponential_model,x,y,p0=[1,0.4,tunep0_3])\n",
        "try:\n",
        "    Δb=np.sqrt(exp_fit[1][1,1])\n",
        "except:\n",
        "    Δb=0\n",
        "if min(y)>0:\n",
        "    ymin=min(y)\n",
        "else:\n",
        "    ymin=1\n",
        "\n",
        "#Doubling time\n",
        "N0=exp_fit[0][0];g=exp_fit[0][1];t0=exp_fit[0][2]\n",
        "if exponential_model(t0,N0,g,t0)==N0:\n",
        "    Td=np.log(2)/g\n",
        "else:\n",
        "    Td=None\n",
        "if Td:\n",
        "    dt=re.sub('\\.0\\s',' ', '(doubling time = {} days)'.format(Td.round(1)\n",
        "        ))\n",
        "    texmodel='N(t)=N(t_0)e^{t-t_0}='\n",
        "else:\n",
        "    texmodel=''\n",
        "    dt=''\n",
        "\n",
        "#Prediction next day\n",
        "exp_fit_world=exp_fit[0].copy()\n",
        "exponential_model_world=lambda x: exponential_model(x, exp_fit_world[0],exp_fit_world[1],exp_fit_world[2]  )\n",
        "infc=exponential_model_world(x[-1]+1  )\n",
        "pinfc=exponential_model(x[-1]+1, exp_fit_world[0],exp_fit_world[1]+Δb,exp_fit_world[2]  )-infc\n",
        "minfc=infc-exponential_model(x[-1]+1, exp_fit_world[0],exp_fit_world[1]-Δb,exp_fit_world[2]  )\n",
        "next_day=r'next day:  $%g^{+%g}_{-%g}$' %(\n",
        "                        int( infc ),int( pinfc ),int( minfc )  )\n",
        "\n",
        "\n",
        "plt.plot(x,y,'r-',label='World')\n",
        "plt.plot(xx,\n",
        "         exponential_model(xx,exp_fit[0][0],exp_fit[0][1],exp_fit[0][2]),\n",
        "         'k:',\n",
        "         label=r'$%s%g\\cdot e^{%g[t-(%g)]}$' %(texmodel,\n",
        "                                             exp_fit[0][0].round(2),\n",
        "                                             exp_fit[0][1].round(3),\n",
        "                                             exp_fit[0][2].round(2)) )\n",
        "plt.plot(x[-1]+1,infc,'r*',markersize=7,\n",
        "         label=next_day\n",
        "         )\n",
        "if rtx:\n",
        "    plt.plot(x[-1]+rtx,rty,'b*',markersize=7,\n",
        "         label='real time → {}'.format(rty)\n",
        "         )\n",
        "\n",
        "plt.legend(loc='lower right')#(0.8,0.1),fontsize=15)\n",
        "plt.xscale('linear')\n",
        "plt.yscale(ylinlog)\n",
        "plt.xlabel('days',size=15)\n",
        "plt.ylabel('infected '+dt,size=13 )\n",
        "plt.title('Yesterday: {} → Today: {} infected'.format(y[-2],y[-1]))\n",
        "if ylinlog=='linear':\n",
        "    xmax=x[-1]+2\n",
        "    ymax=y[-1]+infc+Δb\n",
        "else:\n",
        "    xmax=xx[-1]\n",
        "    ymax=max_forecast+30000\n",
        "plt.xlim(xx[0],xmax)\n",
        "plt.ylim(ymin,ymax)\n",
        "plt.grid()\n",
        "plt.savefig('world.png')\n",
        "plt.savefig('world.pdf')\n",
        "print('last  update {}:'.format(today['Confirmed Case'].sum()))\n",
        "!cp world.png ../gdrive/My\\ Drive/\n",
        "!cp world.pdf ../gdrive/My\\ Drive/"
      ],
      "execution_count": 109,
      "outputs": [
        {
          "output_type": "stream",
          "text": [
            "/usr/local/lib/python3.6/dist-packages/ipykernel_launcher.py:2: RuntimeWarning: overflow encountered in exp\n",
            "  \n"
          ],
          "name": "stderr"
        },
        {
          "output_type": "stream",
          "text": [
            "last  update 718824:\n"
          ],
          "name": "stdout"
        },
        {
          "output_type": "display_data",
          "data": {
            "image/png": "[encoded data removed]",
            "text/plain": [
              "<Figure size 432x288 with 1 Axes>"
            ]
          },
          "metadata": {
            "tags": []
          }
        }
      ]
    },
    {
      "cell_type": "code",
      "metadata": {
        "id": "f0etVs6E-l0M",
        "colab_type": "code",
        "outputId": "e8ffe0bf-72fb-4e42-b32c-052743feb15d",
        "colab": {
          "base_uri": "https://localhost:8080/",
          "height": 85
        }
      },
      "source": [
        "start_day='3/12/20'\n",
        "sp=dataframe_doubling(x,y,start_date=start_day,final_date=dmax)"
      ],
      "execution_count": 101,
      "outputs": [
        {
          "output_type": "stream",
          "text": [
            "/usr/local/lib/python3.6/dist-packages/scipy/optimize/minpack.py:808: OptimizeWarning: Covariance of the parameters could not be estimated\n",
            "  category=OptimizeWarning)\n",
            "/usr/local/lib/python3.6/dist-packages/ipykernel_launcher.py:2: RuntimeWarning: overflow encountered in exp\n",
            "  \n"
          ],
          "name": "stderr"
        }
      ]
    },
    {
      "cell_type": "code",
      "metadata": {
        "id": "fr2lQ8gjWlnk",
        "colab_type": "code",
        "outputId": "11a37e51-e21c-4ca2-9683-43fee25da297",
        "colab": {
          "base_uri": "https://localhost:8080/",
          "height": 295
        }
      },
      "source": [
        "plt.plot(sp['day'],sp['Td'],'k-')\n",
        "plt.plot(sp['day'],sp['Td'],'r.')\n",
        "plt.title('Example: A DT of 2 means that infections double every 2 days')\n",
        "plt.xlabel('days from {}'.format(\n",
        "    datetime.datetime.strptime(start_day,\"%m/%d/%y\").strftime(\"%B %-d, %Y\")\n",
        "  ))\n",
        "plt.ylabel('Doubling time (DT) in units of days')\n",
        "plt.savefig('doublingtime.png')"
      ],
      "execution_count": 102,
      "outputs": [
        {
          "output_type": "display_data",
          "data": {
            "image/png": "[encoded data removed]",
            "text/plain": [
              "<Figure size 432x288 with 1 Axes>"
            ]
          },
          "metadata": {
            "tags": []
          }
        }
      ]
    },
    {
      "cell_type": "code",
      "metadata": {
        "id": "WbmFUuGC7AJh",
        "colab_type": "code",
        "outputId": "c012f7eb-d871-4a82-d9e5-04997adbda69",
        "colab": {
          "base_uri": "https://localhost:8080/",
          "height": 301
        }
      },
      "source": [
        "γ=1./4.1 # 1/days #More conservative value\n",
        "μ=1/(70*365) #1/days #Does not matter at all!\n",
        "plt.plot(sp['day'],RO(sp['Td'].values,γ,μ   ),'ro' )\n",
        "plt.plot(sp['day'],RO(sp['Td'].values,γ,μ   ) )\n",
        "plt.xlabel('days',size=15)\n",
        "plt.ylabel('RO',size=15)"
      ],
      "execution_count": 103,
      "outputs": [
        {
          "output_type": "execute_result",
          "data": {
            "text/plain": [
              "Text(0, 0.5, 'RO')"
            ]
          },
          "metadata": {
            "tags": []
          },
          "execution_count": 103
        },
        {
          "output_type": "display_data",
          "data": {
            "image/png": "[encoded data removed]",
            "text/plain": [
              "<Figure size 432x288 with 1 Axes>"
            ]
          },
          "metadata": {
            "tags": []
          }
        }
      ]
    },
    {
      "cell_type": "code",
      "metadata": {
        "id": "JcpV4dYFOsds",
        "colab_type": "code",
        "colab": {}
      },
      "source": [
        ""
      ],
      "execution_count": 0,
      "outputs": []
    },
    {
      "cell_type": "code",
      "metadata": {
        "id": "3KGq5Uh2PPHK",
        "colab_type": "code",
        "colab": {}
      },
      "source": [
        ""
      ],
      "execution_count": 0,
      "outputs": []
    }
  ]
}