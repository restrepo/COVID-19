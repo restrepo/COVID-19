{
 "cells": [
  {
   "cell_type": "markdown",
   "metadata": {
    "colab_type": "text",
    "id": "view-in-github"
   },
   "source": [
    "<a href=\"https://colab.research.google.com/github/restrepo/COVID-19/blob/master/explore/covid_real_time.ipynb\" target=\"_parent\"><img src=\"https://colab.research.google.com/assets/colab-badge.svg\" alt=\"Open In Colab\"/></a>"
   ]
  },
  {
   "cell_type": "markdown",
   "metadata": {
    "colab_type": "text",
    "id": "AyVdvXDHSegL"
   },
   "source": [
    "# Covid-19 data for Colombia: Real time, "
   ]
  },
  {
   "cell_type": "markdown",
   "metadata": {
    "colab_type": "text",
    "id": "mgzzuuteSegO"
   },
   "source": [
    "Use of [public Covid-19 in GitHub](https://github.com/CSSEGISandData/COVID-19) data from: \n",
    "[Center for Systems Science and Engineering (CSSE)](https://systems.jhu.edu/):\n",
    "\n",
    "* Hongru Du, Lauren Gardner, and Ensheng Dong, An interactive web-based dashboard to track COVID-19 in real time, http://www.thelancet.com/infection Published:February 19, 2020, DOI:https://doi.org/10.1016/S1473-3099(20)30120-1\n",
    "\n",
    "For examples of use of the data see Jupyter Notebook `covid19_analysis.ipynb`: [[local](./covid19_analysis.ipynb)] [[GitHub](https://github.com/restrepo/Covid-19/blob/master/covid_analysis.ipynb)] [[Colab](https://colab.research.google.com/github/restrepo/Covid-19/blob/master/covid_analysis.ipynb)]\n",
    "\n",
    "[Official Colombia data](https://infogram.com/covid-2019-ins-colombia-1hnq41zg9ord63z)"
   ]
  },
  {
   "cell_type": "code",
   "execution_count": 1,
   "metadata": {
    "colab": {
     "base_uri": "https://localhost:8080/",
     "height": 85
    },
    "colab_type": "code",
    "id": "CETEHcSKSegP",
    "outputId": "407cf5f6-4ee8-40b6-e73c-f0f221a51b60"
   },
   "outputs": [
    {
     "name": "stdout",
     "output_type": "stream",
     "text": [
      "Populating the interactive namespace from numpy and matplotlib\n"
     ]
    }
   ],
   "source": [
    "%pylab inline"
   ]
  },
  {
   "cell_type": "code",
   "execution_count": 2,
   "metadata": {
    "colab": {},
    "colab_type": "code",
    "id": "ayDS570kSegT"
   },
   "outputs": [],
   "source": [
    "import pandas as pd\n",
    "import re\n",
    "#See https://strftime.org/\n",
    "import datetime\n",
    "import numpy as np\n",
    "from scipy import optimize as opt\n",
    "import time\n",
    "import os"
   ]
  },
  {
   "cell_type": "code",
   "execution_count": 3,
   "metadata": {
    "colab": {},
    "colab_type": "code",
    "id": "wHmtr6kKxN8S"
   },
   "outputs": [],
   "source": [
    "def exponential_model(x,a,b,c):\n",
    "    return a*np.exp(b*(x-c))\n",
    "\n",
    "def logistic_model(x,a,b,c):\n",
    "    return c/(1+np.exp(-(x-b)/a))\n",
    "\n",
    "def RO(td,γ=1./5.7,μ=1/(70*365)):\n",
    "    return 1+np.log(2)/(td*(μ+γ))    \n",
    "    \n",
    "def date_range(date_start='2/23/20',date_end='3/03/20',date_step=1,\n",
    "               strptime_format=\"%m/%d/%y\",\n",
    "               strftime_format=\"%-m/%-d/%y\"):\n",
    "    dr=[]\n",
    "    start = datetime.datetime.strptime(date_start,strptime_format )\n",
    "    end = datetime.datetime.strptime(date_end,strptime_format)\n",
    "    step = datetime.timedelta(days=date_step)\n",
    "    while start <= end:\n",
    "        #avoid leading zeroes: https://stackoverflow.com/a/2073189/2268280\n",
    "        dr.append(start.strftime(strftime_format))\n",
    "        start += step\n",
    "    return dr\n",
    "\n",
    "def index_field(df,column,filter=None):\n",
    "    '''\n",
    "    WARNING: Nonumerical columns are dropped\n",
    "    \n",
    "    Parameters:\n",
    "    ----------\n",
    "    filter: list, default None\n",
    "        Select only the columns in this list\n",
    "    '''\n",
    "    dff=df.copy()\n",
    "    if filter:\n",
    "        dff=df[[column]+list(filter)]\n",
    "    return dff.groupby(column).sum()\n",
    "\n",
    "def get_infected(country,date_start=None,date_end=None,DataFrame=None,\n",
    "      DataSource='https://raw.githubusercontent.com/CSSEGISandData/COVID-19/',\n",
    "      DataFile='master/csse_covid_19_data/csse_covid_19_time_series/time_series_19-covid-Confirmed.csv'\n",
    "      ):\n",
    "    '''\n",
    "    Obtenga la lista de infectados de un país\n",
    "     country: País\n",
    "     date_start: Fecha inicial en el formato MM/DD/YY, e.g. '3/10/20' o None\n",
    "     date_end  : Fecha final en el formato MM/DD/YY, e.g. '3/10/20' o None\n",
    "     si alguna de las fechas esta en None se toma de los extremos del rango\n",
    "     de fechas disponible\n",
    "    '''\n",
    "    if DataFrame is None:\n",
    "        df=pd.read_csv('{}{}'.format(data_source,data_file))\n",
    "        df=df.reset_index(drop=True)\n",
    "    else:\n",
    "        df=DataFrame.copy()\n",
    "\n",
    "    d=[ c for c in df.columns if re.search(r'^[0-9]{1,2}\\/[0-9]{1,2}\\/[0-9]{2}',c)]\n",
    "    if not date_start:\n",
    "        date_start=d[0]\n",
    "    if not date_end:\n",
    "        date_end=d[-1]\n",
    "    dr=date_range(date_start=date_start,date_end=date_end)\n",
    "    #country in df.index\n",
    "    cvrg=df[dr]\n",
    "    y=cvrg.loc[country].tolist()              \n",
    "    return y\n",
    "\n",
    "def dataframe_doubling(x,y,start_date,final_date):\n",
    "    '''\n",
    "    x: list of days\n",
    "    y: list of infected\n",
    "    '''\n",
    "    sp=pd.DataFrame()\n",
    "    if len(x)<3:\n",
    "        print('WARNING: Not enough data: at least 3 days')\n",
    "        return sp\n",
    "    spd={'start_date':start_date,'final_date':final_date}\n",
    "    for d in x[2:]:\n",
    "        exp_fit = opt.curve_fit(exponential_model,x[:d],y[:d],p0=[1,0.4,3])\n",
    "        spd['g']=exp_fit[0][1]\n",
    "        N0=exp_fit[0][0];g=exp_fit[0][1];t0=exp_fit[0][2]\n",
    "        if exponential_model(t0,N0,g,t0)==N0:\n",
    "            Td=np.log(2)/g\n",
    "            spd['N0']=exp_fit[0][0]\n",
    "            spd['t0']=exp_fit[0][2]\n",
    "            spd['Td']=Td\n",
    "            spd['day']=d\n",
    "            spd['infected']=y[d-1]\n",
    "        sp=sp.append(spd,ignore_index=True)\n",
    "\n",
    "    sp['day']=sp['day'].astype(int)\n",
    "    sp['infected']=sp['infected'].astype(int)\n",
    "    return sp"
   ]
  },
  {
   "cell_type": "markdown",
   "metadata": {
    "colab_type": "text",
    "id": "YhCXT6zdSegW"
   },
   "source": [
    "## Load data"
   ]
  },
  {
   "cell_type": "code",
   "execution_count": 4,
   "metadata": {
    "colab": {},
    "colab_type": "code",
    "id": "0_gnDzNISegX"
   },
   "outputs": [],
   "source": [
    "DataSource='https://raw.githubusercontent.com/CSSEGISandData/COVID-19/'\n",
    "DataFile='master/csse_covid_19_data/csse_covid_19_time_series/time_series_covid19_confirmed_global.csv'\n",
    "cva=pd.read_csv('{}{}'.format(DataSource,DataFile))\n",
    "cva=cva.reset_index(drop=True)\n",
    "#Special cases\n",
    "c='Hong Kong'\n",
    "try:\n",
    "    cva.loc[cva[cva['Province/State']==c].index[0],'Country/Region']=c\n",
    "except IndexError:\n",
    "    pass  "
   ]
  },
  {
   "cell_type": "code",
   "execution_count": 5,
   "metadata": {
    "colab": {},
    "colab_type": "code",
    "id": "APvu1-Ew1HvT"
   },
   "outputs": [],
   "source": [
    "dc=[ c for c in cva.columns if re.search(r'^[0-9]{1,2}\\/[0-9]{1,2}\\/[1920]{2}',c)]"
   ]
  },
  {
   "cell_type": "markdown",
   "metadata": {
    "colab_type": "text",
    "id": "Wr_8XBT5jydT"
   },
   "source": [
    "last update"
   ]
  },
  {
   "cell_type": "code",
   "execution_count": 6,
   "metadata": {
    "colab": {
     "base_uri": "https://localhost:8080/",
     "height": 34
    },
    "colab_type": "code",
    "id": "EIsLe1SJPssU",
    "outputId": "5effe4a0-a595-4b9d-9fca-eb076877ef30"
   },
   "outputs": [
    {
     "data": {
      "text/plain": [
       "'4/13/20'"
      ]
     },
     "execution_count": 6,
     "metadata": {},
     "output_type": "execute_result"
    }
   ],
   "source": [
    "dmax=dc[-1]\n",
    "dmax"
   ]
  },
  {
   "cell_type": "code",
   "execution_count": 7,
   "metadata": {
    "colab": {
     "base_uri": "https://localhost:8080/",
     "height": 123
    },
    "colab_type": "code",
    "id": "KPjjkos_OseG",
    "outputId": "3714699b-45d3-41b2-a71d-bd1f4894643c"
   },
   "outputs": [],
   "source": [
    "if os.getcwd()=='/content':\n",
    "    from google.colab import drive\n",
    "    drive.mount('/gdrive')"
   ]
  },
  {
   "cell_type": "markdown",
   "metadata": {
    "colab_type": "text",
    "id": "B06YcwU5kRE8"
   },
   "source": [
    "## Select data for World"
   ]
  },
  {
   "cell_type": "markdown",
   "metadata": {
    "colab_type": "text",
    "id": "Dftq40eRna0-"
   },
   "source": [
    "###  Real time data\n",
    "From [[YouTube LIVE] Coronavirus Pandemic: Real Time Counter, World Map, News](https://www.youtube.com/watch?v=qgylp3Td1Bw)"
   ]
  },
  {
   "cell_type": "code",
   "execution_count": 8,
   "metadata": {
    "colab": {},
    "colab_type": "code",
    "id": "DFcAPQNFYv_p"
   },
   "outputs": [],
   "source": [
    "url='https://docs.google.com/spreadsheets/u/1/d/e/2PACX-1vQuDj0R6K85sdtI8I-Tc7RCx8CnIxKUQue0TCUdrFOKDw9G3JRtGhl64laDd3apApEvIJTdPFJ9fEUL/pubhtml?gid=0&single=true'\n",
    "wait_minutes=15"
   ]
  },
  {
   "cell_type": "code",
   "execution_count": 9,
   "metadata": {
    "colab": {
     "base_uri": "https://localhost:8080/",
     "height": 34
    },
    "colab_type": "code",
    "id": "bom0KOr0prnV",
    "outputId": "10e8d743-af60-4a45-88c0-d61d22ebd664"
   },
   "outputs": [
    {
     "name": "stdout",
     "output_type": "stream",
     "text": [
      "last  update: 1928195 at UTC 2020/04/14 05:00:10\n",
      "last  update: 1928299 at UTC 2020/04/14 05:14:24\n",
      "last  update: 1928511 at UTC 2020/04/14 05:31:26\n",
      "last  update: 1928511 at UTC 2020/04/14 05:45:38\n",
      "last  update: 1928634 at UTC 2020/04/14 05:57:27\n",
      "last  update: 1928681 at UTC 2020/04/14 06:10:17\n",
      "last  update: 1928994 at UTC 2020/04/14 06:31:43\n",
      "last  update: 1929343 at UTC 2020/04/14 06:46:34\n",
      "last  update: 1929429 at UTC 2020/04/14 06:56:27\n",
      "last  update: 1929470 at UTC 2020/04/14 07:16:08\n",
      "last  update: 1929614 at UTC 2020/04/14 07:25:40\n",
      "last  update: 1932433 at UTC 2020/04/14 07:42:23\n",
      "last  update: 1932747 at UTC 2020/04/14 08:02:55\n",
      "last  update: 1932879 at UTC 2020/04/14 08:12:26\n",
      "last  update: 1933252 at UTC 2020/04/14 08:27:56\n",
      "last  update: 1933463 at UTC 2020/04/14 08:47:27\n",
      "last  update: 1933682 at UTC 2020/04/14 09:04:04\n",
      "last  update: 1937106 at UTC 2020/04/14 09:17:37\n",
      "last  update: 1937224 at UTC 2020/04/14 09:34:22\n",
      "last  update: 1937495 at UTC 2020/04/14 09:49:42\n",
      "last  update: 1937544 at UTC 2020/04/14 10:04:11\n",
      "last  update: 1937944 at UTC 2020/04/14 10:11:55\n",
      "last  update: 1936078 at UTC 2020/04/14 10:33:37\n",
      "last  update: 1936373 at UTC 2020/04/14 10:48:14\n",
      "last  update: 1940252 at UTC 2020/04/14 11:03:30\n",
      "last  update: 1940380 at UTC 2020/04/14 11:20:08\n",
      "last  update: 1940772 at UTC 2020/04/14 11:36:55\n",
      "last  update: 1941451 at UTC 2020/04/14 11:52:30\n",
      "last  update: 1942895 at UTC 2020/04/14 12:08:20\n",
      "last  update: 1942970 at UTC 2020/04/14 12:22:33\n",
      "last  update: 1943141 at UTC 2020/04/14 12:38:59\n",
      "last  update: 1943805 at UTC 2020/04/14 12:52:46\n",
      "last  update: 1943952 at UTC 2020/04/14 13:09:57\n",
      "last  update: 1944551 at UTC 2020/04/14 13:24:41\n",
      "last  update: 1949986 at UTC 2020/04/14 13:40:06\n",
      "last  update: 1950191 at UTC 2020/04/14 13:55:22\n",
      "last  update: 1950203 at UTC 2020/04/14 14:06:33\n",
      "last  update: 1950516 at UTC 2020/04/14 14:26:48\n",
      "last  update: 1950643 at UTC 2020/04/14 14:38:54\n",
      "last  update: 1951597 at UTC 2020/04/14 14:57:08\n",
      "last  update: 1952119 at UTC 2020/04/14 15:10:20\n",
      "last  update: 1952224 at UTC 2020/04/14 15:26:23\n",
      "last  update: 1953324 at UTC 2020/04/14 15:43:08\n",
      "last  update: 1953403 at UTC 2020/04/14 15:58:16\n",
      "last  update: 1956564 at UTC 2020/04/14 16:14:12\n",
      "last  update: 1956609 at UTC 2020/04/14 16:27:21\n",
      "last  update: 1956719 at UTC 2020/04/14 16:44:04\n",
      "last  update: 1956997 at UTC 2020/04/14 16:57:39\n",
      "last  update: 1968748 at UTC 2020/04/14 17:14:56\n",
      "last  update: 1975403 at UTC 2020/04/14 17:28:48\n",
      "last  update: 1978120 at UTC 2020/04/14 17:43:51\n",
      "last  update: 1979224 at UTC 2020/04/14 17:59:19\n",
      "last  update: 1979756 at UTC 2020/04/14 18:16:16\n",
      "last  update: 1980119 at UTC 2020/04/14 18:31:29\n",
      "last  update: 1985808 at UTC 2020/04/14 18:46:29\n",
      "last  update: 1985812 at UTC 2020/04/14 19:01:19\n",
      "last  update: 1986184 at UTC 2020/04/14 19:16:14\n",
      "last  update: 1986184 at UTC 2020/04/14 19:32:29\n",
      "last  update: 1987056 at UTC 2020/04/14 19:41:42\n",
      "last  update: 1987259 at UTC 2020/04/14 20:02:34\n",
      "last  update: 1986841 at UTC 2020/04/14 20:16:31\n",
      "last  update: 1991685 at UTC 2020/04/14 20:32:29\n",
      "last  update: 1994051 at UTC 2020/04/14 20:48:46\n",
      "last  update: 1994144 at UTC 2020/04/14 21:03:32\n",
      "last  update: 1994172 at UTC 2020/04/14 21:18:03\n",
      "last  update: 1994795 at UTC 2020/04/14 21:31:49\n",
      "last  update: 1994982 at UTC 2020/04/14 21:48:45\n",
      "last  update: 1995113 at UTC 2020/04/14 21:58:14\n",
      "last  update: 1995599 at UTC 2020/04/14 22:12:07\n",
      "last  update: 1995692 at UTC 2020/04/14 22:37:38\n",
      "last  update: 1997849 at UTC 2020/04/14 22:52:45\n",
      "last  update: 1998565 at UTC 2020/04/14 23:05:50\n",
      "last  update: 1998766 at UTC 2020/04/14 23:18:31\n",
      "last  update: 1999482 at UTC 2020/04/14 23:40:36\n",
      "last  update: 1999576 at UTC 2020/04/14 23:52:22\n",
      "last  update: 2000258 at UTC 2020/04/15 00:11:07\n",
      "last  update: 2000258 at UTC 2020/04/15 00:20:35\n",
      "last  update: 2000924 at UTC 2020/04/15 00:34:26\n",
      "last  update: 2000971 at UTC 2020/04/15 00:52:26\n",
      "last  update: 2001025 at UTC 2020/04/15 01:08:26\n",
      "last  update: 2001060 at UTC 2020/04/15 01:26:08\n",
      "last  update: 2001126 at UTC 2020/04/15 01:33:30\n",
      "last  update: 2001320 at UTC 2020/04/15 01:56:48\n",
      "last  update: 2001386 at UTC 2020/04/15 02:03:52\n",
      "last  update: 2001398 at UTC 2020/04/15 02:23:18\n",
      "last  update: 2001726 at UTC 2020/04/15 02:33:42\n",
      "last  update: 2001726 at UTC 2020/04/15 02:33:42\n",
      "last  update: 2002388 at UTC 2020/04/15 03:13:14\n",
      "last  update: 2002388 at UTC 2020/04/15 03:15:09\n",
      "last  update: 2002574 at UTC 2020/04/15 03:40:42\n",
      "last  update: 2002574 at UTC 2020/04/15 03:40:42\n",
      "last  update: 2002580 at UTC 2020/04/15 04:12:46\n",
      "last  update: 2002649 at UTC 2020/04/15 04:28:25\n",
      "last  update: 2002685 at UTC 2020/04/15 04:42:37\n",
      "last  update: 2002801 at UTC 2020/04/15 04:59:41\n"
     ]
    },
    {
     "data": {
      "image/png": "[encoded data removed]",
      "text/plain": [
       "<Figure size 432x288 with 1 Axes>"
      ]
     },
     "metadata": {
      "needs_background": "light"
     },
     "output_type": "display_data"
    }
   ],
   "source": [
    "for i in range(95):\n",
    "#if True:\n",
    "    extra_days=5\n",
    "    max_forecast=2000000\n",
    "    tunep0_3=20\n",
    "    exp_start=73\n",
    "    ylinlog='linear'\n",
    "\n",
    "\n",
    "    plt.close()\n",
    "    #Download real time data\n",
    "    today=pd.read_html(url,skiprows=[0])[0]\n",
    "    #Save a copy\n",
    "    for c in ['Confirmed Case','Death','Recover']:\n",
    "        today[c]=today[c].fillna(0).astype(int)\n",
    "    today.to_csv('world.csv',index=False)    \n",
    "    #Sum 'Confirmed Case' and get real time point (rtx,rty)\n",
    "    tdy=today.columns[1].split('/')\n",
    "    rtx=None\n",
    "    try:\n",
    "        dt=datetime.datetime(\n",
    "            int(tdy[0].split(' ')[-1]),\n",
    "            int(tdy[1]),\n",
    "            int(tdy[2].split(' ')[0]),\n",
    "            int(tdy[2].split(' ')[-1].split(':')[0]),\n",
    "            int(tdy[2].split(' ')[-1].split(':')[1])\n",
    "        )\n",
    "    except:\n",
    "        dt=datetime.datetime.strptime(dc[-1],'%m/%d/%y')\n",
    "        \n",
    "    if dt.strftime('%-m/%-d/%y')!=dc[-1]:\n",
    "        rtx=int(dt.strftime('%H'))/24\n",
    "        rty=int(today['Confirmed Case'].sum())\n",
    "    date_start=dc[exp_start]#dc[0]\n",
    "    date_end=dc[-1]\n",
    "    y=index_field(cva,\"Country/Region\",filter=\n",
    "                date_range(date_start=date_start,date_end=date_end)\n",
    "                ).sum().to_list()\n",
    "    x=range(1,len(y)+1)\n",
    "    x=list(x)\n",
    "\n",
    "    xx=range(x[0],x[-1]+extra_days)\n",
    "    exp_fit = opt.curve_fit(exponential_model,x,y,p0=[1,0.4,tunep0_3])\n",
    "    try:\n",
    "        Δb=np.sqrt(exp_fit[1][1,1])\n",
    "    except:\n",
    "        Δb=0\n",
    "    if min(y)>0:\n",
    "        ymin=min(y)\n",
    "    else:\n",
    "        ymin=1\n",
    "\n",
    "    #Doubling time\n",
    "    N0=exp_fit[0][0];g=exp_fit[0][1];t0=exp_fit[0][2]\n",
    "    if exponential_model(t0,N0,g,t0)==N0:\n",
    "        Td=np.log(2)/g\n",
    "    else:\n",
    "        Td=None\n",
    "    if Td:\n",
    "        dt=re.sub('\\.0\\s',' ', '(doubling time = {} days)'.format(Td.round(1)\n",
    "            ))\n",
    "        texmodel='N(t)=N(t_0)e^{t-t_0}='\n",
    "    else:\n",
    "        texmodel=''\n",
    "        dt=''\n",
    "\n",
    "    #Prediction next day\n",
    "    exp_fit_world=exp_fit[0].copy()\n",
    "    exponential_model_world=lambda x: exponential_model(x, exp_fit_world[0],exp_fit_world[1],exp_fit_world[2]  )\n",
    "    infc=exponential_model_world(x[-1]+1  )\n",
    "    pinfc=exponential_model(x[-1]+1, exp_fit_world[0],exp_fit_world[1]+Δb,exp_fit_world[2]  )-infc\n",
    "    minfc=infc-exponential_model(x[-1]+1, exp_fit_world[0],exp_fit_world[1]-Δb,exp_fit_world[2]  )\n",
    "    next_day=r'next day:  $%d^{+%d}_{-%d}$' %(\n",
    "                            int( infc ),int( pinfc ),int( minfc )  )\n",
    "\n",
    "\n",
    "    #ax = plt.subplot()\n",
    "    #plt.figure( figsize=(8,5) )\n",
    "    plt.plot(x,y,'r-',label='World')\n",
    "    plt.plot(xx,\n",
    "            exponential_model(xx,exp_fit[0][0],exp_fit[0][1],exp_fit[0][2]),\n",
    "            'k:',\n",
    "            label=r'$%s%g\\cdot e^{%g[t-(%g)]}$' %(texmodel,\n",
    "                                                exp_fit[0][0].round(2),\n",
    "                                                exp_fit[0][1].round(3),\n",
    "                                                exp_fit[0][2].round(2)) )\n",
    "    plt.plot(x[-1]+1,infc,'r*',markersize=7,\n",
    "            label=next_day\n",
    "            )\n",
    "    if rtx is not None:\n",
    "        plt.plot(x[-1]+rtx,rty,'b*',markersize=7,\n",
    "            label='real time → {}'.format(rty)\n",
    "            )\n",
    "\n",
    "    \n",
    "\n",
    "    plt.legend()#(loc='lower right')#(0.8,0.1),fontsize=15)\n",
    "    plt.xscale('linear')\n",
    "    plt.yscale(ylinlog)\n",
    "    plt.xlabel('days from {} infected'.format(round(ymin,-3)),size=15)\n",
    "    plt.ylabel('infected '+dt,size=13 )\n",
    "    plt.title('Yesterday: {} → Today ({}): {} infected'.format(y[-2],dmax,y[-1]))\n",
    "    if ylinlog=='linear':\n",
    "        xmax=x[-1]+2\n",
    "        ymax=y[-1]+5E5#+infc#+Δb\n",
    "    else:\n",
    "        xmax=xx[-1]\n",
    "        ymax=max_forecast+30000\n",
    "\n",
    "    #plt.text(xmax+1,ymin,'https://github.com/restrepo/COVID-19',rotation=90)        \n",
    "    plt.xlim(xx[0],xmax+extra_days-3)\n",
    "    plt.ylim(ymin,ymax)\n",
    "    plt.grid()\n",
    "    print('last  update: {} at {}'.format(today['Confirmed Case'].sum(),today.columns[1]))\n",
    "    plt.tight_layout()\n",
    "    plt.savefig('world.png')\n",
    "    plt.savefig('world.pdf')\n",
    "    \n",
    "    if os.getcwd()=='/content':    \n",
    "        !cp world.png ../gdrive/My\\ Drive/\n",
    "        !cp world.pdf ../gdrive/My\\ Drive/\n",
    "    else:\n",
    "        !git commit -am 'automatic update' 2>/dev/null > /dev/null\n",
    "        !git push origin master 2>/dev/null > /dev/null\n",
    "    time.sleep(wait_minutes*60)"
   ]
  },
  {
   "cell_type": "code",
   "execution_count": 10,
   "metadata": {
    "colab": {},
    "colab_type": "code",
    "id": "Mmtz2dwOa7ti"
   },
   "outputs": [
    {
     "name": "stdout",
     "output_type": "stream",
     "text": [
      "5.698204040527344e-05\n"
     ]
    }
   ],
   "source": [
    "s=time.time()\n",
    "#time.sleep(wait_minutes*60)\n",
    "print(time.time()-s)"
   ]
  },
  {
   "cell_type": "code",
   "execution_count": 11,
   "metadata": {
    "colab": {},
    "colab_type": "code",
    "id": "f0etVs6E-l0M"
   },
   "outputs": [
    {
     "ename": "RuntimeError",
     "evalue": "Optimal parameters not found: Number of calls to function has reached maxfev = 800.",
     "output_type": "error",
     "traceback": [
      "\u001b[0;31m---------------------------------------------------------------------------\u001b[0m",
      "\u001b[0;31mRuntimeError\u001b[0m                              Traceback (most recent call last)",
      "\u001b[0;32m<ipython-input-11-db29099762d0>\u001b[0m in \u001b[0;36m<module>\u001b[0;34m\u001b[0m\n\u001b[1;32m      1\u001b[0m \u001b[0mstart_day\u001b[0m\u001b[0;34m=\u001b[0m\u001b[0;34m'3/12/20'\u001b[0m\u001b[0;34m\u001b[0m\u001b[0m\n\u001b[0;32m----> 2\u001b[0;31m \u001b[0msp\u001b[0m\u001b[0;34m=\u001b[0m\u001b[0mdataframe_doubling\u001b[0m\u001b[0;34m(\u001b[0m\u001b[0mx\u001b[0m\u001b[0;34m,\u001b[0m\u001b[0my\u001b[0m\u001b[0;34m,\u001b[0m\u001b[0mstart_date\u001b[0m\u001b[0;34m=\u001b[0m\u001b[0mstart_day\u001b[0m\u001b[0;34m,\u001b[0m\u001b[0mfinal_date\u001b[0m\u001b[0;34m=\u001b[0m\u001b[0mdmax\u001b[0m\u001b[0;34m)\u001b[0m\u001b[0;34m\u001b[0m\u001b[0m\n\u001b[0m",
      "\u001b[0;32m<ipython-input-3-52164de3e08e>\u001b[0m in \u001b[0;36mdataframe_doubling\u001b[0;34m(x, y, start_date, final_date)\u001b[0m\n\u001b[1;32m     75\u001b[0m     \u001b[0mspd\u001b[0m\u001b[0;34m=\u001b[0m\u001b[0;34m{\u001b[0m\u001b[0;34m'start_date'\u001b[0m\u001b[0;34m:\u001b[0m\u001b[0mstart_date\u001b[0m\u001b[0;34m,\u001b[0m\u001b[0;34m'final_date'\u001b[0m\u001b[0;34m:\u001b[0m\u001b[0mfinal_date\u001b[0m\u001b[0;34m}\u001b[0m\u001b[0;34m\u001b[0m\u001b[0m\n\u001b[1;32m     76\u001b[0m     \u001b[0;32mfor\u001b[0m \u001b[0md\u001b[0m \u001b[0;32min\u001b[0m \u001b[0mx\u001b[0m\u001b[0;34m[\u001b[0m\u001b[0;36m2\u001b[0m\u001b[0;34m:\u001b[0m\u001b[0;34m]\u001b[0m\u001b[0;34m:\u001b[0m\u001b[0;34m\u001b[0m\u001b[0m\n\u001b[0;32m---> 77\u001b[0;31m         \u001b[0mexp_fit\u001b[0m \u001b[0;34m=\u001b[0m \u001b[0mopt\u001b[0m\u001b[0;34m.\u001b[0m\u001b[0mcurve_fit\u001b[0m\u001b[0;34m(\u001b[0m\u001b[0mexponential_model\u001b[0m\u001b[0;34m,\u001b[0m\u001b[0mx\u001b[0m\u001b[0;34m[\u001b[0m\u001b[0;34m:\u001b[0m\u001b[0md\u001b[0m\u001b[0;34m]\u001b[0m\u001b[0;34m,\u001b[0m\u001b[0my\u001b[0m\u001b[0;34m[\u001b[0m\u001b[0;34m:\u001b[0m\u001b[0md\u001b[0m\u001b[0;34m]\u001b[0m\u001b[0;34m,\u001b[0m\u001b[0mp0\u001b[0m\u001b[0;34m=\u001b[0m\u001b[0;34m[\u001b[0m\u001b[0;36m1\u001b[0m\u001b[0;34m,\u001b[0m\u001b[0;36m0.4\u001b[0m\u001b[0;34m,\u001b[0m\u001b[0;36m3\u001b[0m\u001b[0;34m]\u001b[0m\u001b[0;34m)\u001b[0m\u001b[0;34m\u001b[0m\u001b[0m\n\u001b[0m\u001b[1;32m     78\u001b[0m         \u001b[0mspd\u001b[0m\u001b[0;34m[\u001b[0m\u001b[0;34m'g'\u001b[0m\u001b[0;34m]\u001b[0m\u001b[0;34m=\u001b[0m\u001b[0mexp_fit\u001b[0m\u001b[0;34m[\u001b[0m\u001b[0;36m0\u001b[0m\u001b[0;34m]\u001b[0m\u001b[0;34m[\u001b[0m\u001b[0;36m1\u001b[0m\u001b[0;34m]\u001b[0m\u001b[0;34m\u001b[0m\u001b[0m\n\u001b[1;32m     79\u001b[0m         \u001b[0mN0\u001b[0m\u001b[0;34m=\u001b[0m\u001b[0mexp_fit\u001b[0m\u001b[0;34m[\u001b[0m\u001b[0;36m0\u001b[0m\u001b[0;34m]\u001b[0m\u001b[0;34m[\u001b[0m\u001b[0;36m0\u001b[0m\u001b[0;34m]\u001b[0m\u001b[0;34m;\u001b[0m\u001b[0mg\u001b[0m\u001b[0;34m=\u001b[0m\u001b[0mexp_fit\u001b[0m\u001b[0;34m[\u001b[0m\u001b[0;36m0\u001b[0m\u001b[0;34m]\u001b[0m\u001b[0;34m[\u001b[0m\u001b[0;36m1\u001b[0m\u001b[0;34m]\u001b[0m\u001b[0;34m;\u001b[0m\u001b[0mt0\u001b[0m\u001b[0;34m=\u001b[0m\u001b[0mexp_fit\u001b[0m\u001b[0;34m[\u001b[0m\u001b[0;36m0\u001b[0m\u001b[0;34m]\u001b[0m\u001b[0;34m[\u001b[0m\u001b[0;36m2\u001b[0m\u001b[0;34m]\u001b[0m\u001b[0;34m\u001b[0m\u001b[0m\n",
      "\u001b[0;32m/usr/local/lib/python3.5/dist-packages/scipy/optimize/minpack.py\u001b[0m in \u001b[0;36mcurve_fit\u001b[0;34m(f, xdata, ydata, p0, sigma, absolute_sigma, check_finite, bounds, method, jac, **kwargs)\u001b[0m\n\u001b[1;32m    758\u001b[0m         \u001b[0mcost\u001b[0m \u001b[0;34m=\u001b[0m \u001b[0mnp\u001b[0m\u001b[0;34m.\u001b[0m\u001b[0msum\u001b[0m\u001b[0;34m(\u001b[0m\u001b[0minfodict\u001b[0m\u001b[0;34m[\u001b[0m\u001b[0;34m'fvec'\u001b[0m\u001b[0;34m]\u001b[0m \u001b[0;34m**\u001b[0m \u001b[0;36m2\u001b[0m\u001b[0;34m)\u001b[0m\u001b[0;34m\u001b[0m\u001b[0m\n\u001b[1;32m    759\u001b[0m         \u001b[0;32mif\u001b[0m \u001b[0mier\u001b[0m \u001b[0;32mnot\u001b[0m \u001b[0;32min\u001b[0m \u001b[0;34m[\u001b[0m\u001b[0;36m1\u001b[0m\u001b[0;34m,\u001b[0m \u001b[0;36m2\u001b[0m\u001b[0;34m,\u001b[0m \u001b[0;36m3\u001b[0m\u001b[0;34m,\u001b[0m \u001b[0;36m4\u001b[0m\u001b[0;34m]\u001b[0m\u001b[0;34m:\u001b[0m\u001b[0;34m\u001b[0m\u001b[0m\n\u001b[0;32m--> 760\u001b[0;31m             \u001b[0;32mraise\u001b[0m \u001b[0mRuntimeError\u001b[0m\u001b[0;34m(\u001b[0m\u001b[0;34m\"Optimal parameters not found: \"\u001b[0m \u001b[0;34m+\u001b[0m \u001b[0merrmsg\u001b[0m\u001b[0;34m)\u001b[0m\u001b[0;34m\u001b[0m\u001b[0m\n\u001b[0m\u001b[1;32m    761\u001b[0m     \u001b[0;32melse\u001b[0m\u001b[0;34m:\u001b[0m\u001b[0;34m\u001b[0m\u001b[0m\n\u001b[1;32m    762\u001b[0m         \u001b[0;31m# Rename maxfev (leastsq) to max_nfev (least_squares), if specified.\u001b[0m\u001b[0;34m\u001b[0m\u001b[0;34m\u001b[0m\u001b[0m\n",
      "\u001b[0;31mRuntimeError\u001b[0m: Optimal parameters not found: Number of calls to function has reached maxfev = 800."
     ]
    }
   ],
   "source": [
    "start_day='3/12/20'\n",
    "sp=dataframe_doubling(x,y,start_date=start_day,final_date=dmax)"
   ]
  },
  {
   "cell_type": "code",
   "execution_count": null,
   "metadata": {
    "colab": {},
    "colab_type": "code",
    "id": "fr2lQ8gjWlnk"
   },
   "outputs": [],
   "source": [
    "plt.plot(sp['day'],sp['Td'],'k-')\n",
    "plt.plot(sp['day'],sp['Td'],'r.')\n",
    "plt.title('Example: A DT of 2 means that infections double every 2 days')\n",
    "plt.xlabel('days from {}'.format(\n",
    "    datetime.datetime.strptime(start_day,\"%m/%d/%y\").strftime(\"%B %-d, %Y\")\n",
    "  ))\n",
    "plt.ylabel('Doubling time (DT) in units of days')\n",
    "plt.savefig('doublingtime.png')"
   ]
  },
  {
   "cell_type": "code",
   "execution_count": null,
   "metadata": {
    "colab": {},
    "colab_type": "code",
    "id": "WbmFUuGC7AJh"
   },
   "outputs": [],
   "source": [
    "γ=1./4.1 # 1/days #More conservative value\n",
    "μ=1/(70*365) #1/days #Does not matter at all!\n",
    "plt.plot(sp['day'],RO(sp['Td'].values,γ,μ   ),'ro' )\n",
    "plt.plot(sp['day'],RO(sp['Td'].values,γ,μ   ) )\n",
    "plt.xlabel('days',size=15)\n",
    "plt.ylabel('RO',size=15)"
   ]
  },
  {
   "cell_type": "code",
   "execution_count": null,
   "metadata": {
    "colab": {},
    "colab_type": "code",
    "id": "CUmqi1IYr4uA"
   },
   "outputs": [],
   "source": [
    "today['Confirmed Case'].sum()"
   ]
  },
  {
   "cell_type": "code",
   "execution_count": null,
   "metadata": {
    "colab": {},
    "colab_type": "code",
    "id": "GiIT_GRNt_RR"
   },
   "outputs": [],
   "source": [
    "today.columns[1]"
   ]
  },
  {
   "cell_type": "code",
   "execution_count": null,
   "metadata": {
    "colab": {},
    "colab_type": "code",
    "id": "uSFgMamzrhjk"
   },
   "outputs": [],
   "source": [
    "today.groupby('Nation').sum().loc['COLOMBIA']"
   ]
  },
  {
   "cell_type": "code",
   "execution_count": null,
   "metadata": {
    "colab": {},
    "colab_type": "code",
    "id": "cYj3zOZHuspO"
   },
   "outputs": [],
   "source": [
    "today.groupby('Nation').sum().loc['AUSTRALIA']"
   ]
  },
  {
   "cell_type": "code",
   "execution_count": null,
   "metadata": {
    "colab": {},
    "colab_type": "code",
    "id": "Dc4DuhIMuv1j"
   },
   "outputs": [],
   "source": [
    "today.groupby('Nation').sum().loc['BRAZIL']"
   ]
  },
  {
   "cell_type": "code",
   "execution_count": null,
   "metadata": {
    "colab": {},
    "colab_type": "code",
    "id": "JcpV4dYFOsds"
   },
   "outputs": [],
   "source": []
  },
  {
   "cell_type": "code",
   "execution_count": null,
   "metadata": {
    "colab": {},
    "colab_type": "code",
    "id": "3KGq5Uh2PPHK"
   },
   "outputs": [],
   "source": []
  }
 ],
 "metadata": {
  "colab": {
   "include_colab_link": true,
   "name": "covid_real_time.ipynb",
   "provenance": []
  },
  "kernelspec": {
   "display_name": "Python 3",
   "language": "python",
   "name": "python3"
  }
 },
 "nbformat": 4,
 "nbformat_minor": 1
}
